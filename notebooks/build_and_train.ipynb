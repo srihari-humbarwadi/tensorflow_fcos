{
 "cells": [
  {
   "cell_type": "code",
   "execution_count": 1,
   "metadata": {},
   "outputs": [
    {
     "name": "stdout",
     "output_type": "stream",
     "text": [
      "TensorFlow: 2.0.0\n"
     ]
    }
   ],
   "source": [
    "import numpy as np\n",
    "from pprint import pprint\n",
    "import tensorflow as tf\n",
    "from tensorflow.keras.initializers import RandomNormal, Constant\n",
    "from tensorflow.keras.layers import (Input,\n",
    "                                     Conv2D, \n",
    "                                     Concatenate,\n",
    "                                     BatchNormalization,\n",
    "                                     Lambda,\n",
    "                                     ReLU,\n",
    "                                     Reshape,\n",
    "                                     Add)\n",
    "from tensorflow.keras.callbacks import TensorBoard, ModelCheckpoint\n",
    "from tensorflow.keras import backend as K\n",
    "from tqdm.notebook import tqdm\n",
    "\n",
    "print('TensorFlow:', tf.__version__)"
   ]
  },
  {
   "cell_type": "code",
   "execution_count": 2,
   "metadata": {},
   "outputs": [],
   "source": [
    "def conv_block(input_tensor=None,\n",
    "               filters=None,\n",
    "               kernel_size=None,\n",
    "               strides=1,\n",
    "               padding='same',\n",
    "               kernel_init='he_normal',\n",
    "               bias_init='zeros',\n",
    "               bn_act=True,\n",
    "               name_prefix=None):\n",
    "    \n",
    "    _x = Conv2D(filters=filters, kernel_size=kernel_size,\n",
    "                padding=padding, strides=strides,\n",
    "                kernel_initializer=kernel_init,\n",
    "                bias_initializer=bias_init,\n",
    "                name='{}_conv_{}x{}'.format(name_prefix,\n",
    "                                            kernel_size,\n",
    "                                            kernel_size))(input_tensor)\n",
    "    if bn_act:\n",
    "        _x = BatchNormalization(\n",
    "            name='{}_bn'.format(name_prefix))(_x)\n",
    "        _x = ReLU(name='{}_relu'.format(name_prefix))(_x)\n",
    "    return _x\n",
    "\n",
    "\n",
    "def upsample_like(input_tensor, target_tensor, name=None):\n",
    "    _, fh, fw, _ = target_tensor.shape\n",
    "    _upsampled_tensor = tf.image.resize(input_tensor,\n",
    "                                        size=[fh, fw],\n",
    "                                        method='nearest', \n",
    "                                        name=name)\n",
    "    return _upsampled_tensor\n",
    "\n",
    "\n",
    "\n",
    "class Scale(tf.keras.layers.Layer):\n",
    "    def __init__(self, init_value=1.0, **kwargs):\n",
    "        super(Scale, self).__init__(**kwargs)\n",
    "        self.init_value = init_value\n",
    "\n",
    "    def build(self, input_shape):\n",
    "        self.scale = \\\n",
    "            self.add_weight(name='scale',\n",
    "                            shape=[1],\n",
    "                            dtype=K.floatx(),\n",
    "                            trainable=True,\n",
    "                            initializer=Constant(value=self.init_value))\n",
    "\n",
    "    def call(self, x):\n",
    "        scaled_inputs = tf.multiply(self.scale, x)\n",
    "        return tf.exp(scaled_inputs)\n",
    "\n",
    "    def compute_output_shape(self, input_shape):\n",
    "        return input_shape\n",
    "\n",
    "    def get_config(self):\n",
    "        config = super(Scale, self).get_config()\n",
    "        return config"
   ]
  },
  {
   "cell_type": "code",
   "execution_count": 3,
   "metadata": {},
   "outputs": [],
   "source": [
    "class FCOS:\n",
    "    def __init__(self, config):\n",
    "        self._validate_config(config)\n",
    "        for attr in config:\n",
    "            setattr(self, attr, config[attr])\n",
    "        self._build_fpn()\n",
    "        self._build_model()\n",
    "        self._build_datasets()\n",
    "        self._build_optimizer()\n",
    "        self._build_callbacks()\n",
    "\n",
    "    def _validate_config(self, config):\n",
    "        attr_list = [\n",
    "            'mode',\n",
    "            'distribute_strategy',\n",
    "            'image_height',\n",
    "            'image_width',\n",
    "            'num_classes',\n",
    "            'data_dir',\n",
    "            'dataset_fn',\n",
    "            'batch_size',\n",
    "            'epochs',\n",
    "            'learning_rate',\n",
    "            'model_dir',\n",
    "            'tensorboard_log_dir'\n",
    "        ]\n",
    "        for attr in attr_list:\n",
    "            assert attr in config, 'Missing {} in config'.format(attr)\n",
    "        pprint('****Initializing FCOS with the following config')\n",
    "        pprint(config)\n",
    "\n",
    "    def _build_fpn(self):\n",
    "        '''\n",
    "            From the FPN paper, \"To start the iteration, we simply attach a\n",
    "            1×1 convolutional layer on C5 to produce the coarsest resolution\n",
    "            map. Finally, we append a 3×3 convolution on each merged map to\n",
    "            generate the final feature map, which is to reduce the aliasing\n",
    "            effect of upsampling. This final set of feature maps is called\n",
    "            {P2, P3, P4, P5}, corresponding to {C2, C3, C4, C5} that are\n",
    "            respectively of the same spatial sizes\".\n",
    "            From the FCOS paper, \"P6 and P7 are produced by applying one\n",
    "            convolutional layer with the stride being 2 on P5 and P6,\n",
    "            respectively\".\n",
    "        '''\n",
    "        with self.distribute_strategy.scope():\n",
    "            pprint('****Building FPN')\n",
    "            self._backbone = tf.keras.applications.ResNet50V2(\n",
    "                input_shape=[self.image_height, self.image_width, 3],\n",
    "                weights='imagenet',\n",
    "                include_top=False)\n",
    "            C5 = self._backbone.get_layer('post_relu').output\n",
    "            C4 = self._backbone.get_layer('conv4_block6_1_relu').output\n",
    "            C3 = self._backbone.get_layer('conv3_block4_1_relu').output\n",
    "\n",
    "            M5 = conv_block(C5, 256, 1, bn_act=False, name_prefix='C5')\n",
    "            P5 = conv_block(M5, 256, 3, bn_act=False, name_prefix='P5')\n",
    "            M5_upsampled = upsample_like(M5, C4, name='M5_upsampled')\n",
    "\n",
    "            M4 = conv_block(C4, 256, 1, bn_act=False, name_prefix='C4')\n",
    "            M4 = tf.keras.layers.Add(name='M4_M5_add')([M4, M5_upsampled])\n",
    "            P4 = conv_block(M4, 256, 3, bn_act=False, name_prefix='P4')\n",
    "            M4_upsampled = upsample_like(M4, C3, name='M4_upsampled')\n",
    "\n",
    "            M3 = conv_block(C3, 256, 1, bn_act=False, name_prefix='C3')\n",
    "            P3 = Add(name='M3_M4_add')([M3, M4_upsampled])\n",
    "            P3 = conv_block(P3, 256, 3, bn_act=False, name_prefix='P3')\n",
    "\n",
    "            P6 = conv_block(P5, 256, 3, 2, bn_act=False, name_prefix='P6')\n",
    "            P6_relu = ReLU(name='P6_relu')(P6)\n",
    "            P7 = conv_block(P6_relu, 256, 3, 2, bn_act=False, name_prefix='P7')\n",
    "\n",
    "            self._pyramid_features = {\n",
    "                'P3': P3,\n",
    "                'P4': P4,\n",
    "                'P5': P5,\n",
    "                'P6': P6,\n",
    "                'P7': P7\n",
    "            }\n",
    "\n",
    "    def _get_classification_head(self, p=0.01):\n",
    "        kernel_init = RandomNormal(0.0, 0.01)\n",
    "        bias_init = Constant(-np.log((1 - p) / p))\n",
    "\n",
    "        input_layer = Input(shape=[None, None, 256])\n",
    "        x = input_layer\n",
    "\n",
    "        for i in range(4):\n",
    "            x = conv_block(x, 256, 3, kernel_init=kernel_init,\n",
    "                           bn_act=False, name_prefix='c_head_{}'.format(i))\n",
    "        classification_logits = conv_block(x, self.num_classes,\n",
    "                                           3, kernel_init=kernel_init,\n",
    "                                           bias_init=bias_init, bn_act=False,\n",
    "                                           name_prefix='cls_logits')\n",
    "        centerness_logits = conv_block(x, 1, 3,\n",
    "                                       kernel_init=kernel_init, bn_act=False,\n",
    "                                       name_prefix='ctr_logits')\n",
    "        classification_logits = Reshape(\n",
    "            target_shape=[-1, self.num_classes])(classification_logits)\n",
    "        centerness_logits = Reshape(target_shape=[-1, 1])(centerness_logits)\n",
    "\n",
    "        outputs = [classification_logits, centerness_logits]\n",
    "        return tf.keras.Model(inputs=[input_layer],\n",
    "                              outputs=[outputs],\n",
    "                              name='classification_head')\n",
    "\n",
    "    def _get_regression_head(self):\n",
    "        '''\n",
    "            From the FCOS paper, \"since the regression targets are always\n",
    "            positive we employ exp(x) to map any real number to (0, ∞) on\n",
    "            the top of the regression branch\"\n",
    "        '''\n",
    "        kernel_init = RandomNormal(0.0, 0.01)\n",
    "        input_layer = Input(shape=[None, None, 256])\n",
    "        x = input_layer\n",
    "\n",
    "        for i in range(4):\n",
    "            x = conv_block(x, 256, 3, kernel_init=kernel_init,\n",
    "                           bn_act=False, name_prefix='r_head_{}'.format(i))\n",
    "        regression_logits = conv_block(x, 4, 3, kernel_init=kernel_init,\n",
    "                                       bn_act=False, name_prefix='reg_logits')\n",
    "        regression_logits = Reshape(target_shape=[-1, 4])(regression_logits)\n",
    "        return tf.keras.Model(inputs=[input_layer],\n",
    "                              outputs=[regression_logits],\n",
    "                              name='regression_head')\n",
    "\n",
    "    def _build_model(self):\n",
    "        with self.distribute_strategy.scope():\n",
    "            pprint('****Building FCOS')\n",
    "            self._classification_head = self._get_classification_head()\n",
    "            self._regression_head = self._get_regression_head()\n",
    "\n",
    "            self._classification_logits = []\n",
    "            self._centerness_logits = []\n",
    "            self._regression_logits = []\n",
    "\n",
    "            for i in range(3, 8):\n",
    "                feature = self._pyramid_features['P{}'.format(i)]\n",
    "                _cls_head_logits = self._classification_head(feature)\n",
    "                _reg_head_logits = self._regression_head(feature)\n",
    "                _reg_head_logits = \\\n",
    "                    Scale(init_value=1.0,\n",
    "                          name='P{}_reg_outputs'.format(i))(_reg_head_logits)\n",
    "\n",
    "                self._classification_logits.append(_cls_head_logits[0][0])\n",
    "                self._centerness_logits.append(_cls_head_logits[0][1])\n",
    "                self._regression_logits.append(_reg_head_logits)\n",
    "\n",
    "            self._classification_logits = Concatenate(\n",
    "                axis=1,\n",
    "                name='classification_outputs')(self._classification_logits)\n",
    "            self._centerness_logits = Concatenate(\n",
    "                axis=1, name='centerness_outputs')(self._centerness_logits)\n",
    "            self._regression_logits = Concatenate(\n",
    "                axis=1, name='regression_outputs')(self._regression_logits)\n",
    "\n",
    "            _image_input = self._backbone.input\n",
    "            outputs = [self._classification_logits,\n",
    "                       self._centerness_logits,\n",
    "                       self._regression_logits]\n",
    "            self.model = tf.keras.Model(\n",
    "                inputs=[_image_input], outputs=outputs, name='FCOS')\n",
    "            self.model.build([self.image_height, self.image_width, 3])\n",
    "\n",
    "    def _build_datasets(self):\n",
    "        pprint('****Building Datasets')\n",
    "        with self.distribute_strategy.scope():\n",
    "            self.train_dataset, self.val_dataset, \\\n",
    "                num_train_images, num_val_images =  \\\n",
    "                self.dataset_fn(self.image_height,\n",
    "                                self.image_width,\n",
    "                                self.data_dir,\n",
    "                                self.batch_size)\n",
    "\n",
    "            self.train_steps = num_train_images // self.batch_size\n",
    "            self.val_steps = num_val_images // self.batch_size\n",
    "\n",
    "    def _build_callbacks(self):\n",
    "        pprint('****Setting Up Callbacks')\n",
    "        self.callbacks = [\n",
    "            TensorBoard(log_dir=self.tensorboard_log_dir),\n",
    "            ModelCheckpoint(filepath=self.model_dir + '/ckpt-{epoch:02d}',\n",
    "                            monitor='val_loss',\n",
    "                            save_weights_only=True,\n",
    "                            save_best_only=True)\n",
    "        ]\n",
    "\n",
    "    def _build_optimizer(self):\n",
    "        pprint('****Setting Up Optimizer')\n",
    "        self.optimizer = tf.keras.optimizers.Adam(lr=self.learning_rate)\n",
    "\n",
    "    def _classification_loss(self, alpha=0.25, gamma=2):\n",
    "        # TODO\n",
    "        #   a) Double check if tf.keras.Model.fit is handling\n",
    "        #      loss scaling for distributed training if not\n",
    "        #      use tf.nn.compute_average_loss fn\n",
    "        def focal_loss(y_true, y_pred):\n",
    "            fg_mask = tf.cast(y_true != 0, dtype=tf.float32)\n",
    "            y_true = tf.one_hot(\n",
    "                tf.cast(y_true, dtype=tf.int32), depth=self.num_classes + 1)\n",
    "            y_true = y_true[:, :, 1:]\n",
    "            y_pred_ = tf.sigmoid(y_pred)\n",
    "\n",
    "            at = alpha * y_true + (1 - y_true) * (1 - alpha)\n",
    "            pt = y_true * y_pred_ + (1 - y_true) * (1 - y_pred_)\n",
    "            f_loss = at * \\\n",
    "                tf.pow(1 - pt, gamma) * \\\n",
    "                tf.nn.sigmoid_cross_entropy_with_logits(\n",
    "                    labels=y_true, logits=y_pred)\n",
    "            f_loss = tf.reduce_mean(f_loss, axis=2)\n",
    "            f_loss = f_loss * fg_mask\n",
    "            f_loss = tf.reduce_sum(f_loss, axis=1, keepdims=True)\n",
    "            normalizer_value = tf.reduce_sum(fg_mask, axis=1, keepdims=True)\n",
    "            f_loss = f_loss / normalizer_value\n",
    "            return f_loss\n",
    "        return focal_loss\n",
    "\n",
    "    def _centerness_loss(self, labels, logits):\n",
    "        # TODO\n",
    "        #   a) Double check if tf.keras.Model.fit is handling\n",
    "        #      loss scaling for distributed training if not\n",
    "        #      use tf.nn.compute_average_loss fn\n",
    "        fg_mask = tf.cast(labels != 0, dtype=tf.float32)\n",
    "        bce_loss = tf.nn.sigmoid_cross_entropy_with_logits(\n",
    "            labels=labels, logits=logits)\n",
    "        bce_loss = bce_loss * fg_mask\n",
    "        bce_loss = tf.reduce_sum(bce_loss, axis=1)\n",
    "        normalizer_value = tf.reduce_sum(fg_mask, axis=1)\n",
    "        bce_loss = bce_loss / normalizer_value\n",
    "        return bce_loss\n",
    "\n",
    "    def _regression_loss(self, labels, logits):\n",
    "        # TODO\n",
    "        #   a) IOU loss\n",
    "        #   b) mask negative locations\n",
    "        #   c) normalize loss value\n",
    "        pass\n",
    "\n",
    "    def train(self):\n",
    "        loss_dict = {\n",
    "            'classification_outputs': self._classification_loss(alpha=0.25,\n",
    "                                                                gamma=2),\n",
    "            'centerness_outputs': self._centerness_loss,\n",
    "            'regression_outputs': self._regression_loss\n",
    "        }\n",
    "        with self.distribute_strategy.scope():\n",
    "            self.model.compile(optimizer=self.optimizer,\n",
    "                               loss=loss_dict)\n",
    "            self.model.fit(self.train_dataset,\n",
    "                           epochs=self.epochs,\n",
    "                           steps_per_epoch=self.training_steps,\n",
    "                           validation_data=self.val_dataset,\n",
    "                           validation_steps=self.val_steps,\n",
    "                           validation_freq=2,\n",
    "                           callbacks=self.callbacks)\n"
   ]
  },
  {
   "cell_type": "code",
   "execution_count": 4,
   "metadata": {},
   "outputs": [],
   "source": [
    "@tf.function\n",
    "def flip_data(image, boxes, w):\n",
    "    if tf.random.uniform(()) > 0.5:\n",
    "        image = tf.image.flip_left_right(image)\n",
    "        boxes = tf.stack([\n",
    "            w - boxes[:, 2],\n",
    "            boxes[:, 1],\n",
    "            w - boxes[:, 0],\n",
    "            boxes[:, 3]\n",
    "        ], axis=-1)\n",
    "    return image, boxes\n",
    "\n",
    "\n",
    "@tf.function\n",
    "def random_jitter(image):\n",
    "    # ToDo\n",
    "    pass\n",
    "\n",
    "\n",
    "def compute_area(boxes):\n",
    "    h_ = boxes[:, 2] - boxes[:, 0]\n",
    "    w_ = boxes[:, 3] - boxes[:, 1]\n",
    "    return h_ * w_\n",
    "\n",
    "\n",
    "def compute_feature_sizes(H, W):\n",
    "    fm_sizes = []\n",
    "    for i in range(3, 8):\n",
    "        stride = 2.**i\n",
    "        fm_sizes.append([tf.math.ceil(H / stride),\n",
    "                         tf.math.ceil(W / stride), stride])\n",
    "    return fm_sizes\n",
    "\n",
    "\n",
    "def get_centers(fm_h, fm_w, stride=None):\n",
    "    rx = (tf.range(fm_w) + 0.5) * (stride)\n",
    "    ry = (tf.range(fm_h) + 0.5) * (stride)\n",
    "    sx, sy = tf.meshgrid(rx, ry)\n",
    "    cxy = tf.stack([sx, sy], axis=-1)\n",
    "    return cxy\n",
    "\n",
    "\n",
    "def get_all_centers(H, W):\n",
    "    centers_list = []\n",
    "    feature_sizes = compute_feature_sizes(H, W)\n",
    "    for fm_h, fm_w, stride in feature_sizes:\n",
    "        cyx = get_centers(fm_h, fm_w, stride)\n",
    "        cyx = tf.reshape(cyx, shape=[-1, 2])\n",
    "        centers_list.append(cyx)\n",
    "    return centers_list\n",
    "\n",
    "\n",
    "@tf.function(input_signature=[\n",
    "    tf.TensorSpec(shape=[None, 2], dtype=tf.float32),\n",
    "    tf.TensorSpec(shape=[None, 5], dtype=tf.float32),\n",
    "    tf.TensorSpec(shape=[], dtype=tf.float32),\n",
    "    tf.TensorSpec(shape=[], dtype=tf.float32)\n",
    "])\n",
    "def compute_targets_(centers, labels, low, high):\n",
    "    '''\n",
    "        From the FCOS paper, \"Specifically, location (x, y) is\n",
    "        considered as a positive sample if it falls into any\n",
    "        ground-truth box and the class label c* of the location is\n",
    "        the class label of the ground-truth box. Otherwise it is a\n",
    "        negative sample and class* = 0 (background class)\n",
    "        Besides the label for classification, we also have a 4D\n",
    "        real vector t* = (l*, t*, r*, b*) being the regression\n",
    "        targets for the location. Here l*, t*, r* and b* are the\n",
    "        distances from the location to the four sides of the bounding\n",
    "        box ...If a location falls into multiple bounding boxes, it is\n",
    "        considered as an ambiguous sample. We simply choose the\n",
    "        bounding box with minimal area as its regression target.\n",
    "        ...we firstly compute the regressiontargets l*, t*, r* and b*\n",
    "        for each location on all feature levels. Next, if a location\n",
    "        satisfies max(l*, t*, r*, b*) > mi or max(l*, t*, r*, b*) < mi−1,\n",
    "        it is set as a negative sample and is thus not required to\n",
    "        regress a bounding box anymore. Here mi is the maximum distance\n",
    "        that feature level i needs to regress. In this work, m2, m3, m4,\n",
    "        m5, m6 and m7 are set as 0, 64, 128, 256, 512 and ∞, respectively\"\n",
    "        Args:\n",
    "            centers (M, 2): Centers for the current feature level\n",
    "            labels (N, 5):  All labels for the current image\n",
    "            low: Lower limit for ltrb value for the current feature level\n",
    "            high: Upper limit for ltrb value for the current feature level\n",
    "    '''\n",
    "    boxes_ = labels[:, :4]\n",
    "    class_ids_ = labels[:, 4]\n",
    "\n",
    "    # Sorted the boxes by area in ascending order so that\n",
    "    # we pick the smallest box when computing ltbr values\n",
    "    areas = compute_area(boxes_)\n",
    "    sorted_indices = tf.argsort(areas)\n",
    "    boxes = tf.gather(boxes_, indices=sorted_indices)\n",
    "    class_ids = tf.gather(class_ids_, indices=sorted_indices)\n",
    "\n",
    "    xy_min_ = boxes[:, :2]\n",
    "    xy_max_ = boxes[:, 2:]\n",
    "    lt_ = centers[:, None] - xy_min_\n",
    "    rb_ = xy_max_ - centers[:, None]\n",
    "    ltrb_ = tf.concat([lt_, rb_], axis=2)  # (M, N, 4)\n",
    "\n",
    "    # check if max(lbtr) lies in the valid_range for this\n",
    "    # feature level\n",
    "    max_ltrb_ = tf.reduce_max(ltrb_, axis=2)  # (M, N)\n",
    "    mask_ltrb_size = tf.logical_and(max_ltrb_ > low, max_ltrb_ < high)\n",
    "\n",
    "    mask_lt = tf.logical_and(ltrb_[:, :, 0] > 0, ltrb_[:, :, 1] > 0)\n",
    "    mask_rb = tf.logical_and(ltrb_[:, :, 2] > 0, ltrb_[:, :, 3] > 0)\n",
    "    mask = tf.logical_and(mask_lt, mask_rb)\n",
    "    mask = tf.logical_and(mask, mask_ltrb_size)  # (M, N)\n",
    "\n",
    "    mask = tf.cast(mask, dtype=tf.float32)\n",
    "    fg_mask = tf.reduce_sum(mask, axis=1) != 0  # (M,)\n",
    "    fg_mask = tf.cast(fg_mask, dtype=tf.float32)\n",
    "    fg_mask = tf.tile(fg_mask[:, None], multiples=[1, 4])\n",
    "\n",
    "    valid_indices = tf.argmax(mask, axis=1)  # (M, )\n",
    "    matched_boxes = tf.gather(boxes, valid_indices)\n",
    "    matched_class_ids = tf.gather(class_ids, valid_indices) + 1\n",
    "\n",
    "    x_min, y_min, x_max, y_max = tf.split(matched_boxes,\n",
    "                                          num_or_size_splits=4,\n",
    "                                          axis=1)\n",
    "    l = tf.abs(centers[:, 0] - x_min[:, 0])\n",
    "    t = tf.abs(centers[:, 1] - y_min[:, 0])\n",
    "    r = tf.abs(x_max[:, 0] - centers[:, 0])\n",
    "    b = tf.abs(y_max[:, 0] - centers[:, 1])\n",
    "    lr = tf.stack([l, r], axis=1)\n",
    "    tb = tf.stack([t, b], axis=1)\n",
    "\n",
    "    min_lr = tf.reduce_min(lr, axis=1)\n",
    "    max_lr = tf.reduce_max(lr, axis=1)\n",
    "    min_tb = tf.reduce_min(tb, axis=1)\n",
    "    max_tb = tf.reduce_max(tb, axis=1)\n",
    "\n",
    "    classification_target = matched_class_ids * fg_mask[:, 0]\n",
    "    centerness_target = tf.sqrt(\n",
    "        (min_lr / max_lr) * (min_tb / max_tb)) * fg_mask[:, 0]\n",
    "    regression_target = tf.stack([l, t, r, b], axis=1) * fg_mask\n",
    "\n",
    "    return classification_target, centerness_target, regression_target\n",
    "\n",
    "\n",
    "def compute_targets(H, W, labels):\n",
    "    centers_list = get_all_centers(H, W)\n",
    "    m = [\n",
    "        [0.0, 64.0],\n",
    "        [64.0, 128.0],\n",
    "        [128.0, 256.0],\n",
    "        [256.0, 512.0],\n",
    "        [512.0, 1e8]]\n",
    "    classification_target = []\n",
    "    centerness_target = []\n",
    "    regression_target = []\n",
    "    for i in range(5):\n",
    "        centers = centers_list[i]\n",
    "        low, high = m[i]\n",
    "        cls_target, \\\n",
    "            ctr_target, \\\n",
    "            reg_target = compute_targets_(centers, labels, low, high)\n",
    "\n",
    "        classification_target.append(cls_target)\n",
    "        centerness_target.append(ctr_target)\n",
    "        regression_target.append(reg_target)\n",
    "\n",
    "    classification_target = tf.concat(classification_target, axis=0)\n",
    "    centerness_target = tf.concat(centerness_target, axis=0)\n",
    "    centerness_target = tf.expand_dims(centerness_target, axis=-1)\n",
    "    regression_target = tf.concat(regression_target, axis=0)\n",
    "    return classification_target, centerness_target, regression_target\n",
    "\n",
    "\n",
    "feature_description = {\n",
    "    'image': tf.io.FixedLenFeature([], tf.string),\n",
    "    'xmins': tf.io.VarLenFeature(tf.float32),\n",
    "    'ymins': tf.io.VarLenFeature(tf.float32),\n",
    "    'xmaxs': tf.io.VarLenFeature(tf.float32),\n",
    "    'ymaxs': tf.io.VarLenFeature(tf.float32),\n",
    "    'labels': tf.io.VarLenFeature(tf.float32)\n",
    "}\n",
    "\n",
    "\n",
    "@tf.function\n",
    "def parse_example(example_proto):\n",
    "    parsed_example = tf.io.parse_single_example(\n",
    "        example_proto, feature_description)\n",
    "    image = tf.image.decode_jpeg(parsed_example['image'], channels=3)\n",
    "    bboxes = tf.stack([\n",
    "        tf.sparse.to_dense(parsed_example['xmins']),\n",
    "        tf.sparse.to_dense(parsed_example['ymins']),\n",
    "        tf.sparse.to_dense(parsed_example['xmaxs']),\n",
    "        tf.sparse.to_dense(parsed_example['ymaxs'])\n",
    "    ], axis=-1)\n",
    "    class_ids = tf.reshape(tf.sparse.to_dense(\n",
    "        parsed_example['labels']), [-1, 1])\n",
    "    return image, bboxes, class_ids\n",
    "\n",
    "\n",
    "\n",
    "def load_data(h, w):\n",
    "    @tf.function\n",
    "    def load_data_(example_proto):\n",
    "        image, boxes_, class_ids = parse_example(example_proto)\n",
    "        image.set_shape([None, None, 3])\n",
    "        image = tf.image.resize(image, size=[h, w])\n",
    "        boxes = tf.stack([\n",
    "            tf.clip_by_value(boxes_[:, 0] * w, 0, w),\n",
    "            tf.clip_by_value(boxes_[:, 1] * h, 0, h),\n",
    "            tf.clip_by_value(boxes_[:, 2] * w, 0, w),\n",
    "            tf.clip_by_value(boxes_[:, 3] * h, 0, h)\n",
    "        ], axis=-1)\n",
    "        image, boxes = flip_data(image, boxes, w)\n",
    "        label = tf.concat([boxes, class_ids], axis=-1)\n",
    "        classification_target, centerness_target, regression_target = \\\n",
    "            compute_targets(h, w, label)\n",
    "        return image, \\\n",
    "            (classification_target, centerness_target, regression_target)\n",
    "    return load_data_"
   ]
  },
  {
   "cell_type": "code",
   "execution_count": 5,
   "metadata": {},
   "outputs": [],
   "source": [
    "def create_dataset(H, W, tf_records_pattern, batch_size):\n",
    "    autotune = tf.data.experimental.AUTOTUNE\n",
    "    options = tf.data.Options()\n",
    "    options.experimental_deterministic = False\n",
    "    train_files = tf.data.Dataset.list_files(tf_records_pattern)\n",
    "    dataset = train_files.interleave(tf.data.TFRecordDataset,\n",
    "                                     cycle_length=16,\n",
    "                                     block_length=16,\n",
    "                                     num_parallel_calls=autotune)\n",
    "    dataset = dataset.map(\n",
    "        load_data(H, W), num_parallel_calls=autotune)\n",
    "    dataset = dataset.shuffle(512)\n",
    "    dataset = dataset.batch(batch_size, drop_remainder=True).repeat()\n",
    "    dataset = dataset.prefetch(autotune)\n",
    "    dataset = dataset.with_options(options)\n",
    "    return dataset\n",
    "\n",
    "\n",
    "def dataset_fn(H, W, data_dir, batch_size):\n",
    "    train_tf_records_pattern = data_dir + '/train*'\n",
    "    val_tf_records_pattern = data_dir + '/val*'\n",
    "    train_dataset = \\\n",
    "        create_dataset(H, W, train_tf_records_pattern, batch_size)\n",
    "    val_dataset = \\\n",
    "        create_dataset(H, W, val_tf_records_pattern, batch_size)\n",
    "    num_train_images = 70000\n",
    "    num_val_images = 10000\n",
    "    return train_dataset, val_dataset, num_train_images, num_val_images"
   ]
  },
  {
   "cell_type": "code",
   "execution_count": 6,
   "metadata": {},
   "outputs": [],
   "source": [
    "config = {\n",
    "    'mode': 'train',\n",
    "    'distribute_strategy': tf.distribute.MirroredStrategy(),\n",
    "    'image_height': 720,\n",
    "    'image_width': 1280,\n",
    "    'num_classes': 10,\n",
    "    'dataset_fn': dataset_fn,\n",
    "    'data_dir': '../tfrecords',\n",
    "    'batch_size': 4,\n",
    "    'epochs': 250,\n",
    "    'learning_rate': 1e-4,\n",
    "    'model_dir': 'model_files',\n",
    "    'tensorboard_log_dir': 'logs'\n",
    "}"
   ]
  },
  {
   "cell_type": "code",
   "execution_count": 7,
   "metadata": {},
   "outputs": [
    {
     "name": "stdout",
     "output_type": "stream",
     "text": [
      "'****Initializing FCOS with the following config'\n",
      "{'batch_size': 4,\n",
      " 'data_dir': '../tfrecords',\n",
      " 'dataset_fn': <function dataset_fn at 0x7fdbf611ad90>,\n",
      " 'distribute_strategy': <tensorflow.python.distribute.mirrored_strategy.MirroredStrategy object at 0x7fdbfea6f358>,\n",
      " 'epochs': 250,\n",
      " 'image_height': 720,\n",
      " 'image_width': 1280,\n",
      " 'learning_rate': 0.0001,\n",
      " 'mode': 'train',\n",
      " 'model_dir': 'model_files',\n",
      " 'num_classes': 10,\n",
      " 'tensorboard_log_dir': 'logs'}\n",
      "'****Building FPN'\n",
      "INFO:tensorflow:Reduce to /job:localhost/replica:0/task:0/device:CPU:0 then broadcast to ('/job:localhost/replica:0/task:0/device:CPU:0',).\n",
      "INFO:tensorflow:Reduce to /job:localhost/replica:0/task:0/device:CPU:0 then broadcast to ('/job:localhost/replica:0/task:0/device:CPU:0',).\n",
      "INFO:tensorflow:Reduce to /job:localhost/replica:0/task:0/device:CPU:0 then broadcast to ('/job:localhost/replica:0/task:0/device:CPU:0',).\n",
      "INFO:tensorflow:Reduce to /job:localhost/replica:0/task:0/device:CPU:0 then broadcast to ('/job:localhost/replica:0/task:0/device:CPU:0',).\n",
      "INFO:tensorflow:Reduce to /job:localhost/replica:0/task:0/device:CPU:0 then broadcast to ('/job:localhost/replica:0/task:0/device:CPU:0',).\n",
      "INFO:tensorflow:Reduce to /job:localhost/replica:0/task:0/device:CPU:0 then broadcast to ('/job:localhost/replica:0/task:0/device:CPU:0',).\n",
      "INFO:tensorflow:Reduce to /job:localhost/replica:0/task:0/device:CPU:0 then broadcast to ('/job:localhost/replica:0/task:0/device:CPU:0',).\n",
      "INFO:tensorflow:Reduce to /job:localhost/replica:0/task:0/device:CPU:0 then broadcast to ('/job:localhost/replica:0/task:0/device:CPU:0',).\n",
      "INFO:tensorflow:Reduce to /job:localhost/replica:0/task:0/device:CPU:0 then broadcast to ('/job:localhost/replica:0/task:0/device:CPU:0',).\n",
      "INFO:tensorflow:Reduce to /job:localhost/replica:0/task:0/device:CPU:0 then broadcast to ('/job:localhost/replica:0/task:0/device:CPU:0',).\n",
      "'****Building FCOS'\n",
      "'****Building Datasets'\n",
      "'****Setting Up Optimizer'\n",
      "'****Setting Up Callbacks'\n"
     ]
    }
   ],
   "source": [
    "fcos = FCOS(config)"
   ]
  },
  {
   "cell_type": "code",
   "execution_count": 8,
   "metadata": {},
   "outputs": [
    {
     "data": {
      "application/vnd.jupyter.widget-view+json": {
       "model_id": "ad634167820b4c52ba372428a8bec089",
       "version_major": 2,
       "version_minor": 0
      },
      "text/plain": [
       "HBox(children=(IntProgress(value=0, max=200), HTML(value='')))"
      ]
     },
     "metadata": {},
     "output_type": "display_data"
    },
    {
     "name": "stdout",
     "output_type": "stream",
     "text": [
      "\n"
     ]
    }
   ],
   "source": [
    "dummy_tensor = tf.random.normal(shape=[4, 720, 1280, 3])\n",
    "for i in tqdm(range(200)):\n",
    "    dummy_output = fcos.model(dummy_tensor, training=False)"
   ]
  },
  {
   "cell_type": "code",
   "execution_count": 97,
   "metadata": {},
   "outputs": [],
   "source": [
    "tfrecords_base_dir = '../tfrecords'\n",
    "BATCH_SIZE = 2\n",
    "H, W = tf.constant([720., 1280.])\n",
    "autotune = tf.data.experimental.AUTOTUNE\n",
    "class_map = {value: idx for idx, value in enumerate(['bus',\n",
    "                                                     'traffic light',\n",
    "                                                     'traffic sign',\n",
    "                                                     'person',\n",
    "                                                     'bike',\n",
    "                                                     'truck',\n",
    "                                                     'motor',\n",
    "                                                     'car',\n",
    "                                                     'train',\n",
    "                                                     'rider'])}\n",
    "num_classes = len(class_map)"
   ]
  },
  {
   "cell_type": "code",
   "execution_count": 98,
   "metadata": {},
   "outputs": [
    {
     "data": {
      "text/plain": [
       "(TensorSpec(shape=(2, 720, 1280, 3), dtype=tf.float32, name=None),\n",
       " (TensorSpec(shape=(2, 19220), dtype=tf.float32, name=None),\n",
       "  TensorSpec(shape=(2, 19220, 1), dtype=tf.float32, name=None),\n",
       "  TensorSpec(shape=(2, 19220, 4), dtype=tf.float32, name=None)))"
      ]
     },
     "execution_count": 98,
     "metadata": {},
     "output_type": "execute_result"
    }
   ],
   "source": [
    "options = tf.data.Options()\n",
    "options.experimental_deterministic = False\n",
    "train_files = tf.data.Dataset.list_files('{}/train*'.format(tfrecords_base_dir))\n",
    "train_dataset = train_files.interleave(tf.data.TFRecordDataset,\n",
    "                                       cycle_length=16,\n",
    "                                       block_length=16,\n",
    "                                       num_parallel_calls=autotune)\n",
    "train_dataset = train_dataset.map(\n",
    "    load_data(H, W), num_parallel_calls=autotune)\n",
    "train_dataset = train_dataset.shuffle(512)\n",
    "train_dataset = train_dataset.batch(BATCH_SIZE, drop_remainder=True).repeat()\n",
    "train_dataset = train_dataset.prefetch(autotune)\n",
    "train_dataset = train_dataset.with_options(options)\n",
    "tf.data.experimental.get_structure(train_dataset)"
   ]
  },
  {
   "cell_type": "code",
   "execution_count": 99,
   "metadata": {},
   "outputs": [
    {
     "data": {
      "application/vnd.jupyter.widget-view+json": {
       "model_id": "64ba26e56f5b45378bfa7084908fbb5c",
       "version_major": 2,
       "version_minor": 0
      },
      "text/plain": [
       "HBox(children=(IntProgress(value=1, bar_style='info', max=1), HTML(value='')))"
      ]
     },
     "metadata": {},
     "output_type": "display_data"
    },
    {
     "name": "stdout",
     "output_type": "stream",
     "text": [
      "\n",
      "Number of positive centers: 820.0\n"
     ]
    },
    {
     "data": {
      "text/plain": [
       "(TensorShape([2, 720, 1280, 3]),\n",
       " TensorShape([2, 19220]),\n",
       " TensorShape([2, 19220, 1]),\n",
       " TensorShape([2, 19220, 4]))"
      ]
     },
     "execution_count": 99,
     "metadata": {},
     "output_type": "execute_result"
    }
   ],
   "source": [
    "def _centerness_loss(labels, logits):\n",
    "    # TODO\n",
    "    #   a) mask negative locations\n",
    "    #   b) normalize loss value\n",
    "    fg_mask = tf.cast(labels != 0, dtype=tf.float32)\n",
    "    tf.print(tf.reduce_sum(fg_mask))\n",
    "    bce_loss = tf.nn.sigmoid_cross_entropy_with_logits(\n",
    "        labels=labels, logits=logits)\n",
    "    bce_loss = bce_loss * fg_mask\n",
    "    tf.print(bce_loss.shape)\n",
    "    bce_loss = tf.reduce_sum(bce_loss, axis=1)\n",
    "    tf.print(bce_loss.shape)\n",
    "    normalizer_value = tf.reduce_sum(fg_mask, axis=1)\n",
    "    tf.print(normalizer_value.shape)\n",
    "    bce_loss = bce_loss / normalizer_value\n",
    "    return bce_loss\n",
    "\n",
    "for batch in tqdm(train_dataset.take(1)):\n",
    "    image, (cls_target, ctr_target, reg_target) = batch\n",
    "    cls_target = tf.cast(cls_target, dtype=tf.int32)\n",
    "    positive_centers = tf.reduce_sum(tf.cast(cls_target != 0,\n",
    "                                             dtype=tf.float32))\n",
    "print('Number of positive centers: {}'.format(positive_centers.numpy()))\n",
    "cls_out, ctr_out, reg_out = fcos.model(image, training=False)\n",
    "image.shape, cls_target.shape, ctr_target.shape, reg_target.shape"
   ]
  },
  {
   "cell_type": "code",
   "execution_count": 100,
   "metadata": {},
   "outputs": [
    {
     "name": "stdout",
     "output_type": "stream",
     "text": [
      "820\n",
      "TensorShape([2, 19220, 1])\n",
      "TensorShape([2, 1])\n",
      "TensorShape([2, 1])\n"
     ]
    },
    {
     "data": {
      "text/plain": [
       "<tf.Tensor: id=285911, shape=(2, 1), dtype=float32, numpy=\n",
       "array([[1.2419659],\n",
       "       [1.6207837]], dtype=float32)>"
      ]
     },
     "execution_count": 100,
     "metadata": {},
     "output_type": "execute_result"
    }
   ],
   "source": [
    "l = _centerness_loss(ctr_target, ctr_out)\n",
    "l"
   ]
  },
  {
   "cell_type": "code",
   "execution_count": null,
   "metadata": {},
   "outputs": [],
   "source": [
    "y_true = tf.one_hot(cls_target[0][0], 11)[1:]\n",
    "y_pred = cls_out[0][0]\n",
    "y_pred_ = tf.sigmoid(y_pred)\n",
    "alpha = 0.25\n",
    "gamma = 2.0\n",
    "\n",
    "at = alpha * y_true + (1 - y_true) * (1 - alpha)\n",
    "pt = y_true * y_pred_ + (1 - y_true) * (1 - y_pred_)\n",
    "f_loss = at * \\\n",
    "    tf.pow(1 - pt, gamma) * \\\n",
    "    tf.nn.sigmoid_cross_entropy_with_logits(\n",
    "        labels=y_true, logits=y_pred)\n",
    "f_loss"
   ]
  },
  {
   "cell_type": "code",
   "execution_count": 22,
   "metadata": {},
   "outputs": [
    {
     "data": {
      "text/plain": [
       "<tf.Tensor: id=256418, shape=(4,), dtype=float32, numpy=\n",
       "array([1.1283818e+00, 7.5377369e-07, 7.5377369e-07, 1.1283818e+00],\n",
       "      dtype=float32)>"
      ]
     },
     "execution_count": 22,
     "metadata": {},
     "output_type": "execute_result"
    }
   ],
   "source": [
    "y_true = tf.constant([1., 0., 0., 1.])\n",
    "y_pred = tf.constant([-4.59511985013459, -4.59511985013459, -4.59511985013459, -4.59511985013459])\n",
    "y_pred_ = tf.sigmoid(y_pred)\n",
    "alpha = 0.25\n",
    "gamma = 2.0\n",
    "\n",
    "at = alpha * y_true + (1 - y_true) * (1 - alpha)\n",
    "pt = y_true * y_pred_ + (1 - y_true) * (1 - y_pred_)\n",
    "f_loss = at * \\\n",
    "    tf.pow(1 - pt, gamma) * \\\n",
    "    tf.nn.sigmoid_cross_entropy_with_logits(\n",
    "        labels=y_true, logits=y_pred)\n",
    "f_loss"
   ]
  },
  {
   "cell_type": "code",
   "execution_count": 21,
   "metadata": {},
   "outputs": [
    {
     "data": {
      "text/plain": [
       "<tf.Tensor: id=256355, shape=(10,), dtype=float32, numpy=\n",
       "array([0.01023436, 0.00952402, 0.01098686, 0.01150885, 0.00954002,\n",
       "       0.01119524, 0.01038414, 0.00972429, 0.00950115, 0.01010294],\n",
       "      dtype=float32)>"
      ]
     },
     "execution_count": 21,
     "metadata": {},
     "output_type": "execute_result"
    }
   ],
   "source": []
  },
  {
   "cell_type": "code",
   "execution_count": null,
   "metadata": {},
   "outputs": [],
   "source": []
  }
 ],
 "metadata": {
  "kernelspec": {
   "display_name": "Python 3",
   "language": "python",
   "name": "python3"
  },
  "language_info": {
   "codemirror_mode": {
    "name": "ipython",
    "version": 3
   },
   "file_extension": ".py",
   "mimetype": "text/x-python",
   "name": "python",
   "nbconvert_exporter": "python",
   "pygments_lexer": "ipython3",
   "version": "3.6.8"
  },
  "widgets": {
   "application/vnd.jupyter.widget-state+json": {
    "state": {
     "01e045f6bb284273b6fb8a52554809bf": {
      "model_module": "@jupyter-widgets/controls",
      "model_module_version": "1.5.0",
      "model_name": "IntProgressModel",
      "state": {
       "bar_style": "success",
       "layout": "IPY_MODEL_d11c7e8e2557451e89d380ef3312accd",
       "max": 1,
       "style": "IPY_MODEL_575927b531544c91ad537ac3537c386f",
       "value": 1
      }
     },
     "02355559dfa946c3b1dcb443107aca11": {
      "model_module": "@jupyter-widgets/controls",
      "model_module_version": "1.5.0",
      "model_name": "DescriptionStyleModel",
      "state": {
       "description_width": ""
      }
     },
     "03c468e72546479d904053e377b84af1": {
      "model_module": "@jupyter-widgets/base",
      "model_module_version": "1.2.0",
      "model_name": "LayoutModel",
      "state": {}
     },
     "0426e67e507541479a9b1c1c7ce825b7": {
      "model_module": "@jupyter-widgets/controls",
      "model_module_version": "1.5.0",
      "model_name": "ProgressStyleModel",
      "state": {
       "description_width": "initial"
      }
     },
     "04d55507e4274fd6894c712227f1d6d1": {
      "model_module": "@jupyter-widgets/controls",
      "model_module_version": "1.5.0",
      "model_name": "ProgressStyleModel",
      "state": {
       "description_width": "initial"
      }
     },
     "063452684e08416bac930b34bc2a81dc": {
      "model_module": "@jupyter-widgets/controls",
      "model_module_version": "1.5.0",
      "model_name": "HTMLModel",
      "state": {
       "layout": "IPY_MODEL_67356d4a60274a3d9c2433467bb1de40",
       "style": "IPY_MODEL_e71100a00a814ed4a5188709eea486f7",
       "value": " 1/? [00:44&lt;00:00, 44.27s/it]"
      }
     },
     "093ec6c4c8c848348e5fedf7dbe51566": {
      "model_module": "@jupyter-widgets/controls",
      "model_module_version": "1.5.0",
      "model_name": "HTMLModel",
      "state": {
       "layout": "IPY_MODEL_8902c8a799f146219f10692f713aa66d",
       "style": "IPY_MODEL_2ae43369b3264361b96f7267899fa5ca",
       "value": " 1/? [00:01&lt;00:00,  1.80s/it]"
      }
     },
     "0963e7d9d0c443558fe96b16cce5a42f": {
      "model_module": "@jupyter-widgets/base",
      "model_module_version": "1.2.0",
      "model_name": "LayoutModel",
      "state": {}
     },
     "0a1d16bd02404c3cbe8562b8faced14e": {
      "model_module": "@jupyter-widgets/controls",
      "model_module_version": "1.5.0",
      "model_name": "HTMLModel",
      "state": {
       "layout": "IPY_MODEL_c94fdb5a31254302ac31a10fa2cede6b",
       "style": "IPY_MODEL_ab806bfd8fa54255a7fe7344dfa490c2",
       "value": " 1/? [04:18&lt;00:00, 258.81s/it]"
      }
     },
     "0a265f25a4ef4b5d8c2d070bf8d84f90": {
      "model_module": "@jupyter-widgets/controls",
      "model_module_version": "1.5.0",
      "model_name": "DescriptionStyleModel",
      "state": {
       "description_width": ""
      }
     },
     "0b6025e330c94eeca811c2f0c432b0b7": {
      "model_module": "@jupyter-widgets/base",
      "model_module_version": "1.2.0",
      "model_name": "LayoutModel",
      "state": {}
     },
     "0c10904a9e62434c91cfbac834e7c57d": {
      "model_module": "@jupyter-widgets/controls",
      "model_module_version": "1.5.0",
      "model_name": "HBoxModel",
      "state": {
       "children": [
        "IPY_MODEL_aafb83fbd2a941b68c423d5d8d943750",
        "IPY_MODEL_c103cc961b7249279639776f42dc3019"
       ],
       "layout": "IPY_MODEL_03c468e72546479d904053e377b84af1"
      }
     },
     "0ca803b739334940beacd59e9cfbf5ed": {
      "model_module": "@jupyter-widgets/controls",
      "model_module_version": "1.5.0",
      "model_name": "DescriptionStyleModel",
      "state": {
       "description_width": ""
      }
     },
     "0e1dcf2837fc4d709dad58e20dbada19": {
      "model_module": "@jupyter-widgets/base",
      "model_module_version": "1.2.0",
      "model_name": "LayoutModel",
      "state": {}
     },
     "0f63ef568ffd4b2c8ad9e52e0f8fe041": {
      "model_module": "@jupyter-widgets/base",
      "model_module_version": "1.2.0",
      "model_name": "LayoutModel",
      "state": {}
     },
     "0fbe0101a67f4c058b2f8e18f29f579d": {
      "model_module": "@jupyter-widgets/controls",
      "model_module_version": "1.5.0",
      "model_name": "DescriptionStyleModel",
      "state": {
       "description_width": ""
      }
     },
     "0fd53e8af67046818b8acd4ca0ecab19": {
      "model_module": "@jupyter-widgets/controls",
      "model_module_version": "1.5.0",
      "model_name": "HTMLModel",
      "state": {
       "layout": "IPY_MODEL_f7548bc1bf4b4b1f9af16f4c6db397b0",
       "style": "IPY_MODEL_91ef4db51f5e48eb84c82636d84681b4",
       "value": " 1/? [02:24&lt;00:00, 144.58s/it]"
      }
     },
     "103baf8d6d464f8287da77de271f9fc4": {
      "model_module": "@jupyter-widgets/base",
      "model_module_version": "1.2.0",
      "model_name": "LayoutModel",
      "state": {}
     },
     "10813ea2fdca46e49de8f11effb6d9f8": {
      "model_module": "@jupyter-widgets/controls",
      "model_module_version": "1.5.0",
      "model_name": "HTMLModel",
      "state": {
       "layout": "IPY_MODEL_1b248b16ae9e434a9d4cc5c3feaaa6a6",
       "style": "IPY_MODEL_0ca803b739334940beacd59e9cfbf5ed",
       "value": " 1/? [00:01&lt;00:00,  1.80s/it]"
      }
     },
     "126faa24ec3d407c869dd275dab892e7": {
      "model_module": "@jupyter-widgets/controls",
      "model_module_version": "1.5.0",
      "model_name": "HBoxModel",
      "state": {
       "children": [
        "IPY_MODEL_36b7ec3ebf0347709db704f91cf9d9af",
        "IPY_MODEL_acf472a1e7c3494e817ee7b95ca5df5c"
       ],
       "layout": "IPY_MODEL_8de1b5e81c8748368f3ce6d35e8cfbf7"
      }
     },
     "12e4fb3d587d4fcb86902ee2a7af8fc9": {
      "model_module": "@jupyter-widgets/controls",
      "model_module_version": "1.5.0",
      "model_name": "IntProgressModel",
      "state": {
       "bar_style": "success",
       "layout": "IPY_MODEL_e8f7b3a38eec4ca08876fe7f1ec081ed",
       "max": 1,
       "style": "IPY_MODEL_d07a92a88e194bfca5804cfac2d666f9",
       "value": 1
      }
     },
     "14748ed756fe45c9bd2ebe9f62aa45f5": {
      "model_module": "@jupyter-widgets/controls",
      "model_module_version": "1.5.0",
      "model_name": "ProgressStyleModel",
      "state": {
       "description_width": "initial"
      }
     },
     "165331b78a224e759efbb5908684e92e": {
      "model_module": "@jupyter-widgets/base",
      "model_module_version": "1.2.0",
      "model_name": "LayoutModel",
      "state": {}
     },
     "182cdb131e44496fb94991fd4ab7cd4c": {
      "model_module": "@jupyter-widgets/controls",
      "model_module_version": "1.5.0",
      "model_name": "IntProgressModel",
      "state": {
       "bar_style": "success",
       "layout": "IPY_MODEL_6d12ffba579d493d8cd453f0597488b7",
       "max": 1,
       "style": "IPY_MODEL_a02cc465c3c1406a9ff8637f63e9f65a",
       "value": 1
      }
     },
     "18ab7905c1144b14bb58e471cbb096db": {
      "model_module": "@jupyter-widgets/base",
      "model_module_version": "1.2.0",
      "model_name": "LayoutModel",
      "state": {}
     },
     "193e504a434e46198db4dc68729af7f5": {
      "model_module": "@jupyter-widgets/controls",
      "model_module_version": "1.5.0",
      "model_name": "ProgressStyleModel",
      "state": {
       "description_width": "initial"
      }
     },
     "1af6110dfc9146279fe76e27dbfaf817": {
      "model_module": "@jupyter-widgets/controls",
      "model_module_version": "1.5.0",
      "model_name": "HBoxModel",
      "state": {
       "children": [
        "IPY_MODEL_eb11b3da5f2a4e788d9e6001684f6df4",
        "IPY_MODEL_5f57dc16043e49bf95d1455a9af98838"
       ],
       "layout": "IPY_MODEL_bcbec6149b4947b9bd6e216700a9e167"
      }
     },
     "1b248b16ae9e434a9d4cc5c3feaaa6a6": {
      "model_module": "@jupyter-widgets/base",
      "model_module_version": "1.2.0",
      "model_name": "LayoutModel",
      "state": {}
     },
     "1c59186fe2cd4b0bafabb532a4ab2be9": {
      "model_module": "@jupyter-widgets/controls",
      "model_module_version": "1.5.0",
      "model_name": "ProgressStyleModel",
      "state": {
       "description_width": "initial"
      }
     },
     "1c69a0c3ea0745b487398fb84bbaea16": {
      "model_module": "@jupyter-widgets/controls",
      "model_module_version": "1.5.0",
      "model_name": "ProgressStyleModel",
      "state": {
       "description_width": "initial"
      }
     },
     "1cb5be07d01c48e0b733c8e24b78319f": {
      "model_module": "@jupyter-widgets/base",
      "model_module_version": "1.2.0",
      "model_name": "LayoutModel",
      "state": {}
     },
     "1de532887f7b4bfe970a7390669c7121": {
      "model_module": "@jupyter-widgets/controls",
      "model_module_version": "1.5.0",
      "model_name": "HBoxModel",
      "state": {
       "children": [
        "IPY_MODEL_f25ea5d70c8b41d38c73a630b346420f",
        "IPY_MODEL_6ab287cd3e9344faa0c10d0590cf5a3b"
       ],
       "layout": "IPY_MODEL_8bd98fa8f7d44c36931dde599be2667d"
      }
     },
     "1e8ac9028fe9457da262cc166acc2b39": {
      "model_module": "@jupyter-widgets/base",
      "model_module_version": "1.2.0",
      "model_name": "LayoutModel",
      "state": {}
     },
     "235c824b6a4d4b9e9eb92cc6865276bb": {
      "model_module": "@jupyter-widgets/controls",
      "model_module_version": "1.5.0",
      "model_name": "IntProgressModel",
      "state": {
       "bar_style": "success",
       "description": "100%",
       "layout": "IPY_MODEL_1cb5be07d01c48e0b733c8e24b78319f",
       "max": 200,
       "style": "IPY_MODEL_bd99136c0dc448a9a161fc1b5ee6ceab",
       "value": 200
      }
     },
     "263933445368440886382f7754418210": {
      "model_module": "@jupyter-widgets/base",
      "model_module_version": "1.2.0",
      "model_name": "LayoutModel",
      "state": {}
     },
     "27d1bc4505c4437982e98965b66fcd8f": {
      "model_module": "@jupyter-widgets/controls",
      "model_module_version": "1.5.0",
      "model_name": "HBoxModel",
      "state": {
       "children": [
        "IPY_MODEL_2e608674013b43f69f4fb26e835c4f8b",
        "IPY_MODEL_8c5793ce7b63434eadcdc8bc73ab1009"
       ],
       "layout": "IPY_MODEL_5f1223eae27e4d088340c978a176bb39"
      }
     },
     "2a4bad6dac414388bab2e6340f13b948": {
      "model_module": "@jupyter-widgets/controls",
      "model_module_version": "1.5.0",
      "model_name": "IntProgressModel",
      "state": {
       "bar_style": "success",
       "layout": "IPY_MODEL_0e1dcf2837fc4d709dad58e20dbada19",
       "max": 1,
       "style": "IPY_MODEL_8284f4baff40488bba632ad10d48296a",
       "value": 1
      }
     },
     "2ae43369b3264361b96f7267899fa5ca": {
      "model_module": "@jupyter-widgets/controls",
      "model_module_version": "1.5.0",
      "model_name": "DescriptionStyleModel",
      "state": {
       "description_width": ""
      }
     },
     "2bb24d1487d846d99a9cd5372cad5dac": {
      "model_module": "@jupyter-widgets/controls",
      "model_module_version": "1.5.0",
      "model_name": "HTMLModel",
      "state": {
       "layout": "IPY_MODEL_6529d56643cf41c2ac1086a894dcaf29",
       "style": "IPY_MODEL_e1ea690518774fcdb9c182e3ab637902",
       "value": " 1/? [00:01&lt;00:00,  1.79s/it]"
      }
     },
     "2be9cd94bca34f19bca63bb5b349b310": {
      "model_module": "@jupyter-widgets/controls",
      "model_module_version": "1.5.0",
      "model_name": "IntProgressModel",
      "state": {
       "bar_style": "success",
       "layout": "IPY_MODEL_3cde5ea5f2b14b3fbe484a91c0fd3295",
       "max": 1,
       "style": "IPY_MODEL_428e92cb52824facac01a1595d59abe7",
       "value": 1
      }
     },
     "2e608674013b43f69f4fb26e835c4f8b": {
      "model_module": "@jupyter-widgets/controls",
      "model_module_version": "1.5.0",
      "model_name": "IntProgressModel",
      "state": {
       "bar_style": "success",
       "layout": "IPY_MODEL_401d26018d744637b1c4f6abe6c44f70",
       "max": 1,
       "style": "IPY_MODEL_b3e7374ec9fe43d199c6313245de1997",
       "value": 1
      }
     },
     "30525704d5c84d36bef0031add1a684f": {
      "model_module": "@jupyter-widgets/controls",
      "model_module_version": "1.5.0",
      "model_name": "HBoxModel",
      "state": {
       "children": [
        "IPY_MODEL_a1a4d1a57e9f446e8d7d13e13dbf2a80",
        "IPY_MODEL_47568433dc0c43328cf599f9db686966"
       ],
       "layout": "IPY_MODEL_48055dd15017479a90f5d7b58bce2989"
      }
     },
     "344e4ccd9536453282fcc42989b90f21": {
      "model_module": "@jupyter-widgets/controls",
      "model_module_version": "1.5.0",
      "model_name": "HBoxModel",
      "state": {
       "children": [
        "IPY_MODEL_2a4bad6dac414388bab2e6340f13b948",
        "IPY_MODEL_c76bd270280943d28e46cbb363b0602b"
       ],
       "layout": "IPY_MODEL_0f63ef568ffd4b2c8ad9e52e0f8fe041"
      }
     },
     "35fdd9026a9e480bbb11f59dcbeed171": {
      "model_module": "@jupyter-widgets/base",
      "model_module_version": "1.2.0",
      "model_name": "LayoutModel",
      "state": {}
     },
     "368cb1098baf4b8185d5eb8712e4e6f3": {
      "model_module": "@jupyter-widgets/base",
      "model_module_version": "1.2.0",
      "model_name": "LayoutModel",
      "state": {}
     },
     "36b7ec3ebf0347709db704f91cf9d9af": {
      "model_module": "@jupyter-widgets/controls",
      "model_module_version": "1.5.0",
      "model_name": "IntProgressModel",
      "state": {
       "bar_style": "success",
       "layout": "IPY_MODEL_604f44ccdafc43cdbc03e86f53a9a7cc",
       "max": 1,
       "style": "IPY_MODEL_0426e67e507541479a9b1c1c7ce825b7",
       "value": 1
      }
     },
     "3733651fd0bb4b8099c5bf84352bbac1": {
      "model_module": "@jupyter-widgets/controls",
      "model_module_version": "1.5.0",
      "model_name": "HTMLModel",
      "state": {
       "layout": "IPY_MODEL_65bc99d6b4154b4aae468cf00655ffe6",
       "style": "IPY_MODEL_57694d8e39694b4abb5683a502f27956",
       "value": " 1/? [00:01&lt;00:00,  1.77s/it]"
      }
     },
     "38e3f7f5dd374be2a85ac535b29c148a": {
      "model_module": "@jupyter-widgets/base",
      "model_module_version": "1.2.0",
      "model_name": "LayoutModel",
      "state": {}
     },
     "391020703b34465e9a81ab302543ff42": {
      "model_module": "@jupyter-widgets/base",
      "model_module_version": "1.2.0",
      "model_name": "LayoutModel",
      "state": {}
     },
     "3cde5ea5f2b14b3fbe484a91c0fd3295": {
      "model_module": "@jupyter-widgets/base",
      "model_module_version": "1.2.0",
      "model_name": "LayoutModel",
      "state": {}
     },
     "3fc5b0e5dd4f4ec4a5ac3743621dedba": {
      "model_module": "@jupyter-widgets/base",
      "model_module_version": "1.2.0",
      "model_name": "LayoutModel",
      "state": {}
     },
     "401d26018d744637b1c4f6abe6c44f70": {
      "model_module": "@jupyter-widgets/base",
      "model_module_version": "1.2.0",
      "model_name": "LayoutModel",
      "state": {}
     },
     "41b78fdd766642579f66640abf8fefd7": {
      "model_module": "@jupyter-widgets/controls",
      "model_module_version": "1.5.0",
      "model_name": "HTMLModel",
      "state": {
       "layout": "IPY_MODEL_9563ba80c1f844fda56970cfb6d679e2",
       "style": "IPY_MODEL_e7c7c16b437e4637ba456858367552c6",
       "value": " 1/? [00:01&lt;00:00,  1.79s/it]"
      }
     },
     "428e92cb52824facac01a1595d59abe7": {
      "model_module": "@jupyter-widgets/controls",
      "model_module_version": "1.5.0",
      "model_name": "ProgressStyleModel",
      "state": {
       "description_width": "initial"
      }
     },
     "42e4e66fcda84edd99eaba149f8e048c": {
      "model_module": "@jupyter-widgets/controls",
      "model_module_version": "1.5.0",
      "model_name": "IntProgressModel",
      "state": {
       "bar_style": "success",
       "layout": "IPY_MODEL_0b6025e330c94eeca811c2f0c432b0b7",
       "max": 1,
       "style": "IPY_MODEL_cc12f4bf83b34e5abed9867e5f4af97f",
       "value": 1
      }
     },
     "43c91249e83f4322958a5d9de39b0dc2": {
      "model_module": "@jupyter-widgets/controls",
      "model_module_version": "1.5.0",
      "model_name": "ProgressStyleModel",
      "state": {
       "description_width": "initial"
      }
     },
     "454ad54a764d4aec89a85f8959392fd1": {
      "model_module": "@jupyter-widgets/controls",
      "model_module_version": "1.5.0",
      "model_name": "IntProgressModel",
      "state": {
       "bar_style": "success",
       "layout": "IPY_MODEL_801730770cc44c8e889e3a4db006a41e",
       "max": 1,
       "style": "IPY_MODEL_f8bac4cb04a3406ab3706b701389b86f",
       "value": 1
      }
     },
     "47568433dc0c43328cf599f9db686966": {
      "model_module": "@jupyter-widgets/controls",
      "model_module_version": "1.5.0",
      "model_name": "HTMLModel",
      "state": {
       "layout": "IPY_MODEL_103baf8d6d464f8287da77de271f9fc4",
       "style": "IPY_MODEL_9237a4bdb4d54b10a77b001b90aeee0f",
       "value": " 1/? [00:01&lt;00:00,  1.86s/it]"
      }
     },
     "48055dd15017479a90f5d7b58bce2989": {
      "model_module": "@jupyter-widgets/base",
      "model_module_version": "1.2.0",
      "model_name": "LayoutModel",
      "state": {}
     },
     "4d041a480bd144ccad091690fe616014": {
      "model_module": "@jupyter-widgets/controls",
      "model_module_version": "1.5.0",
      "model_name": "ProgressStyleModel",
      "state": {
       "description_width": "initial"
      }
     },
     "4d2bab3bb6b04807962fc4c31e1877d5": {
      "model_module": "@jupyter-widgets/controls",
      "model_module_version": "1.5.0",
      "model_name": "ProgressStyleModel",
      "state": {
       "description_width": "initial"
      }
     },
     "4d4668050a424052ba3cb323f8f4f005": {
      "model_module": "@jupyter-widgets/base",
      "model_module_version": "1.2.0",
      "model_name": "LayoutModel",
      "state": {}
     },
     "4de163dd01a14f3ea0abaa210b9a31ee": {
      "model_module": "@jupyter-widgets/controls",
      "model_module_version": "1.5.0",
      "model_name": "DescriptionStyleModel",
      "state": {
       "description_width": ""
      }
     },
     "4fa4dbe471ac499e9745d0e47df23203": {
      "model_module": "@jupyter-widgets/controls",
      "model_module_version": "1.5.0",
      "model_name": "HBoxModel",
      "state": {
       "children": [
        "IPY_MODEL_719b7e29f4d24b58a57826127613b3d1",
        "IPY_MODEL_c0cebec01ba943aabb840db8a75e998a"
       ],
       "layout": "IPY_MODEL_69231cff23ef452ea890055ca6837f35"
      }
     },
     "53d890a526f34e79a89765440c484be3": {
      "model_module": "@jupyter-widgets/controls",
      "model_module_version": "1.5.0",
      "model_name": "ProgressStyleModel",
      "state": {
       "description_width": "initial"
      }
     },
     "565d7b82de8544ce9f2da3a6e01cb42f": {
      "model_module": "@jupyter-widgets/controls",
      "model_module_version": "1.5.0",
      "model_name": "HBoxModel",
      "state": {
       "children": [
        "IPY_MODEL_182cdb131e44496fb94991fd4ab7cd4c",
        "IPY_MODEL_093ec6c4c8c848348e5fedf7dbe51566"
       ],
       "layout": "IPY_MODEL_8b6110b8cbef4b6a9162c38435c77e55"
      }
     },
     "575927b531544c91ad537ac3537c386f": {
      "model_module": "@jupyter-widgets/controls",
      "model_module_version": "1.5.0",
      "model_name": "ProgressStyleModel",
      "state": {
       "description_width": "initial"
      }
     },
     "57694d8e39694b4abb5683a502f27956": {
      "model_module": "@jupyter-widgets/controls",
      "model_module_version": "1.5.0",
      "model_name": "DescriptionStyleModel",
      "state": {
       "description_width": ""
      }
     },
     "5c9a44fc2eda49769c664cc58208ac90": {
      "model_module": "@jupyter-widgets/controls",
      "model_module_version": "1.5.0",
      "model_name": "IntProgressModel",
      "state": {
       "bar_style": "success",
       "layout": "IPY_MODEL_e83f1c63982a42799fb9218a8203e72d",
       "max": 1,
       "style": "IPY_MODEL_1c59186fe2cd4b0bafabb532a4ab2be9",
       "value": 1
      }
     },
     "5f0852339f7642f1b267b6334aa00ae7": {
      "model_module": "@jupyter-widgets/base",
      "model_module_version": "1.2.0",
      "model_name": "LayoutModel",
      "state": {}
     },
     "5f1223eae27e4d088340c978a176bb39": {
      "model_module": "@jupyter-widgets/base",
      "model_module_version": "1.2.0",
      "model_name": "LayoutModel",
      "state": {}
     },
     "5f57dc16043e49bf95d1455a9af98838": {
      "model_module": "@jupyter-widgets/controls",
      "model_module_version": "1.5.0",
      "model_name": "HTMLModel",
      "state": {
       "layout": "IPY_MODEL_d323c3b8383f4a8ba860891db24c991c",
       "style": "IPY_MODEL_0a265f25a4ef4b5d8c2d070bf8d84f90",
       "value": " 1/? [00:22&lt;00:00, 22.64s/it]"
      }
     },
     "5fd7d0715ac940b2b3278b67e141099a": {
      "model_module": "@jupyter-widgets/controls",
      "model_module_version": "1.5.0",
      "model_name": "IntProgressModel",
      "state": {
       "bar_style": "success",
       "layout": "IPY_MODEL_69832984a2294516babc6b4143b33650",
       "max": 1,
       "style": "IPY_MODEL_04d55507e4274fd6894c712227f1d6d1",
       "value": 1
      }
     },
     "5ff18886c9184bb6a0d9b6b287a52735": {
      "model_module": "@jupyter-widgets/base",
      "model_module_version": "1.2.0",
      "model_name": "LayoutModel",
      "state": {}
     },
     "6014d03db1374e6bbef395457774f839": {
      "model_module": "@jupyter-widgets/controls",
      "model_module_version": "1.5.0",
      "model_name": "DescriptionStyleModel",
      "state": {
       "description_width": ""
      }
     },
     "604f44ccdafc43cdbc03e86f53a9a7cc": {
      "model_module": "@jupyter-widgets/base",
      "model_module_version": "1.2.0",
      "model_name": "LayoutModel",
      "state": {}
     },
     "624cead1917a408ebb04938ab899e78d": {
      "model_module": "@jupyter-widgets/base",
      "model_module_version": "1.2.0",
      "model_name": "LayoutModel",
      "state": {}
     },
     "63306573f20c4ef491d24034e05a1721": {
      "model_module": "@jupyter-widgets/controls",
      "model_module_version": "1.5.0",
      "model_name": "HTMLModel",
      "state": {
       "layout": "IPY_MODEL_6ab537cb3cc7404b90eaeef79e68c517",
       "style": "IPY_MODEL_0fbe0101a67f4c058b2f8e18f29f579d",
       "value": " 1/? [00:01&lt;00:00,  1.81s/it]"
      }
     },
     "64ba26e56f5b45378bfa7084908fbb5c": {
      "model_module": "@jupyter-widgets/controls",
      "model_module_version": "1.5.0",
      "model_name": "HBoxModel",
      "state": {
       "children": [
        "IPY_MODEL_5c9a44fc2eda49769c664cc58208ac90",
        "IPY_MODEL_c87348f4723d437d9c5fdbd7c4df7f04"
       ],
       "layout": "IPY_MODEL_c5359f74d6e945fea4811f58d1c94b1d"
      }
     },
     "652801a91e70498783051df58ce78403": {
      "model_module": "@jupyter-widgets/controls",
      "model_module_version": "1.5.0",
      "model_name": "IntProgressModel",
      "state": {
       "bar_style": "success",
       "layout": "IPY_MODEL_9ca9ae213fa5412280625fee62a79d26",
       "max": 1,
       "style": "IPY_MODEL_53d890a526f34e79a89765440c484be3",
       "value": 1
      }
     },
     "6529d56643cf41c2ac1086a894dcaf29": {
      "model_module": "@jupyter-widgets/base",
      "model_module_version": "1.2.0",
      "model_name": "LayoutModel",
      "state": {}
     },
     "654b4d5064834e0fb802cc7833a79f0d": {
      "model_module": "@jupyter-widgets/controls",
      "model_module_version": "1.5.0",
      "model_name": "HTMLModel",
      "state": {
       "layout": "IPY_MODEL_391020703b34465e9a81ab302543ff42",
       "style": "IPY_MODEL_d4136e5159ce47c88880cdee94bf20bf",
       "value": " 1/? [00:01&lt;00:00,  1.76s/it]"
      }
     },
     "65b7b059ae5e44ba827b106878812346": {
      "model_module": "@jupyter-widgets/base",
      "model_module_version": "1.2.0",
      "model_name": "LayoutModel",
      "state": {}
     },
     "65bc99d6b4154b4aae468cf00655ffe6": {
      "model_module": "@jupyter-widgets/base",
      "model_module_version": "1.2.0",
      "model_name": "LayoutModel",
      "state": {}
     },
     "67356d4a60274a3d9c2433467bb1de40": {
      "model_module": "@jupyter-widgets/base",
      "model_module_version": "1.2.0",
      "model_name": "LayoutModel",
      "state": {}
     },
     "69231cff23ef452ea890055ca6837f35": {
      "model_module": "@jupyter-widgets/base",
      "model_module_version": "1.2.0",
      "model_name": "LayoutModel",
      "state": {}
     },
     "69568055dc414ce2ada8b706afadd613": {
      "model_module": "@jupyter-widgets/controls",
      "model_module_version": "1.5.0",
      "model_name": "HTMLModel",
      "state": {
       "layout": "IPY_MODEL_89621e2fb1fe46b781116626e7e6a4cf",
       "style": "IPY_MODEL_90343424ff8744e1860ab47e0e8edfd7",
       "value": " 1/? [04:00&lt;00:00, 240.45s/it]"
      }
     },
     "69832984a2294516babc6b4143b33650": {
      "model_module": "@jupyter-widgets/base",
      "model_module_version": "1.2.0",
      "model_name": "LayoutModel",
      "state": {}
     },
     "69847480500a4348af8c15d5ba6097aa": {
      "model_module": "@jupyter-widgets/base",
      "model_module_version": "1.2.0",
      "model_name": "LayoutModel",
      "state": {}
     },
     "6ab287cd3e9344faa0c10d0590cf5a3b": {
      "model_module": "@jupyter-widgets/controls",
      "model_module_version": "1.5.0",
      "model_name": "HTMLModel",
      "state": {
       "layout": "IPY_MODEL_ba48c0c8b3e2459a959d32e6d107e790",
       "style": "IPY_MODEL_ff687e6c04294c858ec8f2d44dcac57b",
       "value": " 1/? [01:39&lt;00:00, 99.93s/it]"
      }
     },
     "6ab537cb3cc7404b90eaeef79e68c517": {
      "model_module": "@jupyter-widgets/base",
      "model_module_version": "1.2.0",
      "model_name": "LayoutModel",
      "state": {}
     },
     "6d014e5c7e75429fa3fd3c3e0ae9d749": {
      "model_module": "@jupyter-widgets/controls",
      "model_module_version": "1.5.0",
      "model_name": "DescriptionStyleModel",
      "state": {
       "description_width": ""
      }
     },
     "6d12ffba579d493d8cd453f0597488b7": {
      "model_module": "@jupyter-widgets/base",
      "model_module_version": "1.2.0",
      "model_name": "LayoutModel",
      "state": {}
     },
     "6f51644fac90435185ddad75b673a797": {
      "model_module": "@jupyter-widgets/base",
      "model_module_version": "1.2.0",
      "model_name": "LayoutModel",
      "state": {}
     },
     "6ff52b4474594d5faf9c56fd86ee757c": {
      "model_module": "@jupyter-widgets/base",
      "model_module_version": "1.2.0",
      "model_name": "LayoutModel",
      "state": {}
     },
     "719b7e29f4d24b58a57826127613b3d1": {
      "model_module": "@jupyter-widgets/controls",
      "model_module_version": "1.5.0",
      "model_name": "IntProgressModel",
      "state": {
       "bar_style": "success",
       "layout": "IPY_MODEL_83a52d56385247639dfdbe00bc480ffe",
       "max": 1,
       "style": "IPY_MODEL_4d2bab3bb6b04807962fc4c31e1877d5",
       "value": 1
      }
     },
     "7379ed080b844a45a6b178058ae80742": {
      "model_module": "@jupyter-widgets/base",
      "model_module_version": "1.2.0",
      "model_name": "LayoutModel",
      "state": {}
     },
     "75957c0ff88849b6afd7d4112b22bccd": {
      "model_module": "@jupyter-widgets/base",
      "model_module_version": "1.2.0",
      "model_name": "LayoutModel",
      "state": {}
     },
     "79f1bb2999f849d7ace0c522d4e2d8e7": {
      "model_module": "@jupyter-widgets/controls",
      "model_module_version": "1.5.0",
      "model_name": "HBoxModel",
      "state": {
       "children": [
        "IPY_MODEL_849cf8470d034e52a0c61113a54a66cb",
        "IPY_MODEL_63306573f20c4ef491d24034e05a1721"
       ],
       "layout": "IPY_MODEL_4d4668050a424052ba3cb323f8f4f005"
      }
     },
     "7b847331f36249e799a6c8affe019db6": {
      "model_module": "@jupyter-widgets/base",
      "model_module_version": "1.2.0",
      "model_name": "LayoutModel",
      "state": {}
     },
     "7f88c40af19a42278cde2eec0efff697": {
      "model_module": "@jupyter-widgets/controls",
      "model_module_version": "1.5.0",
      "model_name": "ProgressStyleModel",
      "state": {
       "description_width": "initial"
      }
     },
     "801730770cc44c8e889e3a4db006a41e": {
      "model_module": "@jupyter-widgets/base",
      "model_module_version": "1.2.0",
      "model_name": "LayoutModel",
      "state": {}
     },
     "8036c1447202429ebd855936493b28e9": {
      "model_module": "@jupyter-widgets/base",
      "model_module_version": "1.2.0",
      "model_name": "LayoutModel",
      "state": {}
     },
     "8281fef7a4c84cecaf6c99499c20005f": {
      "model_module": "@jupyter-widgets/controls",
      "model_module_version": "1.5.0",
      "model_name": "DescriptionStyleModel",
      "state": {
       "description_width": ""
      }
     },
     "8284f4baff40488bba632ad10d48296a": {
      "model_module": "@jupyter-widgets/controls",
      "model_module_version": "1.5.0",
      "model_name": "ProgressStyleModel",
      "state": {
       "description_width": "initial"
      }
     },
     "82fbedbac4124466ab96a3ee4d5a4b9d": {
      "model_module": "@jupyter-widgets/controls",
      "model_module_version": "1.5.0",
      "model_name": "ProgressStyleModel",
      "state": {
       "description_width": "initial"
      }
     },
     "83275d1d26c34c2397bcac8ae57a2c0c": {
      "model_module": "@jupyter-widgets/controls",
      "model_module_version": "1.5.0",
      "model_name": "HBoxModel",
      "state": {
       "children": [
        "IPY_MODEL_b46cfc45f84a4b8dacc22cb8d8d9016d",
        "IPY_MODEL_10813ea2fdca46e49de8f11effb6d9f8"
       ],
       "layout": "IPY_MODEL_eba0aed2157e4d0e9ce744ced9f12b44"
      }
     },
     "83a52d56385247639dfdbe00bc480ffe": {
      "model_module": "@jupyter-widgets/base",
      "model_module_version": "1.2.0",
      "model_name": "LayoutModel",
      "state": {}
     },
     "844748022c854c578c60dbe74e35f31c": {
      "model_module": "@jupyter-widgets/base",
      "model_module_version": "1.2.0",
      "model_name": "LayoutModel",
      "state": {}
     },
     "849cf8470d034e52a0c61113a54a66cb": {
      "model_module": "@jupyter-widgets/controls",
      "model_module_version": "1.5.0",
      "model_name": "IntProgressModel",
      "state": {
       "bar_style": "success",
       "layout": "IPY_MODEL_6f51644fac90435185ddad75b673a797",
       "max": 1,
       "style": "IPY_MODEL_14748ed756fe45c9bd2ebe9f62aa45f5",
       "value": 1
      }
     },
     "884cd5fb971b4cd99a8eb9d91d3d2f2f": {
      "model_module": "@jupyter-widgets/controls",
      "model_module_version": "1.5.0",
      "model_name": "IntProgressModel",
      "state": {
       "bar_style": "success",
       "layout": "IPY_MODEL_38e3f7f5dd374be2a85ac535b29c148a",
       "max": 1,
       "style": "IPY_MODEL_7f88c40af19a42278cde2eec0efff697",
       "value": 1
      }
     },
     "8902c8a799f146219f10692f713aa66d": {
      "model_module": "@jupyter-widgets/base",
      "model_module_version": "1.2.0",
      "model_name": "LayoutModel",
      "state": {}
     },
     "89621e2fb1fe46b781116626e7e6a4cf": {
      "model_module": "@jupyter-widgets/base",
      "model_module_version": "1.2.0",
      "model_name": "LayoutModel",
      "state": {}
     },
     "8a69ae94e8774533b7ce0beca6a6ca77": {
      "model_module": "@jupyter-widgets/controls",
      "model_module_version": "1.5.0",
      "model_name": "HBoxModel",
      "state": {
       "children": [
        "IPY_MODEL_fd0d775464fe4d129400e373d60e0897",
        "IPY_MODEL_0a1d16bd02404c3cbe8562b8faced14e"
       ],
       "layout": "IPY_MODEL_624cead1917a408ebb04938ab899e78d"
      }
     },
     "8ad3b3a6813040fa86656726a21d82e6": {
      "model_module": "@jupyter-widgets/controls",
      "model_module_version": "1.5.0",
      "model_name": "HBoxModel",
      "state": {
       "children": [
        "IPY_MODEL_ffc9a0848ba2457bbc97219e3cb7f462",
        "IPY_MODEL_2bb24d1487d846d99a9cd5372cad5dac"
       ],
       "layout": "IPY_MODEL_a83d64b847784743919ec3487aca95c8"
      }
     },
     "8b6110b8cbef4b6a9162c38435c77e55": {
      "model_module": "@jupyter-widgets/base",
      "model_module_version": "1.2.0",
      "model_name": "LayoutModel",
      "state": {}
     },
     "8bd98fa8f7d44c36931dde599be2667d": {
      "model_module": "@jupyter-widgets/base",
      "model_module_version": "1.2.0",
      "model_name": "LayoutModel",
      "state": {}
     },
     "8c5793ce7b63434eadcdc8bc73ab1009": {
      "model_module": "@jupyter-widgets/controls",
      "model_module_version": "1.5.0",
      "model_name": "HTMLModel",
      "state": {
       "layout": "IPY_MODEL_263933445368440886382f7754418210",
       "style": "IPY_MODEL_a29b3768526a4175bdba54b43324c694",
       "value": " 1/? [00:01&lt;00:00,  1.74s/it]"
      }
     },
     "8c7da9437fa24ea98131a74e7500d0f2": {
      "model_module": "@jupyter-widgets/controls",
      "model_module_version": "1.5.0",
      "model_name": "ProgressStyleModel",
      "state": {
       "description_width": "initial"
      }
     },
     "8d494464cb93493d92a0bd730b30b18a": {
      "model_module": "@jupyter-widgets/controls",
      "model_module_version": "1.5.0",
      "model_name": "DescriptionStyleModel",
      "state": {
       "description_width": ""
      }
     },
     "8de1b5e81c8748368f3ce6d35e8cfbf7": {
      "model_module": "@jupyter-widgets/base",
      "model_module_version": "1.2.0",
      "model_name": "LayoutModel",
      "state": {}
     },
     "90343424ff8744e1860ab47e0e8edfd7": {
      "model_module": "@jupyter-widgets/controls",
      "model_module_version": "1.5.0",
      "model_name": "DescriptionStyleModel",
      "state": {
       "description_width": ""
      }
     },
     "91ef4db51f5e48eb84c82636d84681b4": {
      "model_module": "@jupyter-widgets/controls",
      "model_module_version": "1.5.0",
      "model_name": "DescriptionStyleModel",
      "state": {
       "description_width": ""
      }
     },
     "9237a4bdb4d54b10a77b001b90aeee0f": {
      "model_module": "@jupyter-widgets/controls",
      "model_module_version": "1.5.0",
      "model_name": "DescriptionStyleModel",
      "state": {
       "description_width": ""
      }
     },
     "94a13a172dc34bf394dc82f639c7ece3": {
      "model_module": "@jupyter-widgets/controls",
      "model_module_version": "1.5.0",
      "model_name": "HBoxModel",
      "state": {
       "children": [
        "IPY_MODEL_884cd5fb971b4cd99a8eb9d91d3d2f2f",
        "IPY_MODEL_3733651fd0bb4b8099c5bf84352bbac1"
       ],
       "layout": "IPY_MODEL_e33e1fe91a1f4953921ce4a679ec1dcf"
      }
     },
     "9563ba80c1f844fda56970cfb6d679e2": {
      "model_module": "@jupyter-widgets/base",
      "model_module_version": "1.2.0",
      "model_name": "LayoutModel",
      "state": {}
     },
     "9a1862f9348c45269f2ebc49a51fcfde": {
      "model_module": "@jupyter-widgets/controls",
      "model_module_version": "1.5.0",
      "model_name": "HBoxModel",
      "state": {
       "children": [
        "IPY_MODEL_652801a91e70498783051df58ce78403",
        "IPY_MODEL_ee5d5158ac4a46b093a5508b14f1f38a"
       ],
       "layout": "IPY_MODEL_35fdd9026a9e480bbb11f59dcbeed171"
      }
     },
     "9b1622b8647f48bea4c83db23cfe2e51": {
      "model_module": "@jupyter-widgets/base",
      "model_module_version": "1.2.0",
      "model_name": "LayoutModel",
      "state": {}
     },
     "9baa6271da144968bcd34edd5279c225": {
      "model_module": "@jupyter-widgets/base",
      "model_module_version": "1.2.0",
      "model_name": "LayoutModel",
      "state": {}
     },
     "9ca9ae213fa5412280625fee62a79d26": {
      "model_module": "@jupyter-widgets/base",
      "model_module_version": "1.2.0",
      "model_name": "LayoutModel",
      "state": {}
     },
     "a02cc465c3c1406a9ff8637f63e9f65a": {
      "model_module": "@jupyter-widgets/controls",
      "model_module_version": "1.5.0",
      "model_name": "ProgressStyleModel",
      "state": {
       "description_width": "initial"
      }
     },
     "a12973d14253473c8523b75c65b9dbae": {
      "model_module": "@jupyter-widgets/controls",
      "model_module_version": "1.5.0",
      "model_name": "IntProgressModel",
      "state": {
       "bar_style": "success",
       "layout": "IPY_MODEL_d514c16266e142b0b5558ce9347a5734",
       "max": 1,
       "style": "IPY_MODEL_82fbedbac4124466ab96a3ee4d5a4b9d",
       "value": 1
      }
     },
     "a1a4d1a57e9f446e8d7d13e13dbf2a80": {
      "model_module": "@jupyter-widgets/controls",
      "model_module_version": "1.5.0",
      "model_name": "IntProgressModel",
      "state": {
       "bar_style": "success",
       "layout": "IPY_MODEL_7b847331f36249e799a6c8affe019db6",
       "max": 1,
       "style": "IPY_MODEL_c975605bed0e42a1b0cb555096c70158",
       "value": 1
      }
     },
     "a29b3768526a4175bdba54b43324c694": {
      "model_module": "@jupyter-widgets/controls",
      "model_module_version": "1.5.0",
      "model_name": "DescriptionStyleModel",
      "state": {
       "description_width": ""
      }
     },
     "a416e286b8fc40efbb2fbfe5706413b8": {
      "model_module": "@jupyter-widgets/controls",
      "model_module_version": "1.5.0",
      "model_name": "ProgressStyleModel",
      "state": {
       "description_width": "initial"
      }
     },
     "a4a24bae411a49edbc9b760d821b66dc": {
      "model_module": "@jupyter-widgets/controls",
      "model_module_version": "1.5.0",
      "model_name": "HBoxModel",
      "state": {
       "children": [
        "IPY_MODEL_5fd7d0715ac940b2b3278b67e141099a",
        "IPY_MODEL_d942dfc5ead5499088e04a8f7ea6dd94"
       ],
       "layout": "IPY_MODEL_b4edce866bf848d3a1b0dbb3a363e89d"
      }
     },
     "a61284a8124a43aabb0b9bdea913888c": {
      "model_module": "@jupyter-widgets/base",
      "model_module_version": "1.2.0",
      "model_name": "LayoutModel",
      "state": {}
     },
     "a61f3b4122b0431fb7257008c9338fe5": {
      "model_module": "@jupyter-widgets/controls",
      "model_module_version": "1.5.0",
      "model_name": "HBoxModel",
      "state": {
       "children": [
        "IPY_MODEL_a720ac7897cc4ef791c64bf2f7eba85d",
        "IPY_MODEL_f67a1b8809e0425eb5e7b9ba7d540440"
       ],
       "layout": "IPY_MODEL_165331b78a224e759efbb5908684e92e"
      }
     },
     "a720ac7897cc4ef791c64bf2f7eba85d": {
      "model_module": "@jupyter-widgets/controls",
      "model_module_version": "1.5.0",
      "model_name": "IntProgressModel",
      "state": {
       "bar_style": "success",
       "layout": "IPY_MODEL_a8e49efc7f4d41238315aa0aeb0fcfca",
       "max": 1,
       "style": "IPY_MODEL_1c69a0c3ea0745b487398fb84bbaea16",
       "value": 1
      }
     },
     "a83d64b847784743919ec3487aca95c8": {
      "model_module": "@jupyter-widgets/base",
      "model_module_version": "1.2.0",
      "model_name": "LayoutModel",
      "state": {}
     },
     "a8662adb6b5548d298de950b9e69b59b": {
      "model_module": "@jupyter-widgets/base",
      "model_module_version": "1.2.0",
      "model_name": "LayoutModel",
      "state": {}
     },
     "a8e49efc7f4d41238315aa0aeb0fcfca": {
      "model_module": "@jupyter-widgets/base",
      "model_module_version": "1.2.0",
      "model_name": "LayoutModel",
      "state": {}
     },
     "aa16712264c14f9d88bd0b446164f594": {
      "model_module": "@jupyter-widgets/base",
      "model_module_version": "1.2.0",
      "model_name": "LayoutModel",
      "state": {}
     },
     "aafb83fbd2a941b68c423d5d8d943750": {
      "model_module": "@jupyter-widgets/controls",
      "model_module_version": "1.5.0",
      "model_name": "IntProgressModel",
      "state": {
       "bar_style": "success",
       "layout": "IPY_MODEL_a8662adb6b5548d298de950b9e69b59b",
       "max": 1,
       "style": "IPY_MODEL_b90543ff81474a71b7e15812453f3ed9",
       "value": 1
      }
     },
     "ab806bfd8fa54255a7fe7344dfa490c2": {
      "model_module": "@jupyter-widgets/controls",
      "model_module_version": "1.5.0",
      "model_name": "DescriptionStyleModel",
      "state": {
       "description_width": ""
      }
     },
     "ac6322d9a398493ab8f8cc66d32b56dd": {
      "model_module": "@jupyter-widgets/controls",
      "model_module_version": "1.5.0",
      "model_name": "DescriptionStyleModel",
      "state": {
       "description_width": ""
      }
     },
     "acf472a1e7c3494e817ee7b95ca5df5c": {
      "model_module": "@jupyter-widgets/controls",
      "model_module_version": "1.5.0",
      "model_name": "HTMLModel",
      "state": {
       "layout": "IPY_MODEL_ca58090cd8d84b68adab23b07053212e",
       "style": "IPY_MODEL_6014d03db1374e6bbef395457774f839",
       "value": " 1/? [00:01&lt;00:00,  1.83s/it]"
      }
     },
     "ad634167820b4c52ba372428a8bec089": {
      "model_module": "@jupyter-widgets/controls",
      "model_module_version": "1.5.0",
      "model_name": "HBoxModel",
      "state": {
       "children": [
        "IPY_MODEL_235c824b6a4d4b9e9eb92cc6865276bb",
        "IPY_MODEL_dde6053ae87240e08ef31fd41d953df4"
       ],
       "layout": "IPY_MODEL_18ab7905c1144b14bb58e471cbb096db"
      }
     },
     "b024f1ba5d6d454d809a1691fc8bc646": {
      "model_module": "@jupyter-widgets/controls",
      "model_module_version": "1.5.0",
      "model_name": "HBoxModel",
      "state": {
       "children": [
        "IPY_MODEL_12e4fb3d587d4fcb86902ee2a7af8fc9",
        "IPY_MODEL_063452684e08416bac930b34bc2a81dc"
       ],
       "layout": "IPY_MODEL_69847480500a4348af8c15d5ba6097aa"
      }
     },
     "b3e7374ec9fe43d199c6313245de1997": {
      "model_module": "@jupyter-widgets/controls",
      "model_module_version": "1.5.0",
      "model_name": "ProgressStyleModel",
      "state": {
       "description_width": "initial"
      }
     },
     "b46cfc45f84a4b8dacc22cb8d8d9016d": {
      "model_module": "@jupyter-widgets/controls",
      "model_module_version": "1.5.0",
      "model_name": "IntProgressModel",
      "state": {
       "bar_style": "success",
       "layout": "IPY_MODEL_e98e01c3515d4a0bbd0a8de8c495e5cb",
       "max": 1,
       "style": "IPY_MODEL_a416e286b8fc40efbb2fbfe5706413b8",
       "value": 1
      }
     },
     "b4edce866bf848d3a1b0dbb3a363e89d": {
      "model_module": "@jupyter-widgets/base",
      "model_module_version": "1.2.0",
      "model_name": "LayoutModel",
      "state": {}
     },
     "b90543ff81474a71b7e15812453f3ed9": {
      "model_module": "@jupyter-widgets/controls",
      "model_module_version": "1.5.0",
      "model_name": "ProgressStyleModel",
      "state": {
       "description_width": "initial"
      }
     },
     "ba48c0c8b3e2459a959d32e6d107e790": {
      "model_module": "@jupyter-widgets/base",
      "model_module_version": "1.2.0",
      "model_name": "LayoutModel",
      "state": {}
     },
     "bcbec6149b4947b9bd6e216700a9e167": {
      "model_module": "@jupyter-widgets/base",
      "model_module_version": "1.2.0",
      "model_name": "LayoutModel",
      "state": {}
     },
     "bd99136c0dc448a9a161fc1b5ee6ceab": {
      "model_module": "@jupyter-widgets/controls",
      "model_module_version": "1.5.0",
      "model_name": "ProgressStyleModel",
      "state": {
       "description_width": "initial"
      }
     },
     "be85222eae1940c1bb56fff18b4f1865": {
      "model_module": "@jupyter-widgets/base",
      "model_module_version": "1.2.0",
      "model_name": "LayoutModel",
      "state": {}
     },
     "c0cebec01ba943aabb840db8a75e998a": {
      "model_module": "@jupyter-widgets/controls",
      "model_module_version": "1.5.0",
      "model_name": "HTMLModel",
      "state": {
       "layout": "IPY_MODEL_8036c1447202429ebd855936493b28e9",
       "style": "IPY_MODEL_6d014e5c7e75429fa3fd3c3e0ae9d749",
       "value": " 1/? [00:12&lt;00:00, 12.84s/it]"
      }
     },
     "c103cc961b7249279639776f42dc3019": {
      "model_module": "@jupyter-widgets/controls",
      "model_module_version": "1.5.0",
      "model_name": "HTMLModel",
      "state": {
       "layout": "IPY_MODEL_9baa6271da144968bcd34edd5279c225",
       "style": "IPY_MODEL_ac6322d9a398493ab8f8cc66d32b56dd",
       "value": " 1/? [00:01&lt;00:00,  1.80s/it]"
      }
     },
     "c220d3f2120a4887808ad45dfe87a8c1": {
      "model_module": "@jupyter-widgets/controls",
      "model_module_version": "1.5.0",
      "model_name": "DescriptionStyleModel",
      "state": {
       "description_width": ""
      }
     },
     "c4c4ffb515334f77abdd4cc2fb1a2568": {
      "model_module": "@jupyter-widgets/controls",
      "model_module_version": "1.5.0",
      "model_name": "DescriptionStyleModel",
      "state": {
       "description_width": ""
      }
     },
     "c5359f74d6e945fea4811f58d1c94b1d": {
      "model_module": "@jupyter-widgets/base",
      "model_module_version": "1.2.0",
      "model_name": "LayoutModel",
      "state": {}
     },
     "c76bd270280943d28e46cbb363b0602b": {
      "model_module": "@jupyter-widgets/controls",
      "model_module_version": "1.5.0",
      "model_name": "HTMLModel",
      "state": {
       "layout": "IPY_MODEL_0963e7d9d0c443558fe96b16cce5a42f",
       "style": "IPY_MODEL_c220d3f2120a4887808ad45dfe87a8c1",
       "value": " 1/? [00:54&lt;00:00, 54.48s/it]"
      }
     },
     "c87348f4723d437d9c5fdbd7c4df7f04": {
      "model_module": "@jupyter-widgets/controls",
      "model_module_version": "1.5.0",
      "model_name": "HTMLModel",
      "state": {
       "layout": "IPY_MODEL_75957c0ff88849b6afd7d4112b22bccd",
       "style": "IPY_MODEL_8d494464cb93493d92a0bd730b30b18a",
       "value": " 1/? [00:01&lt;00:00,  1.78s/it]"
      }
     },
     "c94fdb5a31254302ac31a10fa2cede6b": {
      "model_module": "@jupyter-widgets/base",
      "model_module_version": "1.2.0",
      "model_name": "LayoutModel",
      "state": {}
     },
     "c975605bed0e42a1b0cb555096c70158": {
      "model_module": "@jupyter-widgets/controls",
      "model_module_version": "1.5.0",
      "model_name": "ProgressStyleModel",
      "state": {
       "description_width": "initial"
      }
     },
     "ca58090cd8d84b68adab23b07053212e": {
      "model_module": "@jupyter-widgets/base",
      "model_module_version": "1.2.0",
      "model_name": "LayoutModel",
      "state": {}
     },
     "cc12f4bf83b34e5abed9867e5f4af97f": {
      "model_module": "@jupyter-widgets/controls",
      "model_module_version": "1.5.0",
      "model_name": "ProgressStyleModel",
      "state": {
       "description_width": "initial"
      }
     },
     "cc288d3fb318401e961d28da8b5176af": {
      "model_module": "@jupyter-widgets/base",
      "model_module_version": "1.2.0",
      "model_name": "LayoutModel",
      "state": {}
     },
     "d07a92a88e194bfca5804cfac2d666f9": {
      "model_module": "@jupyter-widgets/controls",
      "model_module_version": "1.5.0",
      "model_name": "ProgressStyleModel",
      "state": {
       "description_width": "initial"
      }
     },
     "d11c7e8e2557451e89d380ef3312accd": {
      "model_module": "@jupyter-widgets/base",
      "model_module_version": "1.2.0",
      "model_name": "LayoutModel",
      "state": {}
     },
     "d323c3b8383f4a8ba860891db24c991c": {
      "model_module": "@jupyter-widgets/base",
      "model_module_version": "1.2.0",
      "model_name": "LayoutModel",
      "state": {}
     },
     "d4136e5159ce47c88880cdee94bf20bf": {
      "model_module": "@jupyter-widgets/controls",
      "model_module_version": "1.5.0",
      "model_name": "DescriptionStyleModel",
      "state": {
       "description_width": ""
      }
     },
     "d514c16266e142b0b5558ce9347a5734": {
      "model_module": "@jupyter-widgets/base",
      "model_module_version": "1.2.0",
      "model_name": "LayoutModel",
      "state": {}
     },
     "d942dfc5ead5499088e04a8f7ea6dd94": {
      "model_module": "@jupyter-widgets/controls",
      "model_module_version": "1.5.0",
      "model_name": "HTMLModel",
      "state": {
       "layout": "IPY_MODEL_7379ed080b844a45a6b178058ae80742",
       "style": "IPY_MODEL_fb0b0b7dede34a1caa0c96ba7922486c",
       "value": " 1/? [00:01&lt;00:00,  1.77s/it]"
      }
     },
     "dad193f315df4d8cbb8d1122953926e5": {
      "model_module": "@jupyter-widgets/controls",
      "model_module_version": "1.5.0",
      "model_name": "HBoxModel",
      "state": {
       "children": [
        "IPY_MODEL_a12973d14253473c8523b75c65b9dbae",
        "IPY_MODEL_de84223867cb4e30bfe88f8eef660d12"
       ],
       "layout": "IPY_MODEL_be85222eae1940c1bb56fff18b4f1865"
      }
     },
     "dcca1d909115403f8cde922bc45e7c5f": {
      "model_module": "@jupyter-widgets/controls",
      "model_module_version": "1.5.0",
      "model_name": "HBoxModel",
      "state": {
       "children": [
        "IPY_MODEL_42e4e66fcda84edd99eaba149f8e048c",
        "IPY_MODEL_69568055dc414ce2ada8b706afadd613"
       ],
       "layout": "IPY_MODEL_9b1622b8647f48bea4c83db23cfe2e51"
      }
     },
     "dde6053ae87240e08ef31fd41d953df4": {
      "model_module": "@jupyter-widgets/controls",
      "model_module_version": "1.5.0",
      "model_name": "HTMLModel",
      "state": {
       "layout": "IPY_MODEL_6ff52b4474594d5faf9c56fd86ee757c",
       "style": "IPY_MODEL_8281fef7a4c84cecaf6c99499c20005f",
       "value": " 200/200 [00:34&lt;00:00,  5.80it/s]"
      }
     },
     "de84223867cb4e30bfe88f8eef660d12": {
      "model_module": "@jupyter-widgets/controls",
      "model_module_version": "1.5.0",
      "model_name": "HTMLModel",
      "state": {
       "layout": "IPY_MODEL_3fc5b0e5dd4f4ec4a5ac3743621dedba",
       "style": "IPY_MODEL_4de163dd01a14f3ea0abaa210b9a31ee",
       "value": " 1/? [00:01&lt;00:00,  1.79s/it]"
      }
     },
     "e1d1b65e62704fcdb139bae32d617921": {
      "model_module": "@jupyter-widgets/controls",
      "model_module_version": "1.5.0",
      "model_name": "HBoxModel",
      "state": {
       "children": [
        "IPY_MODEL_01e045f6bb284273b6fb8a52554809bf",
        "IPY_MODEL_0fd53e8af67046818b8acd4ca0ecab19"
       ],
       "layout": "IPY_MODEL_a61284a8124a43aabb0b9bdea913888c"
      }
     },
     "e1ea690518774fcdb9c182e3ab637902": {
      "model_module": "@jupyter-widgets/controls",
      "model_module_version": "1.5.0",
      "model_name": "DescriptionStyleModel",
      "state": {
       "description_width": ""
      }
     },
     "e33e1fe91a1f4953921ce4a679ec1dcf": {
      "model_module": "@jupyter-widgets/base",
      "model_module_version": "1.2.0",
      "model_name": "LayoutModel",
      "state": {}
     },
     "e71100a00a814ed4a5188709eea486f7": {
      "model_module": "@jupyter-widgets/controls",
      "model_module_version": "1.5.0",
      "model_name": "DescriptionStyleModel",
      "state": {
       "description_width": ""
      }
     },
     "e7c7c16b437e4637ba456858367552c6": {
      "model_module": "@jupyter-widgets/controls",
      "model_module_version": "1.5.0",
      "model_name": "DescriptionStyleModel",
      "state": {
       "description_width": ""
      }
     },
     "e83f1c63982a42799fb9218a8203e72d": {
      "model_module": "@jupyter-widgets/base",
      "model_module_version": "1.2.0",
      "model_name": "LayoutModel",
      "state": {}
     },
     "e8f7b3a38eec4ca08876fe7f1ec081ed": {
      "model_module": "@jupyter-widgets/base",
      "model_module_version": "1.2.0",
      "model_name": "LayoutModel",
      "state": {}
     },
     "e98e01c3515d4a0bbd0a8de8c495e5cb": {
      "model_module": "@jupyter-widgets/base",
      "model_module_version": "1.2.0",
      "model_name": "LayoutModel",
      "state": {}
     },
     "eb11b3da5f2a4e788d9e6001684f6df4": {
      "model_module": "@jupyter-widgets/controls",
      "model_module_version": "1.5.0",
      "model_name": "IntProgressModel",
      "state": {
       "bar_style": "success",
       "layout": "IPY_MODEL_cc288d3fb318401e961d28da8b5176af",
       "max": 1,
       "style": "IPY_MODEL_193e504a434e46198db4dc68729af7f5",
       "value": 1
      }
     },
     "eba0aed2157e4d0e9ce744ced9f12b44": {
      "model_module": "@jupyter-widgets/base",
      "model_module_version": "1.2.0",
      "model_name": "LayoutModel",
      "state": {}
     },
     "ee5d5158ac4a46b093a5508b14f1f38a": {
      "model_module": "@jupyter-widgets/controls",
      "model_module_version": "1.5.0",
      "model_name": "HTMLModel",
      "state": {
       "layout": "IPY_MODEL_5ff18886c9184bb6a0d9b6b287a52735",
       "style": "IPY_MODEL_c4c4ffb515334f77abdd4cc2fb1a2568",
       "value": " 1/? [00:01&lt;00:00,  1.79s/it]"
      }
     },
     "f25ea5d70c8b41d38c73a630b346420f": {
      "model_module": "@jupyter-widgets/controls",
      "model_module_version": "1.5.0",
      "model_name": "IntProgressModel",
      "state": {
       "bar_style": "success",
       "layout": "IPY_MODEL_aa16712264c14f9d88bd0b446164f594",
       "max": 1,
       "style": "IPY_MODEL_43c91249e83f4322958a5d9de39b0dc2",
       "value": 1
      }
     },
     "f3c27428fa4c41c6ac923d880d43eb9c": {
      "model_module": "@jupyter-widgets/controls",
      "model_module_version": "1.5.0",
      "model_name": "HBoxModel",
      "state": {
       "children": [
        "IPY_MODEL_454ad54a764d4aec89a85f8959392fd1",
        "IPY_MODEL_654b4d5064834e0fb802cc7833a79f0d"
       ],
       "layout": "IPY_MODEL_1e8ac9028fe9457da262cc166acc2b39"
      }
     },
     "f3f88e0bd2af4817bc466fc42f6e1b4f": {
      "model_module": "@jupyter-widgets/controls",
      "model_module_version": "1.5.0",
      "model_name": "HBoxModel",
      "state": {
       "children": [
        "IPY_MODEL_2be9cd94bca34f19bca63bb5b349b310",
        "IPY_MODEL_41b78fdd766642579f66640abf8fefd7"
       ],
       "layout": "IPY_MODEL_65b7b059ae5e44ba827b106878812346"
      }
     },
     "f67a1b8809e0425eb5e7b9ba7d540440": {
      "model_module": "@jupyter-widgets/controls",
      "model_module_version": "1.5.0",
      "model_name": "HTMLModel",
      "state": {
       "layout": "IPY_MODEL_368cb1098baf4b8185d5eb8712e4e6f3",
       "style": "IPY_MODEL_02355559dfa946c3b1dcb443107aca11",
       "value": " 1/? [00:01&lt;00:00,  1.77s/it]"
      }
     },
     "f7548bc1bf4b4b1f9af16f4c6db397b0": {
      "model_module": "@jupyter-widgets/base",
      "model_module_version": "1.2.0",
      "model_name": "LayoutModel",
      "state": {}
     },
     "f8bac4cb04a3406ab3706b701389b86f": {
      "model_module": "@jupyter-widgets/controls",
      "model_module_version": "1.5.0",
      "model_name": "ProgressStyleModel",
      "state": {
       "description_width": "initial"
      }
     },
     "fb0b0b7dede34a1caa0c96ba7922486c": {
      "model_module": "@jupyter-widgets/controls",
      "model_module_version": "1.5.0",
      "model_name": "DescriptionStyleModel",
      "state": {
       "description_width": ""
      }
     },
     "fd0d775464fe4d129400e373d60e0897": {
      "model_module": "@jupyter-widgets/controls",
      "model_module_version": "1.5.0",
      "model_name": "IntProgressModel",
      "state": {
       "bar_style": "success",
       "layout": "IPY_MODEL_844748022c854c578c60dbe74e35f31c",
       "max": 1,
       "style": "IPY_MODEL_4d041a480bd144ccad091690fe616014",
       "value": 1
      }
     },
     "ff687e6c04294c858ec8f2d44dcac57b": {
      "model_module": "@jupyter-widgets/controls",
      "model_module_version": "1.5.0",
      "model_name": "DescriptionStyleModel",
      "state": {
       "description_width": ""
      }
     },
     "ffc9a0848ba2457bbc97219e3cb7f462": {
      "model_module": "@jupyter-widgets/controls",
      "model_module_version": "1.5.0",
      "model_name": "IntProgressModel",
      "state": {
       "bar_style": "success",
       "layout": "IPY_MODEL_5f0852339f7642f1b267b6334aa00ae7",
       "max": 1,
       "style": "IPY_MODEL_8c7da9437fa24ea98131a74e7500d0f2",
       "value": 1
      }
     }
    },
    "version_major": 2,
    "version_minor": 0
   }
  }
 },
 "nbformat": 4,
 "nbformat_minor": 4
}
