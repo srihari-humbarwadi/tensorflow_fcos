{
 "cells": [
  {
   "cell_type": "code",
   "execution_count": 1,
   "metadata": {},
   "outputs": [],
   "source": [
    "import numpy as np\n",
    "import tensorflow as tf\n",
    "from tensorflow.keras.initializers import RandomNormal, Constant\n",
    "from tensorflow.keras.layers import (Input,\n",
    "                                     Conv2D, \n",
    "                                     BatchNormalization, \n",
    "                                     ReLU, \n",
    "                                     UpSampling2D,\n",
    "                                     Add)"
   ]
  },
  {
   "cell_type": "code",
   "execution_count": 2,
   "metadata": {},
   "outputs": [],
   "source": [
    "def conv_block(input_tensor=None,\n",
    "               filters=None,\n",
    "               kernel_size=None,\n",
    "               strides=1,\n",
    "               padding='same',\n",
    "               kernel_init='he_normal',\n",
    "               bias_init='zeros',\n",
    "               bn_act=True,\n",
    "               name_prefix=None):\n",
    "    \n",
    "    _x = Conv2D(filters=filters, kernel_size=kernel_size,\n",
    "                padding=padding, strides=strides,\n",
    "                kernel_initializer=kernel_init,\n",
    "                bias_initializer=bias_init,\n",
    "                name='{}_conv_{}x{}'.format(name_prefix,\n",
    "                                            kernel_size,\n",
    "                                            kernel_size))(input_tensor)\n",
    "    if bn_act:\n",
    "        _x = BatchNormalization(\n",
    "            name='{}_bn'.format(name_prefix))(_x)\n",
    "        _x = ReLU(name='{}_relu'.format(name_prefix))(_x)\n",
    "    return _x"
   ]
  },
  {
   "cell_type": "code",
   "execution_count": 6,
   "metadata": {},
   "outputs": [],
   "source": [
    "class FCOS:\n",
    "    def __init__(self, config):\n",
    "        self._validate_config(config)\n",
    "        for attr in config:\n",
    "            setattr(self, attr, config[attr])\n",
    "        self._build_fpn()\n",
    "        self._build_model()\n",
    "\n",
    "    def _validate_config(self, config):\n",
    "        attr_list = [\n",
    "            'mode',\n",
    "            'distribute_strategy',\n",
    "            'image_height',\n",
    "            'image_width',\n",
    "            'num_classes',\n",
    "            'dataset',\n",
    "            'epochs',\n",
    "            'learning_rate',\n",
    "            'model_dir',\n",
    "            'tensorboard_log_dir'\n",
    "        ]\n",
    "        for attr in attr_list:\n",
    "            assert attr in config, 'Missing {} in config'.format(attr)\n",
    "\n",
    "    def _build_fpn(self):\n",
    "        '''\n",
    "            From the FPN paper, \"To start the iteration, we simply attach a\n",
    "            1×1 convolutional layer on C5 to produce the coarsest resolution map.\n",
    "            Finally, we append a 3×3 convolution on each merged map to generate\n",
    "            the final feature map, which is to reduce the aliasing effect of\n",
    "            upsampling. This final set of feature maps is called\n",
    "            {P2, P3, P4, P5}, corresponding to {C2, C3, C4, C5} that are\n",
    "            respectively of the same spatial sizes\".\n",
    "            From the FCOS paper, \"P6 and P7 are produced by applying one\n",
    "            convolutional layer with the stride being 2 on P5 and P6, respectively\".\n",
    "        '''\n",
    "        with self.distribute_strategy.scope():\n",
    "            print('****Building FPN')\n",
    "            self._backbone = tf.keras.applications.ResNet50V2(\n",
    "                input_shape=[self.image_height, self.image_width, 3],\n",
    "                weights='imagenet',\n",
    "                include_top=False)\n",
    "            C5 = self._backbone.get_layer('post_relu').output\n",
    "            C4 = self._backbone.get_layer('conv4_block6_1_relu').output\n",
    "            C3 = self._backbone.get_layer('conv3_block4_1_relu').output\n",
    "\n",
    "            M5 = conv_block(C5, 256, 1, bn_act=False, name_prefix='C5')\n",
    "            P5 = conv_block(M5, 256, 3, bn_act=False, name_prefix='P5')\n",
    "            M5_upsampled = UpSampling2D(size=(2, 2),\n",
    "                                        interpolation='nearest',\n",
    "                                        name='M5_upsampled')(M5)\n",
    "\n",
    "            M4 = conv_block(C4, 256, 1, bn_act=False, name_prefix='C4')\n",
    "            M4 = tf.keras.layers.Add(name='M4_M5_add')([M4, M5_upsampled])\n",
    "            P4 = conv_block(M4, 256, 3, bn_act=False, name_prefix='P4')\n",
    "            M4_upsampled = UpSampling2D(size=(2, 2),\n",
    "                                        interpolation='nearest',\n",
    "                                        name='M4_upsampled')(M4)\n",
    "\n",
    "            M3 = conv_block(C3, 256, 1, bn_act=False, name_prefix='C3')\n",
    "            P3 = Add(name='M3_M4_add')([M3, M4_upsampled])\n",
    "            P3 = conv_block(P3, 256, 3, bn_act=False, name_prefix='P3')\n",
    "\n",
    "            P6 = conv_block(P5, 256, 3, 2, bn_act=False, name_prefix='P6')\n",
    "            P6_relu = ReLU(name='P6_relu')(P6)\n",
    "            P7 = conv_block(P6_relu, 256, 3, 2, bn_act=False, name_prefix='P7')\n",
    "\n",
    "            self._pyramid_features = {\n",
    "                'P3': P3,\n",
    "                'P4': P4,\n",
    "                'P5': P5,\n",
    "                'P6': P6,\n",
    "                'P7': P7\n",
    "            }\n",
    "\n",
    "    def _get_classification_head(self, p=0.01):\n",
    "        kernel_init = RandomNormal(0.0, 0.01)\n",
    "        bias_init = Constant(-np.log((1 - p) / p))\n",
    "\n",
    "        input_layer = Input(shape=[None, None, 256])\n",
    "        x = input_layer\n",
    "\n",
    "        for i in range(4):\n",
    "            x = conv_block(x, 256, 3, kernel_init=kernel_init,\n",
    "                           name_prefix='c_head_{}'.format(i))\n",
    "        classification_logits = conv_block(x, self.num_classes,\n",
    "                                           3, kernel_init=kernel_init,\n",
    "                                           bias_init=bias_init, bn_act=False,\n",
    "                                           name_prefix='cls_logits')\n",
    "        centerness_logits = conv_block(x, 1, 3,\n",
    "                                       kernel_init=kernel_init, bn_act=False,\n",
    "                                       name_prefix='ctr_logits')\n",
    "        outputs = [classification_logits, centerness_logits]\n",
    "        return tf.keras.Model(inputs=[input_layer],\n",
    "                              outputs=[outputs],\n",
    "                              name='classification_head')\n",
    "\n",
    "    def _get_regression_head(self):\n",
    "        kernel_init = RandomNormal(0.0, 0.01)\n",
    "        input_layer = Input(shape=[None, None, 256])\n",
    "        x = input_layer\n",
    "\n",
    "        for i in range(4):\n",
    "            x = conv_block(x, 256, 3, kernel_init=kernel_init,\n",
    "                           name_prefix='r_head_{}'.format(i))\n",
    "        regression_logits = conv_block(x, 4, 3, kernel_init=kernel_init,\n",
    "                                       bn_act=False, name_prefix='reg_logits')\n",
    "        return tf.keras.Model(inputs=[input_layer],\n",
    "                              outputs=[regression_logits],\n",
    "                              name='regression_head')\n",
    "\n",
    "    def _build_model(self):\n",
    "        with self.distribute_strategy.scope():\n",
    "            print('****Building FCOS')\n",
    "            self._classification_head = self._get_classification_head()\n",
    "            self._regression_head = self._get_regression_head()\n",
    "            \n",
    "            self._classification_logits = []\n",
    "            self._centerness_logits = []\n",
    "            self._regression_logits = []\n",
    "            \n",
    "            for i in range(3, 8):\n",
    "                feature = self._pyramid_features['P{}'.format(i)]\n",
    "                _cls_head_logits = self._classification_head(feature)\n",
    "                self._classification_logits.append(_cls_head_logits[0][0])\n",
    "                self._centerness_logits.append(_cls_head_logits[0][1])\n",
    "                self._regression_logits.append(self._regression_head(feature))\n",
    "                \n",
    "            _image_input = self._backbone.input\n",
    "            outputs = [self._classification_logits,\n",
    "                       self._centerness_logits, \n",
    "                       self._regression_logits]\n",
    "            self.model = tf.keras.Model(inputs=[_image_input], outputs=outputs, name='FCOS')"
   ]
  },
  {
   "cell_type": "code",
   "execution_count": 7,
   "metadata": {},
   "outputs": [],
   "source": [
    "config = {\n",
    "    'mode':'train',\n",
    "    'distribute_strategy':tf.distribute.OneDeviceStrategy(device='/cpu:0'),\n",
    "    'image_height':800,\n",
    "    'image_width':1024,\n",
    "    'num_classes':80,\n",
    "    'dataset':None,\n",
    "    'epochs':250,\n",
    "    'learning_rate':1e-4,\n",
    "    'model_dir':'model_files',\n",
    "    'tensorboard_log_dir':'logs'\n",
    "}"
   ]
  },
  {
   "cell_type": "code",
   "execution_count": 8,
   "metadata": {},
   "outputs": [
    {
     "name": "stdout",
     "output_type": "stream",
     "text": [
      "****Building FPN\n",
      "****Building FCOS\n"
     ]
    }
   ],
   "source": [
    "fcos = FCOS(config)"
   ]
  },
  {
   "cell_type": "code",
   "execution_count": 10,
   "metadata": {},
   "outputs": [
    {
     "data": {
      "text/plain": [
       "[<tf.Tensor 'classification_head/Identity:0' shape=(None, 100, 128, 80) dtype=float32>,\n",
       " <tf.Tensor 'classification_head_1/Identity:0' shape=(None, 50, 64, 80) dtype=float32>,\n",
       " <tf.Tensor 'classification_head_2/Identity:0' shape=(None, 25, 32, 80) dtype=float32>,\n",
       " <tf.Tensor 'classification_head_3/Identity:0' shape=(None, 13, 16, 80) dtype=float32>,\n",
       " <tf.Tensor 'classification_head_4/Identity:0' shape=(None, 7, 8, 80) dtype=float32>,\n",
       " <tf.Tensor 'classification_head/Identity_1:0' shape=(None, 100, 128, 1) dtype=float32>,\n",
       " <tf.Tensor 'classification_head_1/Identity_1:0' shape=(None, 50, 64, 1) dtype=float32>,\n",
       " <tf.Tensor 'classification_head_2/Identity_1:0' shape=(None, 25, 32, 1) dtype=float32>,\n",
       " <tf.Tensor 'classification_head_3/Identity_1:0' shape=(None, 13, 16, 1) dtype=float32>,\n",
       " <tf.Tensor 'classification_head_4/Identity_1:0' shape=(None, 7, 8, 1) dtype=float32>,\n",
       " <tf.Tensor 'regression_head/Identity:0' shape=(None, 100, 128, 4) dtype=float32>,\n",
       " <tf.Tensor 'regression_head_1/Identity:0' shape=(None, 50, 64, 4) dtype=float32>,\n",
       " <tf.Tensor 'regression_head_2/Identity:0' shape=(None, 25, 32, 4) dtype=float32>,\n",
       " <tf.Tensor 'regression_head_3/Identity:0' shape=(None, 13, 16, 4) dtype=float32>,\n",
       " <tf.Tensor 'regression_head_4/Identity:0' shape=(None, 7, 8, 4) dtype=float32>]"
      ]
     },
     "execution_count": 10,
     "metadata": {},
     "output_type": "execute_result"
    }
   ],
   "source": [
    "fcos.model.outputs"
   ]
  },
  {
   "cell_type": "code",
   "execution_count": 12,
   "metadata": {},
   "outputs": [
    {
     "name": "stdout",
     "output_type": "stream",
     "text": [
      "Model: \"regression_head\"\n",
      "_________________________________________________________________\n",
      "Layer (type)                 Output Shape              Param #   \n",
      "=================================================================\n",
      "input_3 (InputLayer)         [(None, None, None, 256)] 0         \n",
      "_________________________________________________________________\n",
      "r_head_0_conv_3x3 (Conv2D)   multiple                  590080    \n",
      "_________________________________________________________________\n",
      "r_head_0_bn (BatchNormalizat multiple                  1024      \n",
      "_________________________________________________________________\n",
      "r_head_0_relu (ReLU)         multiple                  0         \n",
      "_________________________________________________________________\n",
      "r_head_1_conv_3x3 (Conv2D)   multiple                  590080    \n",
      "_________________________________________________________________\n",
      "r_head_1_bn (BatchNormalizat multiple                  1024      \n",
      "_________________________________________________________________\n",
      "r_head_1_relu (ReLU)         multiple                  0         \n",
      "_________________________________________________________________\n",
      "r_head_2_conv_3x3 (Conv2D)   multiple                  590080    \n",
      "_________________________________________________________________\n",
      "r_head_2_bn (BatchNormalizat multiple                  1024      \n",
      "_________________________________________________________________\n",
      "r_head_2_relu (ReLU)         multiple                  0         \n",
      "_________________________________________________________________\n",
      "r_head_3_conv_3x3 (Conv2D)   multiple                  590080    \n",
      "_________________________________________________________________\n",
      "r_head_3_bn (BatchNormalizat multiple                  1024      \n",
      "_________________________________________________________________\n",
      "r_head_3_relu (ReLU)         multiple                  0         \n",
      "_________________________________________________________________\n",
      "reg_logits_conv_3x3 (Conv2D) multiple                  9220      \n",
      "=================================================================\n",
      "Total params: 2,373,636\n",
      "Trainable params: 2,371,588\n",
      "Non-trainable params: 2,048\n",
      "_________________________________________________________________\n",
      "Model: \"classification_head\"\n",
      "__________________________________________________________________________________________________\n",
      "Layer (type)                    Output Shape         Param #     Connected to                     \n",
      "==================================================================================================\n",
      "input_2 (InputLayer)            [(None, None, None,  0                                            \n",
      "__________________________________________________________________________________________________\n",
      "c_head_0_conv_3x3 (Conv2D)      multiple             590080      input_2[0][0]                    \n",
      "__________________________________________________________________________________________________\n",
      "c_head_0_bn (BatchNormalization multiple             1024        c_head_0_conv_3x3[0][0]          \n",
      "__________________________________________________________________________________________________\n",
      "c_head_0_relu (ReLU)            multiple             0           c_head_0_bn[0][0]                \n",
      "__________________________________________________________________________________________________\n",
      "c_head_1_conv_3x3 (Conv2D)      multiple             590080      c_head_0_relu[0][0]              \n",
      "__________________________________________________________________________________________________\n",
      "c_head_1_bn (BatchNormalization multiple             1024        c_head_1_conv_3x3[0][0]          \n",
      "__________________________________________________________________________________________________\n",
      "c_head_1_relu (ReLU)            multiple             0           c_head_1_bn[0][0]                \n",
      "__________________________________________________________________________________________________\n",
      "c_head_2_conv_3x3 (Conv2D)      multiple             590080      c_head_1_relu[0][0]              \n",
      "__________________________________________________________________________________________________\n",
      "c_head_2_bn (BatchNormalization multiple             1024        c_head_2_conv_3x3[0][0]          \n",
      "__________________________________________________________________________________________________\n",
      "c_head_2_relu (ReLU)            multiple             0           c_head_2_bn[0][0]                \n",
      "__________________________________________________________________________________________________\n",
      "c_head_3_conv_3x3 (Conv2D)      multiple             590080      c_head_2_relu[0][0]              \n",
      "__________________________________________________________________________________________________\n",
      "c_head_3_bn (BatchNormalization multiple             1024        c_head_3_conv_3x3[0][0]          \n",
      "__________________________________________________________________________________________________\n",
      "c_head_3_relu (ReLU)            multiple             0           c_head_3_bn[0][0]                \n",
      "__________________________________________________________________________________________________\n",
      "cls_logits_conv_3x3 (Conv2D)    multiple             184400      c_head_3_relu[0][0]              \n",
      "__________________________________________________________________________________________________\n",
      "ctr_logits_conv_3x3 (Conv2D)    multiple             2305        c_head_3_relu[0][0]              \n",
      "==================================================================================================\n",
      "Total params: 2,551,121\n",
      "Trainable params: 2,549,073\n",
      "Non-trainable params: 2,048\n",
      "__________________________________________________________________________________________________\n"
     ]
    },
    {
     "data": {
      "text/plain": [
       "(None, None)"
      ]
     },
     "execution_count": 12,
     "metadata": {},
     "output_type": "execute_result"
    }
   ],
   "source": [
    "fcos._regression_head.summary(), fcos._classification_head.summary()"
   ]
  },
  {
   "cell_type": "code",
   "execution_count": 13,
   "metadata": {},
   "outputs": [
    {
     "data": {
      "text/plain": [
       "[<tf.Tensor 'classification_head/Identity:0' shape=(None, 100, 128, 80) dtype=float32>,\n",
       " <tf.Tensor 'classification_head_1/Identity:0' shape=(None, 50, 64, 80) dtype=float32>,\n",
       " <tf.Tensor 'classification_head_2/Identity:0' shape=(None, 25, 32, 80) dtype=float32>,\n",
       " <tf.Tensor 'classification_head_3/Identity:0' shape=(None, 13, 16, 80) dtype=float32>,\n",
       " <tf.Tensor 'classification_head_4/Identity:0' shape=(None, 7, 8, 80) dtype=float32>]"
      ]
     },
     "execution_count": 13,
     "metadata": {},
     "output_type": "execute_result"
    }
   ],
   "source": [
    "fcos._classification_logits"
   ]
  },
  {
   "cell_type": "code",
   "execution_count": 14,
   "metadata": {},
   "outputs": [
    {
     "data": {
      "text/plain": [
       "[<tf.Tensor 'classification_head/Identity_1:0' shape=(None, 100, 128, 1) dtype=float32>,\n",
       " <tf.Tensor 'classification_head_1/Identity_1:0' shape=(None, 50, 64, 1) dtype=float32>,\n",
       " <tf.Tensor 'classification_head_2/Identity_1:0' shape=(None, 25, 32, 1) dtype=float32>,\n",
       " <tf.Tensor 'classification_head_3/Identity_1:0' shape=(None, 13, 16, 1) dtype=float32>,\n",
       " <tf.Tensor 'classification_head_4/Identity_1:0' shape=(None, 7, 8, 1) dtype=float32>]"
      ]
     },
     "execution_count": 14,
     "metadata": {},
     "output_type": "execute_result"
    }
   ],
   "source": [
    "fcos._centerness_logits"
   ]
  },
  {
   "cell_type": "code",
   "execution_count": 15,
   "metadata": {},
   "outputs": [
    {
     "data": {
      "text/plain": [
       "[<tf.Tensor 'regression_head/Identity:0' shape=(None, 100, 128, 4) dtype=float32>,\n",
       " <tf.Tensor 'regression_head_1/Identity:0' shape=(None, 50, 64, 4) dtype=float32>,\n",
       " <tf.Tensor 'regression_head_2/Identity:0' shape=(None, 25, 32, 4) dtype=float32>,\n",
       " <tf.Tensor 'regression_head_3/Identity:0' shape=(None, 13, 16, 4) dtype=float32>,\n",
       " <tf.Tensor 'regression_head_4/Identity:0' shape=(None, 7, 8, 4) dtype=float32>]"
      ]
     },
     "execution_count": 15,
     "metadata": {},
     "output_type": "execute_result"
    }
   ],
   "source": [
    "fcos._regression_logits"
   ]
  },
  {
   "cell_type": "code",
   "execution_count": 10,
   "metadata": {},
   "outputs": [
    {
     "data": {
      "text/plain": [
       "{'P3': <tf.Tensor 'P3_conv_3x3/Identity:0' shape=(None, 100, 128, 256) dtype=float32>,\n",
       " 'P4': <tf.Tensor 'P4_conv_3x3/Identity:0' shape=(None, 50, 64, 256) dtype=float32>,\n",
       " 'P5': <tf.Tensor 'P5_conv_3x3/Identity:0' shape=(None, 25, 32, 256) dtype=float32>,\n",
       " 'P6': <tf.Tensor 'P6_conv_3x3/Identity:0' shape=(None, 13, 16, 256) dtype=float32>,\n",
       " 'P7': <tf.Tensor 'P7_conv_3x3/Identity:0' shape=(None, 7, 8, 256) dtype=float32>}"
      ]
     },
     "execution_count": 10,
     "metadata": {},
     "output_type": "execute_result"
    }
   ],
   "source": [
    "model._pyramid_features"
   ]
  },
  {
   "cell_type": "code",
   "execution_count": null,
   "metadata": {},
   "outputs": [],
   "source": [
    "    "
   ]
  }
 ],
 "metadata": {
  "kernelspec": {
   "display_name": "Python 3",
   "language": "python",
   "name": "python3"
  },
  "language_info": {
   "codemirror_mode": {
    "name": "ipython",
    "version": 3
   },
   "file_extension": ".py",
   "mimetype": "text/x-python",
   "name": "python",
   "nbconvert_exporter": "python",
   "pygments_lexer": "ipython3",
   "version": "3.6.7"
  }
 },
 "nbformat": 4,
 "nbformat_minor": 4
}
