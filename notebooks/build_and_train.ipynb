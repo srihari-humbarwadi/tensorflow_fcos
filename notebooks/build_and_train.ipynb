{
 "cells": [
  {
   "cell_type": "code",
   "execution_count": 1,
   "metadata": {},
   "outputs": [
    {
     "name": "stdout",
     "output_type": "stream",
     "text": [
      "TensorFlow: 2.0.0\n"
     ]
    }
   ],
   "source": [
    "import numpy as np\n",
    "from pprint import pprint\n",
    "import tensorflow as tf\n",
    "from tensorflow.keras.initializers import RandomNormal, Constant\n",
    "from tensorflow.keras.layers import (Input,\n",
    "                                     Conv2D, \n",
    "                                     Concatenate,\n",
    "                                     BatchNormalization,\n",
    "                                     Lambda,\n",
    "                                     ReLU,\n",
    "                                     Reshape,\n",
    "                                     Add)\n",
    "from tensorflow.keras.callbacks import TensorBoard, ModelCheckpoint\n",
    "from tensorflow.keras import backend as K\n",
    "from tqdm.notebook import tqdm\n",
    "\n",
    "print('TensorFlow:', tf.__version__)"
   ]
  },
  {
   "cell_type": "code",
   "execution_count": 2,
   "metadata": {},
   "outputs": [],
   "source": [
    "def conv_block(input_tensor=None,\n",
    "               filters=None,\n",
    "               kernel_size=None,\n",
    "               strides=1,\n",
    "               padding='same',\n",
    "               kernel_init='he_normal',\n",
    "               bias_init='zeros',\n",
    "               bn_act=True,\n",
    "               name_prefix=None):\n",
    "    \n",
    "    _x = Conv2D(filters=filters, kernel_size=kernel_size,\n",
    "                padding=padding, strides=strides,\n",
    "                kernel_initializer=kernel_init,\n",
    "                bias_initializer=bias_init,\n",
    "                name='{}_conv_{}x{}'.format(name_prefix,\n",
    "                                            kernel_size,\n",
    "                                            kernel_size))(input_tensor)\n",
    "    if bn_act:\n",
    "        _x = BatchNormalization(\n",
    "            name='{}_bn'.format(name_prefix))(_x)\n",
    "        _x = ReLU(name='{}_relu'.format(name_prefix))(_x)\n",
    "    return _x\n",
    "\n",
    "\n",
    "def upsample_like(input_tensor, target_tensor, name=None):\n",
    "    _, fh, fw, _ = target_tensor.shape\n",
    "    _upsampled_tensor = tf.image.resize(input_tensor,\n",
    "                                        size=[fh, fw],\n",
    "                                        method='nearest', \n",
    "                                        name=name)\n",
    "    return _upsampled_tensor\n",
    "\n",
    "\n",
    "\n",
    "class Scale(tf.keras.layers.Layer):\n",
    "    def __init__(self, init_value=1.0, **kwargs):\n",
    "        super(Scale, self).__init__(**kwargs)\n",
    "        self.init_value = init_value\n",
    "\n",
    "    def build(self, input_shape):\n",
    "        self.scale = \\\n",
    "            self.add_weight(name='scale',\n",
    "                            shape=[1],\n",
    "                            dtype=K.floatx(),\n",
    "                            trainable=True,\n",
    "                            initializer=Constant(value=self.init_value))\n",
    "\n",
    "    def call(self, x):\n",
    "        scaled_inputs = tf.multiply(self.scale, x)\n",
    "        return tf.exp(scaled_inputs)\n",
    "\n",
    "    def compute_output_shape(self, input_shape):\n",
    "        return input_shape\n",
    "\n",
    "    def get_config(self):\n",
    "        config = super(Scale, self).get_config()\n",
    "        return config"
   ]
  },
  {
   "cell_type": "code",
   "execution_count": 3,
   "metadata": {},
   "outputs": [],
   "source": [
    "class FCOS:\n",
    "    def __init__(self, config):\n",
    "        self._validate_config(config)\n",
    "        for attr in config:\n",
    "            setattr(self, attr, config[attr])\n",
    "        self._build_fpn()\n",
    "        self._build_model()\n",
    "        self._build_datasets()\n",
    "        self._build_optimizer()\n",
    "        self._build_callbacks()\n",
    "\n",
    "    def _validate_config(self, config):\n",
    "        attr_list = [\n",
    "            'mode',\n",
    "            'distribute_strategy',\n",
    "            'image_height',\n",
    "            'image_width',\n",
    "            'num_classes',\n",
    "            'data_dir',\n",
    "            'dataset_fn',\n",
    "            'batch_size',\n",
    "            'epochs',\n",
    "            'learning_rate',\n",
    "            'model_dir',\n",
    "            'tensorboard_log_dir'\n",
    "        ]\n",
    "        for attr in attr_list:\n",
    "            assert attr in config, 'Missing {} in config'.format(attr)\n",
    "        pprint('****Initializing FCOS with the following config')\n",
    "        pprint(config)\n",
    "\n",
    "    def _build_fpn(self):\n",
    "        '''\n",
    "            From the FPN paper, \"To start the iteration, we simply attach a\n",
    "            1×1 convolutional layer on C5 to produce the coarsest resolution\n",
    "            map. Finally, we append a 3×3 convolution on each merged map to\n",
    "            generate the final feature map, which is to reduce the aliasing\n",
    "            effect of upsampling. This final set of feature maps is called\n",
    "            {P2, P3, P4, P5}, corresponding to {C2, C3, C4, C5} that are\n",
    "            respectively of the same spatial sizes\".\n",
    "            From the FCOS paper, \"P6 and P7 are produced by applying one\n",
    "            convolutional layer with the stride being 2 on P5 and P6,\n",
    "            respectively\".\n",
    "        '''\n",
    "        with self.distribute_strategy.scope():\n",
    "            pprint('****Building FPN')\n",
    "            self._backbone = tf.keras.applications.ResNet50V2(\n",
    "                input_shape=[self.image_height, self.image_width, 3],\n",
    "                weights='imagenet',\n",
    "                include_top=False)\n",
    "            C5 = self._backbone.get_layer('post_relu').output\n",
    "            C4 = self._backbone.get_layer('conv4_block6_1_relu').output\n",
    "            C3 = self._backbone.get_layer('conv3_block4_1_relu').output\n",
    "\n",
    "            M5 = conv_block(C5, 256, 1, bn_act=False, name_prefix='C5')\n",
    "            P5 = conv_block(M5, 256, 3, bn_act=False, name_prefix='P5')\n",
    "            M5_upsampled = upsample_like(M5, C4, name='M5_upsampled')\n",
    "\n",
    "            M4 = conv_block(C4, 256, 1, bn_act=False, name_prefix='C4')\n",
    "            M4 = tf.keras.layers.Add(name='M4_M5_add')([M4, M5_upsampled])\n",
    "            P4 = conv_block(M4, 256, 3, bn_act=False, name_prefix='P4')\n",
    "            M4_upsampled = upsample_like(M4, C3, name='M4_upsampled')\n",
    "\n",
    "            M3 = conv_block(C3, 256, 1, bn_act=False, name_prefix='C3')\n",
    "            P3 = Add(name='M3_M4_add')([M3, M4_upsampled])\n",
    "            P3 = conv_block(P3, 256, 3, bn_act=False, name_prefix='P3')\n",
    "\n",
    "            P6 = conv_block(P5, 256, 3, 2, bn_act=False, name_prefix='P6')\n",
    "            P6_relu = ReLU(name='P6_relu')(P6)\n",
    "            P7 = conv_block(P6_relu, 256, 3, 2, bn_act=False, name_prefix='P7')\n",
    "\n",
    "            self._pyramid_features = {\n",
    "                'P3': P3,\n",
    "                'P4': P4,\n",
    "                'P5': P5,\n",
    "                'P6': P6,\n",
    "                'P7': P7\n",
    "            }\n",
    "\n",
    "    def _get_classification_head(self, p=0.01):\n",
    "        kernel_init = RandomNormal(0.0, 0.01)\n",
    "        bias_init = Constant(-np.log((1 - p) / p))\n",
    "\n",
    "        input_layer = Input(shape=[None, None, 256])\n",
    "        x = input_layer\n",
    "\n",
    "        for i in range(4):\n",
    "            x = conv_block(x, 256, 3, kernel_init=kernel_init,\n",
    "                           bn_act=False, name_prefix='c_head_{}'.format(i))\n",
    "        classification_logits = conv_block(x, self.num_classes,\n",
    "                                           3, kernel_init=kernel_init,\n",
    "                                           bias_init=bias_init, bn_act=False,\n",
    "                                           name_prefix='cls_logits')\n",
    "        centerness_logits = conv_block(x, 1, 3,\n",
    "                                       kernel_init=kernel_init, bn_act=False,\n",
    "                                       name_prefix='ctr_logits')\n",
    "        classification_logits = Reshape(\n",
    "            target_shape=[-1, self.num_classes])(classification_logits)\n",
    "        centerness_logits = Reshape(target_shape=[-1, 1])(centerness_logits)\n",
    "\n",
    "        outputs = [classification_logits, centerness_logits]\n",
    "        return tf.keras.Model(inputs=[input_layer],\n",
    "                              outputs=[outputs],\n",
    "                              name='classification_head')\n",
    "\n",
    "    def _get_regression_head(self):\n",
    "        kernel_init = RandomNormal(0.0, 0.01)\n",
    "        input_layer = Input(shape=[None, None, 256])\n",
    "        x = input_layer\n",
    "\n",
    "        for i in range(4):\n",
    "            x = conv_block(x, 256, 3, kernel_init=kernel_init,\n",
    "                           bn_act=False, name_prefix='r_head_{}'.format(i))\n",
    "        regression_logits = conv_block(x, 4, 3, kernel_init=kernel_init,\n",
    "                                       bn_act=False, name_prefix='reg_logits')\n",
    "        regression_logits = Reshape(target_shape=[-1, 4])(regression_logits)\n",
    "        return tf.keras.Model(inputs=[input_layer],\n",
    "                              outputs=[regression_logits],\n",
    "                              name='regression_head')\n",
    "\n",
    "    def _build_model(self):\n",
    "        with self.distribute_strategy.scope():\n",
    "            pprint('****Building FCOS')\n",
    "            self._classification_head = self._get_classification_head()\n",
    "            self._regression_head = self._get_regression_head()\n",
    "\n",
    "            self._classification_logits = []\n",
    "            self._centerness_logits = []\n",
    "            self._regression_logits = []\n",
    "\n",
    "            for i in range(3, 8):\n",
    "                feature = self._pyramid_features['P{}'.format(i)]\n",
    "                _cls_head_logits = self._classification_head(feature)\n",
    "                _reg_head_logits = self._regression_head(feature)\n",
    "                _reg_head_logits = \\\n",
    "                    Scale(init_value=1.0,\n",
    "                          name='P{}_reg_outputs'.format(i))(_reg_head_logits)\n",
    "\n",
    "                self._classification_logits.append(_cls_head_logits[0][0])\n",
    "                self._centerness_logits.append(_cls_head_logits[0][1])\n",
    "                self._regression_logits.append(_reg_head_logits)\n",
    "\n",
    "            self._classification_logits = Concatenate(\n",
    "                axis=1,\n",
    "                name='classification_outputs')(self._classification_logits)\n",
    "            self._centerness_logits = Concatenate(\n",
    "                axis=1, name='centerness_outputs')(self._centerness_logits)\n",
    "            self._regression_logits = Concatenate(\n",
    "                axis=1, name='regression_outputs')(self._regression_logits)\n",
    "\n",
    "            _image_input = self._backbone.input\n",
    "            outputs = [self._classification_logits,\n",
    "                       self._centerness_logits,\n",
    "                       self._regression_logits]\n",
    "            self.model = tf.keras.Model(\n",
    "                inputs=[_image_input], outputs=outputs, name='FCOS')\n",
    "            self.model.build([self.image_height, self.image_width, 3])\n",
    "\n",
    "    def _build_datasets(self):\n",
    "        pprint('****Building Datasets')\n",
    "        with self.distribute_strategy.scope():\n",
    "            self.train_dataset, self.val_dataset, \\\n",
    "                num_train_images, num_val_images =  \\\n",
    "                self.dataset_fn(self.image_height,\n",
    "                                self.image_width,\n",
    "                                self.data_dir,\n",
    "                                self.batch_size)\n",
    "\n",
    "            self.train_steps = num_train_images // self.batch_size\n",
    "            self.val_steps = num_val_images // self.batch_size\n",
    "\n",
    "    def _build_callbacks(self):\n",
    "        pprint('****Setting Up Callbacks')\n",
    "        self.callbacks = [\n",
    "            TensorBoard(log_dir=self.tensorboard_log_dir),\n",
    "            ModelCheckpoint(filepath=self.model_dir + '/ckpt-{epoch:02d}',\n",
    "                            monitor='val_loss',\n",
    "                            save_weights_only=True,\n",
    "                            save_best_only=True)\n",
    "        ]\n",
    "\n",
    "    def _build_optimizer(self):\n",
    "        pprint('****Setting Up Optimizer')\n",
    "        self.optimizer = tf.keras.optimizers.Adam(lr=self.learning_rate)\n",
    "\n",
    "    def _classification_loss(self, alpha=0.25, gamma=2):\n",
    "        # TODO\n",
    "        #   a) Double check if tf.keras.Model.fit is handling\n",
    "        #      loss scaling for distributed training if not\n",
    "        #      use tf.nn.compute_average_loss fn\n",
    "        @tf.function\n",
    "        def focal_loss(y_true, y_pred):\n",
    "            fg_mask = tf.cast(y_true != 0, dtype=tf.float32)\n",
    "            y_true = tf.one_hot(\n",
    "                tf.cast(y_true, dtype=tf.int32), depth=self.num_classes + 1)\n",
    "            y_true = y_true[:, :, 1:]\n",
    "            y_pred_ = tf.sigmoid(y_pred)\n",
    "\n",
    "            at = alpha * y_true + (1 - y_true) * (1 - alpha)\n",
    "            pt = y_true * y_pred_ + (1 - y_true) * (1 - y_pred_)\n",
    "            f_loss = at * \\\n",
    "                tf.pow(1 - pt, gamma) * \\\n",
    "                tf.nn.sigmoid_cross_entropy_with_logits(\n",
    "                    labels=y_true, logits=y_pred)\n",
    "            f_loss = tf.reduce_mean(f_loss, axis=2)\n",
    "            f_loss = f_loss * fg_mask\n",
    "            f_loss = tf.reduce_sum(f_loss, axis=1, keepdims=True)\n",
    "            normalizer_value = tf.reduce_sum(fg_mask, axis=1, keepdims=True)\n",
    "            f_loss = f_loss / normalizer_value\n",
    "            return f_loss\n",
    "        return focal_loss\n",
    "\n",
    "    @tf.function\n",
    "    def _centerness_loss(self, labels, logits):\n",
    "        # TODO\n",
    "        #   a) Double check if tf.keras.Model.fit is handling\n",
    "        #      loss scaling for distributed training if not\n",
    "        #      use tf.nn.compute_average_loss fn\n",
    "        fg_mask = tf.cast(labels != 0, dtype=tf.float32)\n",
    "        bce_loss = tf.nn.sigmoid_cross_entropy_with_logits(\n",
    "            labels=labels, logits=logits)\n",
    "        bce_loss = bce_loss * fg_mask\n",
    "        bce_loss = tf.reduce_sum(bce_loss, axis=1)\n",
    "        normalizer_value = tf.reduce_sum(fg_mask, axis=1)\n",
    "        bce_loss = bce_loss / normalizer_value\n",
    "        return bce_loss\n",
    "\n",
    "    @tf.function\n",
    "    def _regression_loss(self, labels, logits):\n",
    "        # TODO\n",
    "        #   a) Double check if tf.keras.Model.fit is handling\n",
    "        #      loss scaling for distributed training if not\n",
    "        #      use tf.nn.compute_average_loss fn\n",
    "        fg_mask = tf.cast(labels != 0, dtype=tf.float32)\n",
    "        boxes_true = tf.concat([\n",
    "            self._centers - labels[:, :, :2],\n",
    "            self._centers + labels[:, :, 2:]], axis=-1) * fg_mask\n",
    "\n",
    "        boxes_pred = tf.concat([\n",
    "            self._centers - logits[:, :, :2],\n",
    "            self._centers + logits[:, :, 2:]], axis=-1) * fg_mask\n",
    "\n",
    "        lu = tf.maximum(boxes_true[:, :, :2], boxes_pred[:, :, :2])\n",
    "        rd = tf.minimum(boxes_true[:, :, 2:], boxes_pred[:, :, 2:])\n",
    "        intersection = tf.maximum(0.0, rd - lu)\n",
    "        intersection_area = intersection[:, :, 0] * intersection[:, :, 1]\n",
    "        boxes_true_area = tf.reduce_prod(\n",
    "            boxes_true[:, :, 2:] - boxes_true[:, :, :2], axis=2)\n",
    "        boxes_pred_area = tf.reduce_prod(\n",
    "            boxes_pred[:, :, 2:] - boxes_pred[:, :, :2], axis=2)\n",
    "        union_area = tf.maximum(\n",
    "            boxes_true_area + boxes_pred_area - intersection_area, 1e-10)\n",
    "        iou = tf.clip_by_value(intersection_area / union_area, 0.0, 1.0)\n",
    "\n",
    "        fg_mask = tf.reduce_sum(fg_mask, axis=2)\n",
    "        fg_mask = tf.cast(fg_mask != 0, dtype=tf.float32)\n",
    "        normalizer_value = tf.reduce_sum(fg_mask, axis=1, keepdims=True)\n",
    "\n",
    "        bg_mask = (1 - fg_mask) * 1e-7\n",
    "        iou_loss = iou + bg_mask\n",
    "        iou_loss = -1 * tf.math.log(iou_loss)\n",
    "        iou_loss = iou_loss * fg_mask\n",
    "        iou_loss = tf.reduce_sum(iou_loss, axis=1, keepdims=True)\n",
    "        iou_loss = iou_loss / normalizer_value\n",
    "        return iou_loss\n",
    "\n",
    "    def train(self):\n",
    "        loss_dict = {\n",
    "            'classification_outputs': self._classification_loss(alpha=0.25,\n",
    "                                                                gamma=2),\n",
    "            'centerness_outputs': self._centerness_loss,\n",
    "            'regression_outputs': self._regression_loss\n",
    "        }\n",
    "        self._centers = get_all_centers(self.image_height, self.image_width)\n",
    "        with self.distribute_strategy.scope():\n",
    "            self.model.compile(optimizer=self.optimizer,\n",
    "                               loss=loss_dict)\n",
    "            self.model.fit(self.train_dataset,\n",
    "                           epochs=self.epochs,\n",
    "                           steps_per_epoch=self.training_steps,\n",
    "                           validation_data=self.val_dataset,\n",
    "                           validation_steps=self.val_steps,\n",
    "                           validation_freq=2,\n",
    "                           callbacks=self.callbacks)"
   ]
  },
  {
   "cell_type": "code",
   "execution_count": 4,
   "metadata": {},
   "outputs": [],
   "source": [
    "@tf.function\n",
    "def flip_data(image, boxes, w):\n",
    "    if tf.random.uniform(()) > 0.5:\n",
    "        image = tf.image.flip_left_right(image)\n",
    "        boxes = tf.stack([\n",
    "            w - boxes[:, 2],\n",
    "            boxes[:, 1],\n",
    "            w - boxes[:, 0],\n",
    "            boxes[:, 3]\n",
    "        ], axis=-1)\n",
    "    return image, boxes\n",
    "\n",
    "\n",
    "@tf.function\n",
    "def random_jitter(image):\n",
    "    # ToDo\n",
    "    pass\n",
    "\n",
    "\n",
    "def compute_area(boxes):\n",
    "    h_ = boxes[:, 2] - boxes[:, 0]\n",
    "    w_ = boxes[:, 3] - boxes[:, 1]\n",
    "    return h_ * w_\n",
    "\n",
    "\n",
    "def compute_feature_sizes(H, W):\n",
    "    fm_sizes = []\n",
    "    for i in range(3, 8):\n",
    "        stride = 2.**i\n",
    "        fm_sizes.append([tf.math.ceil(H / stride),\n",
    "                         tf.math.ceil(W / stride), stride])\n",
    "    return fm_sizes\n",
    "\n",
    "\n",
    "def get_centers(fm_h, fm_w, stride=None):\n",
    "    rx = (tf.range(fm_w) + 0.5) * (stride)\n",
    "    ry = (tf.range(fm_h) + 0.5) * (stride)\n",
    "    sx, sy = tf.meshgrid(rx, ry)\n",
    "    cxy = tf.stack([sx, sy], axis=-1)\n",
    "    return cxy\n",
    "\n",
    "\n",
    "def get_all_centers(H, W):\n",
    "    centers_list = []\n",
    "    feature_sizes = compute_feature_sizes(H, W)\n",
    "    for fm_h, fm_w, stride in feature_sizes:\n",
    "        cyx = get_centers(fm_h, fm_w, stride)\n",
    "        cyx = tf.reshape(cyx, shape=[-1, 2])\n",
    "        centers_list.append(cyx)\n",
    "    return centers_list\n",
    "\n",
    "\n",
    "@tf.function(input_signature=[\n",
    "    tf.TensorSpec(shape=[None, 2], dtype=tf.float32),\n",
    "    tf.TensorSpec(shape=[None, 5], dtype=tf.float32),\n",
    "    tf.TensorSpec(shape=[], dtype=tf.float32),\n",
    "    tf.TensorSpec(shape=[], dtype=tf.float32)\n",
    "])\n",
    "def compute_targets_(centers, labels, low, high):\n",
    "    '''\n",
    "        From the FCOS paper, \"Specifically, location (x, y) is\n",
    "        considered as a positive sample if it falls into any\n",
    "        ground-truth box and the class label c* of the location is\n",
    "        the class label of the ground-truth box. Otherwise it is a\n",
    "        negative sample and class* = 0 (background class)\n",
    "        Besides the label for classification, we also have a 4D\n",
    "        real vector t* = (l*, t*, r*, b*) being the regression\n",
    "        targets for the location. Here l*, t*, r* and b* are the\n",
    "        distances from the location to the four sides of the bounding\n",
    "        box ...If a location falls into multiple bounding boxes, it is\n",
    "        considered as an ambiguous sample. We simply choose the\n",
    "        bounding box with minimal area as its regression target.\n",
    "        ...we firstly compute the regressiontargets l*, t*, r* and b*\n",
    "        for each location on all feature levels. Next, if a location\n",
    "        satisfies max(l*, t*, r*, b*) > mi or max(l*, t*, r*, b*) < mi−1,\n",
    "        it is set as a negative sample and is thus not required to\n",
    "        regress a bounding box anymore. Here mi is the maximum distance\n",
    "        that feature level i needs to regress. In this work, m2, m3, m4,\n",
    "        m5, m6 and m7 are set as 0, 64, 128, 256, 512 and ∞, respectively\"\n",
    "        Args:\n",
    "            centers (M, 2): Centers for the current feature level\n",
    "            labels (N, 5):  All labels for the current image\n",
    "            low: Lower limit for ltrb value for the current feature level\n",
    "            high: Upper limit for ltrb value for the current feature level\n",
    "    '''\n",
    "    boxes_ = labels[:, :4]\n",
    "    class_ids_ = labels[:, 4]\n",
    "\n",
    "    # Sorted the boxes by area in ascending order so that\n",
    "    # we pick the smallest box when computing ltbr values\n",
    "    areas = compute_area(boxes_)\n",
    "    sorted_indices = tf.argsort(areas)\n",
    "    boxes = tf.gather(boxes_, indices=sorted_indices)\n",
    "    class_ids = tf.gather(class_ids_, indices=sorted_indices)\n",
    "\n",
    "    xy_min_ = boxes[:, :2]\n",
    "    xy_max_ = boxes[:, 2:]\n",
    "    lt_ = centers[:, None] - xy_min_\n",
    "    rb_ = xy_max_ - centers[:, None]\n",
    "    ltrb_ = tf.concat([lt_, rb_], axis=2)  # (M, N, 4)\n",
    "\n",
    "    # check if max(lbtr) lies in the valid_range for this\n",
    "    # feature level\n",
    "    max_ltrb_ = tf.reduce_max(ltrb_, axis=2)  # (M, N)\n",
    "    mask_ltrb_size = tf.logical_and(max_ltrb_ > low, max_ltrb_ < high)\n",
    "\n",
    "    mask_lt = tf.logical_and(ltrb_[:, :, 0] > 0, ltrb_[:, :, 1] > 0)\n",
    "    mask_rb = tf.logical_and(ltrb_[:, :, 2] > 0, ltrb_[:, :, 3] > 0)\n",
    "    mask = tf.logical_and(mask_lt, mask_rb)\n",
    "    mask = tf.logical_and(mask, mask_ltrb_size)  # (M, N)\n",
    "\n",
    "    mask = tf.cast(mask, dtype=tf.float32)\n",
    "    fg_mask = tf.reduce_sum(mask, axis=1) != 0  # (M,)\n",
    "    fg_mask = tf.cast(fg_mask, dtype=tf.float32)\n",
    "    fg_mask = tf.tile(fg_mask[:, None], multiples=[1, 4])\n",
    "\n",
    "    valid_indices = tf.argmax(mask, axis=1)  # (M, )\n",
    "    matched_boxes = tf.gather(boxes, valid_indices)\n",
    "    matched_class_ids = tf.gather(class_ids, valid_indices) + 1\n",
    "\n",
    "    x_min, y_min, x_max, y_max = tf.split(matched_boxes,\n",
    "                                          num_or_size_splits=4,\n",
    "                                          axis=1)\n",
    "    l = tf.abs(centers[:, 0] - x_min[:, 0])\n",
    "    t = tf.abs(centers[:, 1] - y_min[:, 0])\n",
    "    r = tf.abs(x_max[:, 0] - centers[:, 0])\n",
    "    b = tf.abs(y_max[:, 0] - centers[:, 1])\n",
    "    lr = tf.stack([l, r], axis=1)\n",
    "    tb = tf.stack([t, b], axis=1)\n",
    "\n",
    "    min_lr = tf.reduce_min(lr, axis=1)\n",
    "    max_lr = tf.reduce_max(lr, axis=1)\n",
    "    min_tb = tf.reduce_min(tb, axis=1)\n",
    "    max_tb = tf.reduce_max(tb, axis=1)\n",
    "\n",
    "    classification_target = matched_class_ids * fg_mask[:, 0]\n",
    "    centerness_target = tf.sqrt(\n",
    "        (min_lr / max_lr) * (min_tb / max_tb)) * fg_mask[:, 0]\n",
    "    regression_target = tf.stack([l, t, r, b], axis=1) * fg_mask\n",
    "\n",
    "    return classification_target, centerness_target, regression_target\n",
    "\n",
    "\n",
    "def compute_targets(H, W, labels):\n",
    "    centers_list = get_all_centers(H, W)\n",
    "    m = [\n",
    "        [0.0, 64.0],\n",
    "        [64.0, 128.0],\n",
    "        [128.0, 256.0],\n",
    "        [256.0, 512.0],\n",
    "        [512.0, 1e8]]\n",
    "    classification_target = []\n",
    "    centerness_target = []\n",
    "    regression_target = []\n",
    "    for i in range(5):\n",
    "        centers = centers_list[i]\n",
    "        low, high = m[i]\n",
    "        cls_target, \\\n",
    "            ctr_target, \\\n",
    "            reg_target = compute_targets_(centers, labels, low, high)\n",
    "\n",
    "        classification_target.append(cls_target)\n",
    "        centerness_target.append(ctr_target)\n",
    "        regression_target.append(reg_target)\n",
    "\n",
    "    classification_target = tf.concat(classification_target, axis=0)\n",
    "    centerness_target = tf.concat(centerness_target, axis=0)\n",
    "    centerness_target = tf.expand_dims(centerness_target, axis=-1)\n",
    "    regression_target = tf.concat(regression_target, axis=0)\n",
    "    return classification_target, centerness_target, regression_target\n",
    "\n",
    "\n",
    "feature_description = {\n",
    "    'image': tf.io.FixedLenFeature([], tf.string),\n",
    "    'xmins': tf.io.VarLenFeature(tf.float32),\n",
    "    'ymins': tf.io.VarLenFeature(tf.float32),\n",
    "    'xmaxs': tf.io.VarLenFeature(tf.float32),\n",
    "    'ymaxs': tf.io.VarLenFeature(tf.float32),\n",
    "    'labels': tf.io.VarLenFeature(tf.float32)\n",
    "}\n",
    "\n",
    "\n",
    "@tf.function\n",
    "def parse_example(example_proto):\n",
    "    parsed_example = tf.io.parse_single_example(\n",
    "        example_proto, feature_description)\n",
    "    image = tf.image.decode_jpeg(parsed_example['image'], channels=3)\n",
    "    bboxes = tf.stack([\n",
    "        tf.sparse.to_dense(parsed_example['xmins']),\n",
    "        tf.sparse.to_dense(parsed_example['ymins']),\n",
    "        tf.sparse.to_dense(parsed_example['xmaxs']),\n",
    "        tf.sparse.to_dense(parsed_example['ymaxs'])\n",
    "    ], axis=-1)\n",
    "    class_ids = tf.reshape(tf.sparse.to_dense(\n",
    "        parsed_example['labels']), [-1, 1])\n",
    "    return image, bboxes, class_ids\n",
    "\n",
    "\n",
    "\n",
    "def load_data(h, w):\n",
    "    @tf.function\n",
    "    def load_data_(example_proto):\n",
    "        image, boxes_, class_ids = parse_example(example_proto)\n",
    "        image.set_shape([None, None, 3])\n",
    "        image = tf.image.resize(image, size=[h, w])\n",
    "        boxes = tf.stack([\n",
    "            tf.clip_by_value(boxes_[:, 0] * w, 0, w),\n",
    "            tf.clip_by_value(boxes_[:, 1] * h, 0, h),\n",
    "            tf.clip_by_value(boxes_[:, 2] * w, 0, w),\n",
    "            tf.clip_by_value(boxes_[:, 3] * h, 0, h)\n",
    "        ], axis=-1)\n",
    "        image, boxes = flip_data(image, boxes, w)\n",
    "        label = tf.concat([boxes, class_ids], axis=-1)\n",
    "        classification_target, centerness_target, regression_target = \\\n",
    "            compute_targets(h, w, label)\n",
    "        return image, \\\n",
    "            (classification_target, centerness_target, regression_target)\n",
    "    return load_data_"
   ]
  },
  {
   "cell_type": "code",
   "execution_count": 5,
   "metadata": {},
   "outputs": [],
   "source": [
    "def create_dataset(H, W, tf_records_pattern, batch_size):\n",
    "    autotune = tf.data.experimental.AUTOTUNE\n",
    "    options = tf.data.Options()\n",
    "    options.experimental_deterministic = False\n",
    "    train_files = tf.data.Dataset.list_files(tf_records_pattern)\n",
    "    dataset = train_files.interleave(tf.data.TFRecordDataset,\n",
    "                                     cycle_length=16,\n",
    "                                     block_length=16,\n",
    "                                     num_parallel_calls=autotune)\n",
    "    dataset = dataset.map(\n",
    "        load_data(H, W), num_parallel_calls=autotune)\n",
    "    dataset = dataset.shuffle(512)\n",
    "    dataset = dataset.batch(batch_size, drop_remainder=True).repeat()\n",
    "    dataset = dataset.prefetch(autotune)\n",
    "    dataset = dataset.with_options(options)\n",
    "    return dataset\n",
    "\n",
    "\n",
    "def dataset_fn(H, W, data_dir, batch_size):\n",
    "    train_tf_records_pattern = data_dir + '/train*'\n",
    "    val_tf_records_pattern = data_dir + '/val*'\n",
    "    train_dataset = \\\n",
    "        create_dataset(H, W, train_tf_records_pattern, batch_size)\n",
    "    val_dataset = \\\n",
    "        create_dataset(H, W, val_tf_records_pattern, batch_size)\n",
    "    num_train_images = 70000\n",
    "    num_val_images = 10000\n",
    "    return train_dataset, val_dataset, num_train_images, num_val_images"
   ]
  },
  {
   "cell_type": "code",
   "execution_count": 6,
   "metadata": {},
   "outputs": [],
   "source": [
    "config = {\n",
    "    'mode': 'train',\n",
    "    'distribute_strategy': tf.distribute.MirroredStrategy(),\n",
    "    'image_height': 720,\n",
    "    'image_width': 1280,\n",
    "    'num_classes': 10,\n",
    "    'dataset_fn': dataset_fn,\n",
    "    'data_dir': '../tfrecords',\n",
    "    'batch_size': 4,\n",
    "    'epochs': 250,\n",
    "    'learning_rate': 1e-4,\n",
    "    'model_dir': 'model_files',\n",
    "    'tensorboard_log_dir': 'logs'\n",
    "}"
   ]
  },
  {
   "cell_type": "code",
   "execution_count": 7,
   "metadata": {},
   "outputs": [
    {
     "name": "stdout",
     "output_type": "stream",
     "text": [
      "'****Initializing FCOS with the following config'\n",
      "{'batch_size': 4,\n",
      " 'data_dir': '../tfrecords',\n",
      " 'dataset_fn': <function dataset_fn at 0x7f8e662260d0>,\n",
      " 'distribute_strategy': <tensorflow.python.distribute.mirrored_strategy.MirroredStrategy object at 0x7f8e6eb62128>,\n",
      " 'epochs': 250,\n",
      " 'image_height': 720,\n",
      " 'image_width': 1280,\n",
      " 'learning_rate': 0.0001,\n",
      " 'mode': 'train',\n",
      " 'model_dir': 'model_files',\n",
      " 'num_classes': 10,\n",
      " 'tensorboard_log_dir': 'logs'}\n",
      "'****Building FPN'\n",
      "INFO:tensorflow:Reduce to /job:localhost/replica:0/task:0/device:CPU:0 then broadcast to ('/job:localhost/replica:0/task:0/device:CPU:0',).\n",
      "INFO:tensorflow:Reduce to /job:localhost/replica:0/task:0/device:CPU:0 then broadcast to ('/job:localhost/replica:0/task:0/device:CPU:0',).\n",
      "INFO:tensorflow:Reduce to /job:localhost/replica:0/task:0/device:CPU:0 then broadcast to ('/job:localhost/replica:0/task:0/device:CPU:0',).\n",
      "INFO:tensorflow:Reduce to /job:localhost/replica:0/task:0/device:CPU:0 then broadcast to ('/job:localhost/replica:0/task:0/device:CPU:0',).\n",
      "INFO:tensorflow:Reduce to /job:localhost/replica:0/task:0/device:CPU:0 then broadcast to ('/job:localhost/replica:0/task:0/device:CPU:0',).\n",
      "INFO:tensorflow:Reduce to /job:localhost/replica:0/task:0/device:CPU:0 then broadcast to ('/job:localhost/replica:0/task:0/device:CPU:0',).\n",
      "INFO:tensorflow:Reduce to /job:localhost/replica:0/task:0/device:CPU:0 then broadcast to ('/job:localhost/replica:0/task:0/device:CPU:0',).\n",
      "INFO:tensorflow:Reduce to /job:localhost/replica:0/task:0/device:CPU:0 then broadcast to ('/job:localhost/replica:0/task:0/device:CPU:0',).\n",
      "INFO:tensorflow:Reduce to /job:localhost/replica:0/task:0/device:CPU:0 then broadcast to ('/job:localhost/replica:0/task:0/device:CPU:0',).\n",
      "INFO:tensorflow:Reduce to /job:localhost/replica:0/task:0/device:CPU:0 then broadcast to ('/job:localhost/replica:0/task:0/device:CPU:0',).\n",
      "'****Building FCOS'\n",
      "'****Building Datasets'\n",
      "'****Setting Up Optimizer'\n",
      "'****Setting Up Callbacks'\n"
     ]
    }
   ],
   "source": [
    "fcos = FCOS(config)"
   ]
  },
  {
   "cell_type": "code",
   "execution_count": 8,
   "metadata": {},
   "outputs": [
    {
     "data": {
      "application/vnd.jupyter.widget-view+json": {
       "model_id": "057e18f1331c43fea0db0e1174619861",
       "version_major": 2,
       "version_minor": 0
      },
      "text/plain": [
       "HBox(children=(IntProgress(value=0, max=200), HTML(value='')))"
      ]
     },
     "metadata": {},
     "output_type": "display_data"
    },
    {
     "name": "stdout",
     "output_type": "stream",
     "text": [
      "\n"
     ]
    }
   ],
   "source": [
    "dummy_tensor = tf.random.normal(shape=[4, 720, 1280, 3])\n",
    "for i in tqdm(range(200)):\n",
    "    dummy_output = fcos.model(dummy_tensor, training=False)"
   ]
  },
  {
   "cell_type": "code",
   "execution_count": 9,
   "metadata": {},
   "outputs": [],
   "source": [
    "tfrecords_base_dir = '../tfrecords'\n",
    "BATCH_SIZE = 2\n",
    "H, W = tf.constant([720., 1280.])\n",
    "autotune = tf.data.experimental.AUTOTUNE\n",
    "class_map = {value: idx for idx, value in enumerate(['bus',\n",
    "                                                     'traffic light',\n",
    "                                                     'traffic sign',\n",
    "                                                     'person',\n",
    "                                                     'bike',\n",
    "                                                     'truck',\n",
    "                                                     'motor',\n",
    "                                                     'car',\n",
    "                                                     'train',\n",
    "                                                     'rider'])}\n",
    "num_classes = len(class_map)"
   ]
  },
  {
   "cell_type": "code",
   "execution_count": 10,
   "metadata": {},
   "outputs": [
    {
     "data": {
      "text/plain": [
       "(TensorSpec(shape=(2, 720, 1280, 3), dtype=tf.float32, name=None),\n",
       " (TensorSpec(shape=(2, 19220), dtype=tf.float32, name=None),\n",
       "  TensorSpec(shape=(2, 19220, 1), dtype=tf.float32, name=None),\n",
       "  TensorSpec(shape=(2, 19220, 4), dtype=tf.float32, name=None)))"
      ]
     },
     "execution_count": 10,
     "metadata": {},
     "output_type": "execute_result"
    }
   ],
   "source": [
    "options = tf.data.Options()\n",
    "options.experimental_deterministic = False\n",
    "train_files = tf.data.Dataset.list_files('{}/train*'.format(tfrecords_base_dir))\n",
    "train_dataset = train_files.interleave(tf.data.TFRecordDataset,\n",
    "                                       cycle_length=16,\n",
    "                                       block_length=16,\n",
    "                                       num_parallel_calls=autotune)\n",
    "train_dataset = train_dataset.map(\n",
    "    load_data(H, W), num_parallel_calls=autotune)\n",
    "train_dataset = train_dataset.shuffle(512)\n",
    "train_dataset = train_dataset.batch(BATCH_SIZE, drop_remainder=True).repeat()\n",
    "train_dataset = train_dataset.prefetch(autotune)\n",
    "train_dataset = train_dataset.with_options(options)\n",
    "tf.data.experimental.get_structure(train_dataset)"
   ]
  },
  {
   "cell_type": "code",
   "execution_count": 139,
   "metadata": {},
   "outputs": [
    {
     "data": {
      "application/vnd.jupyter.widget-view+json": {
       "model_id": "ca2d161a8c654b23ad3ad9334e3d671a",
       "version_major": 2,
       "version_minor": 0
      },
      "text/plain": [
       "HBox(children=(IntProgress(value=1, bar_style='info', max=1), HTML(value='')))"
      ]
     },
     "metadata": {},
     "output_type": "display_data"
    },
    {
     "name": "stdout",
     "output_type": "stream",
     "text": [
      "\n",
      "Number of positive centers: 504.0\n"
     ]
    },
    {
     "data": {
      "text/plain": [
       "(TensorShape([2, 720, 1280, 3]),\n",
       " TensorShape([2, 19220]),\n",
       " TensorShape([2, 19220, 1]),\n",
       " TensorShape([2, 19220, 4]))"
      ]
     },
     "execution_count": 139,
     "metadata": {},
     "output_type": "execute_result"
    }
   ],
   "source": [
    "centers_list = get_all_centers(H, W)\n",
    "centers = tf.concat(centers_list, axis=0)\n",
    "\n",
    "def _regression_loss(labels, logits):\n",
    "    # TODO\n",
    "    #   a) IOU loss\n",
    "    #   b) mask negative locations\n",
    "    #   c) normalize loss value\n",
    "    fg_mask = tf.cast(labels != 0, dtype=tf.float32)\n",
    "    boxes_true = tf.concat([\n",
    "        centers - labels[:, :, :2],\n",
    "        centers + labels[:, :, 2:]], axis=-1) * fg_mask\n",
    "\n",
    "    boxes_pred = tf.concat([\n",
    "        centers - logits[:, :, :2],\n",
    "        centers + logits[:, :, 2:]], axis=-1) * fg_mask\n",
    "\n",
    "    lu = tf.maximum(boxes_true[:, :, :2], boxes_pred[:, :, :2])\n",
    "    rd = tf.minimum(boxes_true[:, :, 2:], boxes_pred[:, :, 2:])\n",
    "\n",
    "    intersection = tf.maximum(0.0, rd - lu)\n",
    "    intersection_area = intersection[:, :, 0] * intersection[:, :, 1]\n",
    "\n",
    "    boxes_true_area = tf.reduce_prod(\n",
    "        boxes_true[:, :, 2:] - boxes_true[:, :, :2], axis=2)\n",
    "    boxes_pred_area = tf.reduce_prod(\n",
    "        boxes_pred[:, :, 2:] - boxes_pred[:, :, :2], axis=2)\n",
    "\n",
    "    union_area = tf.maximum(\n",
    "        boxes_true_area + boxes_pred_area - intersection_area, 1e-10)\n",
    "    iou = tf.clip_by_value(intersection_area / union_area, 0.0, 1.0)\n",
    "\n",
    "    fg_mask = tf.reduce_sum(fg_mask, axis=2)\n",
    "    fg_mask = tf.cast(fg_mask != 0, dtype=tf.float32)\n",
    "    normalizer_value = tf.reduce_sum(fg_mask, axis=1, keepdims=True)\n",
    "    bg_mask = (1 - fg_mask) * 1e-7\n",
    "    iou_loss = iou + bg_mask\n",
    "    iou_loss = -1 * tf.math.log(iou_loss)\n",
    "    iou_loss = iou_loss * fg_mask\n",
    "    iou_loss = tf.reduce_sum(iou_loss, axis=1, keepdims=True)\n",
    "    iou_loss = iou_loss / normalizer_value \n",
    "    return iou_loss\n",
    "    \n",
    "    \n",
    "for batch in tqdm(train_dataset.take(1)):\n",
    "    image, (cls_target, ctr_target, reg_target) = batch\n",
    "    cls_target = tf.cast(cls_target, dtype=tf.int32)\n",
    "    positive_centers = tf.reduce_sum(tf.cast(cls_target != 0,\n",
    "                                             dtype=tf.float32))\n",
    "print('Number of positive centers: {}'.format(positive_centers.numpy()))\n",
    "cls_out, ctr_out, reg_out = fcos.model(image, training=False)\n",
    "image.shape, cls_target.shape, ctr_target.shape, reg_target.shape"
   ]
  },
  {
   "cell_type": "code",
   "execution_count": 140,
   "metadata": {},
   "outputs": [],
   "source": [
    "l = _regression_loss(reg_target, reg_out)\n"
   ]
  },
  {
   "cell_type": "code",
   "execution_count": 141,
   "metadata": {},
   "outputs": [
    {
     "data": {
      "text/plain": [
       "<tf.Tensor: id=300574, shape=(2, 1), dtype=float32, numpy=\n",
       "array([[20.546144],\n",
       "       [15.958465]], dtype=float32)>"
      ]
     },
     "execution_count": 141,
     "metadata": {},
     "output_type": "execute_result"
    }
   ],
   "source": [
    "l"
   ]
  },
  {
   "cell_type": "code",
   "execution_count": null,
   "metadata": {},
   "outputs": [],
   "source": [
    "y_true = tf.one_hot(cls_target[0][0], 11)[1:]\n",
    "y_pred = cls_out[0][0]\n",
    "y_pred_ = tf.sigmoid(y_pred)\n",
    "alpha = 0.25\n",
    "gamma = 2.0\n",
    "\n",
    "at = alpha * y_true + (1 - y_true) * (1 - alpha)\n",
    "pt = y_true * y_pred_ + (1 - y_true) * (1 - y_pred_)\n",
    "f_loss = at * \\\n",
    "    tf.pow(1 - pt, gamma) * \\\n",
    "    tf.nn.sigmoid_cross_entropy_with_logits(\n",
    "        labels=y_true, logits=y_pred)\n",
    "f_loss"
   ]
  },
  {
   "cell_type": "code",
   "execution_count": 22,
   "metadata": {},
   "outputs": [
    {
     "data": {
      "text/plain": [
       "<tf.Tensor: id=256418, shape=(4,), dtype=float32, numpy=\n",
       "array([1.1283818e+00, 7.5377369e-07, 7.5377369e-07, 1.1283818e+00],\n",
       "      dtype=float32)>"
      ]
     },
     "execution_count": 22,
     "metadata": {},
     "output_type": "execute_result"
    }
   ],
   "source": [
    "y_true = tf.constant([1., 0., 0., 1.])\n",
    "y_pred = tf.constant([-4.59511985013459, -4.59511985013459, -4.59511985013459, -4.59511985013459])\n",
    "y_pred_ = tf.sigmoid(y_pred)\n",
    "alpha = 0.25\n",
    "gamma = 2.0\n",
    "\n",
    "at = alpha * y_true + (1 - y_true) * (1 - alpha)\n",
    "pt = y_true * y_pred_ + (1 - y_true) * (1 - y_pred_)\n",
    "f_loss = at * \\\n",
    "    tf.pow(1 - pt, gamma) * \\\n",
    "    tf.nn.sigmoid_cross_entropy_with_logits(\n",
    "        labels=y_true, logits=y_pred)\n",
    "f_loss"
   ]
  },
  {
   "cell_type": "code",
   "execution_count": 21,
   "metadata": {},
   "outputs": [
    {
     "data": {
      "text/plain": [
       "<tf.Tensor: id=256355, shape=(10,), dtype=float32, numpy=\n",
       "array([0.01023436, 0.00952402, 0.01098686, 0.01150885, 0.00954002,\n",
       "       0.01119524, 0.01038414, 0.00972429, 0.00950115, 0.01010294],\n",
       "      dtype=float32)>"
      ]
     },
     "execution_count": 21,
     "metadata": {},
     "output_type": "execute_result"
    }
   ],
   "source": []
  },
  {
   "cell_type": "code",
   "execution_count": null,
   "metadata": {},
   "outputs": [],
   "source": []
  }
 ],
 "metadata": {
  "kernelspec": {
   "display_name": "Python 3",
   "language": "python",
   "name": "python3"
  },
  "language_info": {
   "codemirror_mode": {
    "name": "ipython",
    "version": 3
   },
   "file_extension": ".py",
   "mimetype": "text/x-python",
   "name": "python",
   "nbconvert_exporter": "python",
   "pygments_lexer": "ipython3",
   "version": "3.6.8"
  },
  "widgets": {
   "application/vnd.jupyter.widget-state+json": {
    "state": {
     "01954d51495a420cb9cc850b9c3ef7bc": {
      "model_module": "@jupyter-widgets/controls",
      "model_module_version": "1.5.0",
      "model_name": "HBoxModel",
      "state": {
       "children": [
        "IPY_MODEL_1f0c5e92b057458585bba33c762bea91",
        "IPY_MODEL_d249ba31291c4defad2df36ece769138"
       ],
       "layout": "IPY_MODEL_a6dc53aefec346158ef313a4c5e05b6a"
      }
     },
     "01af767947304eff89c0dde0bd7ede06": {
      "model_module": "@jupyter-widgets/controls",
      "model_module_version": "1.5.0",
      "model_name": "HBoxModel",
      "state": {
       "children": [
        "IPY_MODEL_bddc04a7655d4abd887e1758f7cae296",
        "IPY_MODEL_810cc6304a994b63947af726db56008a"
       ],
       "layout": "IPY_MODEL_649533fb63534d39b5d5cd580b560092"
      }
     },
     "0209085ad1d848728b3bc93eea7d8d73": {
      "model_module": "@jupyter-widgets/base",
      "model_module_version": "1.2.0",
      "model_name": "LayoutModel",
      "state": {}
     },
     "021fa708b9254f5d92b10dab013f78fb": {
      "model_module": "@jupyter-widgets/controls",
      "model_module_version": "1.5.0",
      "model_name": "HTMLModel",
      "state": {
       "layout": "IPY_MODEL_7e86f0a7916940af93e7770a103ab340",
       "style": "IPY_MODEL_3582309ba7b64cd081e6462b4a63416a",
       "value": " 1/? [00:01&lt;00:00,  1.78s/it]"
      }
     },
     "0387dd71ca1948739cb27fa70f62e756": {
      "model_module": "@jupyter-widgets/controls",
      "model_module_version": "1.5.0",
      "model_name": "HBoxModel",
      "state": {
       "children": [
        "IPY_MODEL_b366a74732904ea18799dc49df8a65a8",
        "IPY_MODEL_61f15106f78d43f8842f6989fe918c81"
       ],
       "layout": "IPY_MODEL_46daec015b7347e99645ce6b2f86c331"
      }
     },
     "04c1beb679924af5bf80758274692eba": {
      "model_module": "@jupyter-widgets/controls",
      "model_module_version": "1.5.0",
      "model_name": "IntProgressModel",
      "state": {
       "bar_style": "success",
       "layout": "IPY_MODEL_23630e9a0522461ea41f78ff6ef11c66",
       "max": 1,
       "style": "IPY_MODEL_27878523095e421786d411bcf09a8f82",
       "value": 1
      }
     },
     "057e18f1331c43fea0db0e1174619861": {
      "model_module": "@jupyter-widgets/controls",
      "model_module_version": "1.5.0",
      "model_name": "HBoxModel",
      "state": {
       "children": [
        "IPY_MODEL_a91ea2aa02824594b182ec05dee17252",
        "IPY_MODEL_ab9de0389007491b91f86656ce7ed921"
       ],
       "layout": "IPY_MODEL_3abe2e93800947a0be4f120bc5fde19a"
      }
     },
     "063147e0380a4dfab0c21891f09a20af": {
      "model_module": "@jupyter-widgets/controls",
      "model_module_version": "1.5.0",
      "model_name": "IntProgressModel",
      "state": {
       "bar_style": "success",
       "layout": "IPY_MODEL_ff5cdcb5ea71494e98e27406dba81b20",
       "max": 1,
       "style": "IPY_MODEL_d7b299c7f98b4a4d82d8161ad3ae71aa",
       "value": 1
      }
     },
     "0643c8e26a66485ea424e61c13480973": {
      "model_module": "@jupyter-widgets/base",
      "model_module_version": "1.2.0",
      "model_name": "LayoutModel",
      "state": {}
     },
     "065b80d09eb5482a8f9cd81ab44943e4": {
      "model_module": "@jupyter-widgets/controls",
      "model_module_version": "1.5.0",
      "model_name": "DescriptionStyleModel",
      "state": {
       "description_width": ""
      }
     },
     "07313e35aa864f70b7dc6ed169062f78": {
      "model_module": "@jupyter-widgets/controls",
      "model_module_version": "1.5.0",
      "model_name": "HTMLModel",
      "state": {
       "layout": "IPY_MODEL_1e91682f6f7d4a41a09c028536613258",
       "style": "IPY_MODEL_26712314c3c846389cd2e46ddcfd7921",
       "value": " 1/? [00:01&lt;00:00,  1.78s/it]"
      }
     },
     "074f9bdedb4d4bf0a02e675a38c3718e": {
      "model_module": "@jupyter-widgets/base",
      "model_module_version": "1.2.0",
      "model_name": "LayoutModel",
      "state": {}
     },
     "077042295dc546fabde79c5b7e33c5cd": {
      "model_module": "@jupyter-widgets/controls",
      "model_module_version": "1.5.0",
      "model_name": "HBoxModel",
      "state": {
       "children": [
        "IPY_MODEL_3b147edabf18444bb1c5eeb242d41a7c",
        "IPY_MODEL_cab1099536d0455c8f7f944039aba6c4"
       ],
       "layout": "IPY_MODEL_4b81d689e75244c6b453307d692396ee"
      }
     },
     "07a7c704307f4b7092a507907c7eb5c2": {
      "model_module": "@jupyter-widgets/controls",
      "model_module_version": "1.5.0",
      "model_name": "HBoxModel",
      "state": {
       "children": [
        "IPY_MODEL_963ad96bf47744198db00fe75e48ee7c",
        "IPY_MODEL_3067db95b83245619379ff9962af71b5"
       ],
       "layout": "IPY_MODEL_b6de3470ad8d4ff2a62a8520b2eecb69"
      }
     },
     "0809bf93103b48e1bd20947fc55e3f68": {
      "model_module": "@jupyter-widgets/base",
      "model_module_version": "1.2.0",
      "model_name": "LayoutModel",
      "state": {}
     },
     "093b101a66204f3ba2ae31813d4b7c96": {
      "model_module": "@jupyter-widgets/controls",
      "model_module_version": "1.5.0",
      "model_name": "HTMLModel",
      "state": {
       "layout": "IPY_MODEL_f06969e9221046a3bca268071a5cb066",
       "style": "IPY_MODEL_39916785b4ca431da8183932e3adc4b3",
       "value": " 1/? [00:01&lt;00:00,  1.79s/it]"
      }
     },
     "0958774aa68648c6ae99ad09e020772f": {
      "model_module": "@jupyter-widgets/base",
      "model_module_version": "1.2.0",
      "model_name": "LayoutModel",
      "state": {}
     },
     "0a6808a79cd24b2493145add5b327ae5": {
      "model_module": "@jupyter-widgets/controls",
      "model_module_version": "1.5.0",
      "model_name": "ProgressStyleModel",
      "state": {
       "description_width": "initial"
      }
     },
     "0ada8934f32a465081307198526bbb01": {
      "model_module": "@jupyter-widgets/controls",
      "model_module_version": "1.5.0",
      "model_name": "IntProgressModel",
      "state": {
       "bar_style": "success",
       "layout": "IPY_MODEL_1e0505b887854a49a42120806aeeeda1",
       "max": 1,
       "style": "IPY_MODEL_66e6439042a349a5811edf294f98d606",
       "value": 1
      }
     },
     "0b2417ff27b24e15ba11139413a18c2d": {
      "model_module": "@jupyter-widgets/controls",
      "model_module_version": "1.5.0",
      "model_name": "IntProgressModel",
      "state": {
       "bar_style": "success",
       "layout": "IPY_MODEL_cee98263c6ca4183b5aa9cd17da82590",
       "max": 1,
       "style": "IPY_MODEL_f26d7e0af0f64fb3947922d6964d1764",
       "value": 1
      }
     },
     "0d2b5bea85534f03996c45a763b0b7a6": {
      "model_module": "@jupyter-widgets/base",
      "model_module_version": "1.2.0",
      "model_name": "LayoutModel",
      "state": {}
     },
     "0d9a346a3fd34855abb81439213e5216": {
      "model_module": "@jupyter-widgets/base",
      "model_module_version": "1.2.0",
      "model_name": "LayoutModel",
      "state": {}
     },
     "1025fa77d0d34720a8ed9d98baded0f4": {
      "model_module": "@jupyter-widgets/controls",
      "model_module_version": "1.5.0",
      "model_name": "ProgressStyleModel",
      "state": {
       "description_width": "initial"
      }
     },
     "1186084624094a03a92783f8a6d8db5e": {
      "model_module": "@jupyter-widgets/base",
      "model_module_version": "1.2.0",
      "model_name": "LayoutModel",
      "state": {}
     },
     "132a37baa609439e94fa953ff049e093": {
      "model_module": "@jupyter-widgets/controls",
      "model_module_version": "1.5.0",
      "model_name": "HTMLModel",
      "state": {
       "layout": "IPY_MODEL_c39f53d5d11c4e77ba663ef37099368c",
       "style": "IPY_MODEL_aee5fc2dcfc74b0ba2e7fb30ee40600c",
       "value": " 1/? [00:01&lt;00:00,  1.87s/it]"
      }
     },
     "137e59cb8b26451eafe6dabe793b50f6": {
      "model_module": "@jupyter-widgets/controls",
      "model_module_version": "1.5.0",
      "model_name": "ProgressStyleModel",
      "state": {
       "description_width": "initial"
      }
     },
     "137f38f41e844d9592968a77a9ea40b3": {
      "model_module": "@jupyter-widgets/controls",
      "model_module_version": "1.5.0",
      "model_name": "HTMLModel",
      "state": {
       "layout": "IPY_MODEL_187a2b879cae478fbec4699a661042a6",
       "style": "IPY_MODEL_3fd183449bff423fb53af481b3570182",
       "value": " 1/? [00:17&lt;00:00, 17.62s/it]"
      }
     },
     "153eca8784c94d1b9cbe80a5fb34daef": {
      "model_module": "@jupyter-widgets/controls",
      "model_module_version": "1.5.0",
      "model_name": "ProgressStyleModel",
      "state": {
       "description_width": "initial"
      }
     },
     "15f5f8de8acf4b63ac37b2897a447e13": {
      "model_module": "@jupyter-widgets/controls",
      "model_module_version": "1.5.0",
      "model_name": "ProgressStyleModel",
      "state": {
       "description_width": "initial"
      }
     },
     "17470a80d0844efc8219796a88a4be5c": {
      "model_module": "@jupyter-widgets/controls",
      "model_module_version": "1.5.0",
      "model_name": "IntProgressModel",
      "state": {
       "bar_style": "success",
       "layout": "IPY_MODEL_ccadf70c92fc473eb634b893d2439999",
       "max": 1,
       "style": "IPY_MODEL_4990161ccb8d4f49bf0842821dd90ddf",
       "value": 1
      }
     },
     "1757cfe04da94faabec971706252eceb": {
      "model_module": "@jupyter-widgets/base",
      "model_module_version": "1.2.0",
      "model_name": "LayoutModel",
      "state": {}
     },
     "18664e4d4e5f433bafd265be551633db": {
      "model_module": "@jupyter-widgets/controls",
      "model_module_version": "1.5.0",
      "model_name": "ProgressStyleModel",
      "state": {
       "description_width": "initial"
      }
     },
     "18796299d3fe4d2e91c5dc97138e8ec5": {
      "model_module": "@jupyter-widgets/base",
      "model_module_version": "1.2.0",
      "model_name": "LayoutModel",
      "state": {}
     },
     "187a2b879cae478fbec4699a661042a6": {
      "model_module": "@jupyter-widgets/base",
      "model_module_version": "1.2.0",
      "model_name": "LayoutModel",
      "state": {}
     },
     "18fc58a6bcee4c3383cbb5331436ee36": {
      "model_module": "@jupyter-widgets/controls",
      "model_module_version": "1.5.0",
      "model_name": "DescriptionStyleModel",
      "state": {
       "description_width": ""
      }
     },
     "199178b355644134b4288a07ad0c081a": {
      "model_module": "@jupyter-widgets/base",
      "model_module_version": "1.2.0",
      "model_name": "LayoutModel",
      "state": {}
     },
     "19977f8511054c3d80a8e1e42e4f4ece": {
      "model_module": "@jupyter-widgets/controls",
      "model_module_version": "1.5.0",
      "model_name": "DescriptionStyleModel",
      "state": {
       "description_width": ""
      }
     },
     "19a93ce4987244ada5c485843a2a6571": {
      "model_module": "@jupyter-widgets/base",
      "model_module_version": "1.2.0",
      "model_name": "LayoutModel",
      "state": {}
     },
     "1b4a257786ce428c86e3862625e19550": {
      "model_module": "@jupyter-widgets/controls",
      "model_module_version": "1.5.0",
      "model_name": "DescriptionStyleModel",
      "state": {
       "description_width": ""
      }
     },
     "1c1343612d3a472c992badd6168632d0": {
      "model_module": "@jupyter-widgets/controls",
      "model_module_version": "1.5.0",
      "model_name": "DescriptionStyleModel",
      "state": {
       "description_width": ""
      }
     },
     "1d52c7438f5c495cb57465e200cffa42": {
      "model_module": "@jupyter-widgets/controls",
      "model_module_version": "1.5.0",
      "model_name": "ProgressStyleModel",
      "state": {
       "description_width": "initial"
      }
     },
     "1d5a6dc5b5e64c3cb4b70d97757ce672": {
      "model_module": "@jupyter-widgets/controls",
      "model_module_version": "1.5.0",
      "model_name": "HBoxModel",
      "state": {
       "children": [
        "IPY_MODEL_72ac6ec1f4fe4eaa910695b746226569",
        "IPY_MODEL_8dea9f7a6fdc4e0180508c3c9315415b"
       ],
       "layout": "IPY_MODEL_f0ac4de320394856b4c0ca43651571de"
      }
     },
     "1e0505b887854a49a42120806aeeeda1": {
      "model_module": "@jupyter-widgets/base",
      "model_module_version": "1.2.0",
      "model_name": "LayoutModel",
      "state": {}
     },
     "1e91682f6f7d4a41a09c028536613258": {
      "model_module": "@jupyter-widgets/base",
      "model_module_version": "1.2.0",
      "model_name": "LayoutModel",
      "state": {}
     },
     "1ed09715aa184893873f3e22740990c8": {
      "model_module": "@jupyter-widgets/controls",
      "model_module_version": "1.5.0",
      "model_name": "IntProgressModel",
      "state": {
       "bar_style": "success",
       "layout": "IPY_MODEL_7f4cb98279994970a3e092f611832af4",
       "max": 1,
       "style": "IPY_MODEL_0a6808a79cd24b2493145add5b327ae5",
       "value": 1
      }
     },
     "1f0c5e92b057458585bba33c762bea91": {
      "model_module": "@jupyter-widgets/controls",
      "model_module_version": "1.5.0",
      "model_name": "IntProgressModel",
      "state": {
       "bar_style": "success",
       "layout": "IPY_MODEL_40a9f2fc19cc420c81d43e421865cff5",
       "max": 1,
       "style": "IPY_MODEL_137e59cb8b26451eafe6dabe793b50f6",
       "value": 1
      }
     },
     "1fb04e0f6967422f9b83824feeddf33d": {
      "model_module": "@jupyter-widgets/base",
      "model_module_version": "1.2.0",
      "model_name": "LayoutModel",
      "state": {}
     },
     "22b1c784f4ca444dad21589fd3f95fda": {
      "model_module": "@jupyter-widgets/controls",
      "model_module_version": "1.5.0",
      "model_name": "ProgressStyleModel",
      "state": {
       "description_width": "initial"
      }
     },
     "23630e9a0522461ea41f78ff6ef11c66": {
      "model_module": "@jupyter-widgets/base",
      "model_module_version": "1.2.0",
      "model_name": "LayoutModel",
      "state": {}
     },
     "252f7387bdb7440484d5634e91669711": {
      "model_module": "@jupyter-widgets/controls",
      "model_module_version": "1.5.0",
      "model_name": "HBoxModel",
      "state": {
       "children": [
        "IPY_MODEL_9372396f3ef34a77b67c48945a361ace",
        "IPY_MODEL_07313e35aa864f70b7dc6ed169062f78"
       ],
       "layout": "IPY_MODEL_dbed68e139e94f3ea36d839390d2d61b"
      }
     },
     "2647919b68bd416e969d514550166946": {
      "model_module": "@jupyter-widgets/base",
      "model_module_version": "1.2.0",
      "model_name": "LayoutModel",
      "state": {}
     },
     "26712314c3c846389cd2e46ddcfd7921": {
      "model_module": "@jupyter-widgets/controls",
      "model_module_version": "1.5.0",
      "model_name": "DescriptionStyleModel",
      "state": {
       "description_width": ""
      }
     },
     "27878523095e421786d411bcf09a8f82": {
      "model_module": "@jupyter-widgets/controls",
      "model_module_version": "1.5.0",
      "model_name": "ProgressStyleModel",
      "state": {
       "description_width": "initial"
      }
     },
     "27a6220f791444e69dc187b7a2a8c9a8": {
      "model_module": "@jupyter-widgets/base",
      "model_module_version": "1.2.0",
      "model_name": "LayoutModel",
      "state": {}
     },
     "2840614230cf4b68a41dcfdb3cfd0a21": {
      "model_module": "@jupyter-widgets/base",
      "model_module_version": "1.2.0",
      "model_name": "LayoutModel",
      "state": {}
     },
     "2b57c5fb53cc4f72a1903c278fc943d9": {
      "model_module": "@jupyter-widgets/controls",
      "model_module_version": "1.5.0",
      "model_name": "HTMLModel",
      "state": {
       "layout": "IPY_MODEL_2647919b68bd416e969d514550166946",
       "style": "IPY_MODEL_e24cc1c7a82d42a5bdfff96e8a36b489",
       "value": " 1/? [00:01&lt;00:00,  1.83s/it]"
      }
     },
     "2bd131a4501c4e63b9591fbe0a26e83c": {
      "model_module": "@jupyter-widgets/base",
      "model_module_version": "1.2.0",
      "model_name": "LayoutModel",
      "state": {}
     },
     "2c90742c9d0f46c9b50c08fb145243eb": {
      "model_module": "@jupyter-widgets/base",
      "model_module_version": "1.2.0",
      "model_name": "LayoutModel",
      "state": {}
     },
     "2d10b6931bf44fdfa439486165351a53": {
      "model_module": "@jupyter-widgets/controls",
      "model_module_version": "1.5.0",
      "model_name": "ProgressStyleModel",
      "state": {
       "description_width": "initial"
      }
     },
     "2d5d55e361f54089bb523239641e758b": {
      "model_module": "@jupyter-widgets/base",
      "model_module_version": "1.2.0",
      "model_name": "LayoutModel",
      "state": {}
     },
     "305fbfca42a0455b93563a22b2732810": {
      "model_module": "@jupyter-widgets/controls",
      "model_module_version": "1.5.0",
      "model_name": "HTMLModel",
      "state": {
       "layout": "IPY_MODEL_9f7f12f2af8d40338eda1a74b6d87a6e",
       "style": "IPY_MODEL_87d5013e1a5c4675b3028a335bf390ef",
       "value": " 1/? [00:01&lt;00:00,  1.79s/it]"
      }
     },
     "3067db95b83245619379ff9962af71b5": {
      "model_module": "@jupyter-widgets/controls",
      "model_module_version": "1.5.0",
      "model_name": "HTMLModel",
      "state": {
       "layout": "IPY_MODEL_b993239ecc9943c5bbe33fd5cf3401ce",
       "style": "IPY_MODEL_f509f306e5e649caa62c4cf748ebf467",
       "value": " 1/? [00:01&lt;00:00,  1.79s/it]"
      }
     },
     "31b9277813e94f5ebbec18ba55ea9aed": {
      "model_module": "@jupyter-widgets/controls",
      "model_module_version": "1.5.0",
      "model_name": "DescriptionStyleModel",
      "state": {
       "description_width": ""
      }
     },
     "33e6968f99c844b386a24cd92c98f7b6": {
      "model_module": "@jupyter-widgets/controls",
      "model_module_version": "1.5.0",
      "model_name": "HTMLModel",
      "state": {
       "layout": "IPY_MODEL_b2e23c6a5b714d3e9a867222286698f8",
       "style": "IPY_MODEL_3c4e183955b74979bcd6d2220ef62e9d",
       "value": " 1/? [00:01&lt;00:00,  1.80s/it]"
      }
     },
     "3485e2ef61b74b079443abfd8ef2030b": {
      "model_module": "@jupyter-widgets/controls",
      "model_module_version": "1.5.0",
      "model_name": "HBoxModel",
      "state": {
       "children": [
        "IPY_MODEL_c414cadb32e6475391550c7641eabebc",
        "IPY_MODEL_b189f6aadc25405da4b90ca8eb208b40"
       ],
       "layout": "IPY_MODEL_4e769c4b7d1f4864ab06642565005201"
      }
     },
     "3582309ba7b64cd081e6462b4a63416a": {
      "model_module": "@jupyter-widgets/controls",
      "model_module_version": "1.5.0",
      "model_name": "DescriptionStyleModel",
      "state": {
       "description_width": ""
      }
     },
     "3717d00acd374d80a6990bb20c78f30a": {
      "model_module": "@jupyter-widgets/controls",
      "model_module_version": "1.5.0",
      "model_name": "ProgressStyleModel",
      "state": {
       "description_width": "initial"
      }
     },
     "3785e179a4564580bc7e2f851c635bd9": {
      "model_module": "@jupyter-widgets/base",
      "model_module_version": "1.2.0",
      "model_name": "LayoutModel",
      "state": {}
     },
     "37bc52573b0242c381a3e17c90130403": {
      "model_module": "@jupyter-widgets/base",
      "model_module_version": "1.2.0",
      "model_name": "LayoutModel",
      "state": {}
     },
     "39916785b4ca431da8183932e3adc4b3": {
      "model_module": "@jupyter-widgets/controls",
      "model_module_version": "1.5.0",
      "model_name": "DescriptionStyleModel",
      "state": {
       "description_width": ""
      }
     },
     "3a719a341db14ce1b2c039ccf7114670": {
      "model_module": "@jupyter-widgets/controls",
      "model_module_version": "1.5.0",
      "model_name": "ProgressStyleModel",
      "state": {
       "description_width": "initial"
      }
     },
     "3abe2e93800947a0be4f120bc5fde19a": {
      "model_module": "@jupyter-widgets/base",
      "model_module_version": "1.2.0",
      "model_name": "LayoutModel",
      "state": {}
     },
     "3b147edabf18444bb1c5eeb242d41a7c": {
      "model_module": "@jupyter-widgets/controls",
      "model_module_version": "1.5.0",
      "model_name": "IntProgressModel",
      "state": {
       "bar_style": "success",
       "layout": "IPY_MODEL_797daae2e1254c40ae836083ea923b7b",
       "max": 1,
       "style": "IPY_MODEL_72332eb6d77c4a079e371a114f7357a2",
       "value": 1
      }
     },
     "3c4e183955b74979bcd6d2220ef62e9d": {
      "model_module": "@jupyter-widgets/controls",
      "model_module_version": "1.5.0",
      "model_name": "DescriptionStyleModel",
      "state": {
       "description_width": ""
      }
     },
     "3e21e3059202439f920345121d42e228": {
      "model_module": "@jupyter-widgets/base",
      "model_module_version": "1.2.0",
      "model_name": "LayoutModel",
      "state": {}
     },
     "3f2a791cc2724729aac12b76c8de909a": {
      "model_module": "@jupyter-widgets/controls",
      "model_module_version": "1.5.0",
      "model_name": "IntProgressModel",
      "state": {
       "bar_style": "success",
       "layout": "IPY_MODEL_e11bb3504a9a4b9b9d0134059886bd71",
       "max": 1,
       "style": "IPY_MODEL_3717d00acd374d80a6990bb20c78f30a",
       "value": 1
      }
     },
     "3fd183449bff423fb53af481b3570182": {
      "model_module": "@jupyter-widgets/controls",
      "model_module_version": "1.5.0",
      "model_name": "DescriptionStyleModel",
      "state": {
       "description_width": ""
      }
     },
     "40a9f2fc19cc420c81d43e421865cff5": {
      "model_module": "@jupyter-widgets/base",
      "model_module_version": "1.2.0",
      "model_name": "LayoutModel",
      "state": {}
     },
     "40fec4fad32d45a4a38b1b52d2b5dd3f": {
      "model_module": "@jupyter-widgets/controls",
      "model_module_version": "1.5.0",
      "model_name": "IntProgressModel",
      "state": {
       "bar_style": "success",
       "layout": "IPY_MODEL_78f7aec04ad542f58fc47ba1f380169e",
       "max": 1,
       "style": "IPY_MODEL_fa8035f4670548caaaecf763241d6f56",
       "value": 1
      }
     },
     "4129b2cf7f094177bb2d2b88842570ec": {
      "model_module": "@jupyter-widgets/controls",
      "model_module_version": "1.5.0",
      "model_name": "IntProgressModel",
      "state": {
       "bar_style": "success",
       "layout": "IPY_MODEL_0d9a346a3fd34855abb81439213e5216",
       "max": 1,
       "style": "IPY_MODEL_bfe7aae67b5f43798fcb7c0ea97cf6ac",
       "value": 1
      }
     },
     "41750c89113b429db43f83b1c3da5104": {
      "model_module": "@jupyter-widgets/base",
      "model_module_version": "1.2.0",
      "model_name": "LayoutModel",
      "state": {}
     },
     "44606633ed8a451aac9beb162b9e6a60": {
      "model_module": "@jupyter-widgets/base",
      "model_module_version": "1.2.0",
      "model_name": "LayoutModel",
      "state": {}
     },
     "45f41aa470274aa89f71ea3d6dd45831": {
      "model_module": "@jupyter-widgets/controls",
      "model_module_version": "1.5.0",
      "model_name": "DescriptionStyleModel",
      "state": {
       "description_width": ""
      }
     },
     "46daec015b7347e99645ce6b2f86c331": {
      "model_module": "@jupyter-widgets/base",
      "model_module_version": "1.2.0",
      "model_name": "LayoutModel",
      "state": {}
     },
     "477dbf4777e8477bb0b7234e1e1fd99f": {
      "model_module": "@jupyter-widgets/controls",
      "model_module_version": "1.5.0",
      "model_name": "HBoxModel",
      "state": {
       "children": [
        "IPY_MODEL_c0d1e1b4154546f58097645e7af2382e",
        "IPY_MODEL_ef3dca07e78f4f1e90f81e24875ea4c5"
       ],
       "layout": "IPY_MODEL_dc0099b4e9834745bf5ab542bc44fc41"
      }
     },
     "47f56e53cfa64077ae1ddbe1ecb1b958": {
      "model_module": "@jupyter-widgets/base",
      "model_module_version": "1.2.0",
      "model_name": "LayoutModel",
      "state": {}
     },
     "48119751d84541a89d4c69b051d9bf87": {
      "model_module": "@jupyter-widgets/controls",
      "model_module_version": "1.5.0",
      "model_name": "ProgressStyleModel",
      "state": {
       "description_width": "initial"
      }
     },
     "48935fc2cebf4e9e9a855bb5c07e194e": {
      "model_module": "@jupyter-widgets/base",
      "model_module_version": "1.2.0",
      "model_name": "LayoutModel",
      "state": {}
     },
     "48be6ab0b0a244839c48ca963f49e6b8": {
      "model_module": "@jupyter-widgets/base",
      "model_module_version": "1.2.0",
      "model_name": "LayoutModel",
      "state": {}
     },
     "4990161ccb8d4f49bf0842821dd90ddf": {
      "model_module": "@jupyter-widgets/controls",
      "model_module_version": "1.5.0",
      "model_name": "ProgressStyleModel",
      "state": {
       "description_width": "initial"
      }
     },
     "4ac117321a084fcaa4fa3730e414f679": {
      "model_module": "@jupyter-widgets/controls",
      "model_module_version": "1.5.0",
      "model_name": "DescriptionStyleModel",
      "state": {
       "description_width": ""
      }
     },
     "4b81d689e75244c6b453307d692396ee": {
      "model_module": "@jupyter-widgets/base",
      "model_module_version": "1.2.0",
      "model_name": "LayoutModel",
      "state": {}
     },
     "4e769c4b7d1f4864ab06642565005201": {
      "model_module": "@jupyter-widgets/base",
      "model_module_version": "1.2.0",
      "model_name": "LayoutModel",
      "state": {}
     },
     "50e870e9589f43588d8fb5f2232c6eb5": {
      "model_module": "@jupyter-widgets/controls",
      "model_module_version": "1.5.0",
      "model_name": "HTMLModel",
      "state": {
       "layout": "IPY_MODEL_a128fbd735044713960f3f6003f1dd29",
       "style": "IPY_MODEL_fe269c5032934595b27986a3de226023",
       "value": " 1/? [00:02&lt;00:00,  2.60s/it]"
      }
     },
     "515146c7212b4a8d88ec4b61b0c9d00c": {
      "model_module": "@jupyter-widgets/base",
      "model_module_version": "1.2.0",
      "model_name": "LayoutModel",
      "state": {}
     },
     "5256c5fe58474703852b3c7a6b5f7c24": {
      "model_module": "@jupyter-widgets/controls",
      "model_module_version": "1.5.0",
      "model_name": "HTMLModel",
      "state": {
       "layout": "IPY_MODEL_5f7f12d2c95b46c7a026fde5d61484eb",
       "style": "IPY_MODEL_d4ea9a00b94b408eba7b6ef1324d5a92",
       "value": " 1/? [00:01&lt;00:00,  1.78s/it]"
      }
     },
     "52ace70cb0fd4e8eb6919ae45d6a1a17": {
      "model_module": "@jupyter-widgets/controls",
      "model_module_version": "1.5.0",
      "model_name": "IntProgressModel",
      "state": {
       "bar_style": "success",
       "layout": "IPY_MODEL_91f0df636d7e4be284a407f3c1a94b93",
       "max": 1,
       "style": "IPY_MODEL_552e68014b4f4f8c8e4fdcc457d62e6a",
       "value": 1
      }
     },
     "52d3d31245304a3094d1342726875367": {
      "model_module": "@jupyter-widgets/base",
      "model_module_version": "1.2.0",
      "model_name": "LayoutModel",
      "state": {}
     },
     "552e68014b4f4f8c8e4fdcc457d62e6a": {
      "model_module": "@jupyter-widgets/controls",
      "model_module_version": "1.5.0",
      "model_name": "ProgressStyleModel",
      "state": {
       "description_width": "initial"
      }
     },
     "56f0892c3930443abe6cd43eb555312b": {
      "model_module": "@jupyter-widgets/controls",
      "model_module_version": "1.5.0",
      "model_name": "HBoxModel",
      "state": {
       "children": [
        "IPY_MODEL_c801d3fd688542428452522cd5eea821",
        "IPY_MODEL_886d84f5665e4a6f8db523066ad4b617"
       ],
       "layout": "IPY_MODEL_84d688b0c58e46f595dcd1e1ffa2357e"
      }
     },
     "57b81c51ecaa41dd88fa1348b429b967": {
      "model_module": "@jupyter-widgets/controls",
      "model_module_version": "1.5.0",
      "model_name": "IntProgressModel",
      "state": {
       "bar_style": "success",
       "layout": "IPY_MODEL_0643c8e26a66485ea424e61c13480973",
       "max": 1,
       "style": "IPY_MODEL_fad5f999263f41cd85623691e06a83d5",
       "value": 1
      }
     },
     "57f7490b10f44bad84444022eee08a01": {
      "model_module": "@jupyter-widgets/base",
      "model_module_version": "1.2.0",
      "model_name": "LayoutModel",
      "state": {}
     },
     "586c45a8476a4266a86764322378ea7b": {
      "model_module": "@jupyter-widgets/base",
      "model_module_version": "1.2.0",
      "model_name": "LayoutModel",
      "state": {}
     },
     "5a6f5bb746ad4bb6ae24ed74d6e11ab6": {
      "model_module": "@jupyter-widgets/controls",
      "model_module_version": "1.5.0",
      "model_name": "HBoxModel",
      "state": {
       "children": [
        "IPY_MODEL_4129b2cf7f094177bb2d2b88842570ec",
        "IPY_MODEL_5e6687d5b72048909e5034d8726f5046"
       ],
       "layout": "IPY_MODEL_7678a68441464a589513b2fd90535c35"
      }
     },
     "5b5f492022744b22b5e4e3159caf5c16": {
      "model_module": "@jupyter-widgets/base",
      "model_module_version": "1.2.0",
      "model_name": "LayoutModel",
      "state": {}
     },
     "5cc66de43f8f4695bbdccc079fdfd663": {
      "model_module": "@jupyter-widgets/controls",
      "model_module_version": "1.5.0",
      "model_name": "HTMLModel",
      "state": {
       "layout": "IPY_MODEL_3785e179a4564580bc7e2f851c635bd9",
       "style": "IPY_MODEL_f5cc1e67bf8b4c18be707184470a920b",
       "value": " 1/? [00:01&lt;00:00,  1.83s/it]"
      }
     },
     "5e6687d5b72048909e5034d8726f5046": {
      "model_module": "@jupyter-widgets/controls",
      "model_module_version": "1.5.0",
      "model_name": "HTMLModel",
      "state": {
       "layout": "IPY_MODEL_d8f42386dc154cb38734dd652d531327",
       "style": "IPY_MODEL_bd5f9cb5a9c843b1a2c0edb9fd0dde3e",
       "value": " 1/? [00:01&lt;00:00,  1.77s/it]"
      }
     },
     "5f7f12d2c95b46c7a026fde5d61484eb": {
      "model_module": "@jupyter-widgets/base",
      "model_module_version": "1.2.0",
      "model_name": "LayoutModel",
      "state": {}
     },
     "5fd7ea4113ea4f6d963456e3c006cad2": {
      "model_module": "@jupyter-widgets/controls",
      "model_module_version": "1.5.0",
      "model_name": "DescriptionStyleModel",
      "state": {
       "description_width": ""
      }
     },
     "60b0a46057914cf794c8565abc0ca082": {
      "model_module": "@jupyter-widgets/controls",
      "model_module_version": "1.5.0",
      "model_name": "DescriptionStyleModel",
      "state": {
       "description_width": ""
      }
     },
     "61f15106f78d43f8842f6989fe918c81": {
      "model_module": "@jupyter-widgets/controls",
      "model_module_version": "1.5.0",
      "model_name": "HTMLModel",
      "state": {
       "layout": "IPY_MODEL_ecc24606649548659f983ccc8c3cdb03",
       "style": "IPY_MODEL_d257ada3e25f465a9bd533ecf82faf45",
       "value": " 1/? [00:01&lt;00:00,  1.75s/it]"
      }
     },
     "622bc2fbd36c4bd8bf331c605faf9b3b": {
      "model_module": "@jupyter-widgets/controls",
      "model_module_version": "1.5.0",
      "model_name": "IntProgressModel",
      "state": {
       "bar_style": "success",
       "layout": "IPY_MODEL_19a93ce4987244ada5c485843a2a6571",
       "max": 1,
       "style": "IPY_MODEL_48119751d84541a89d4c69b051d9bf87",
       "value": 1
      }
     },
     "62da1e3b745442b5a40e0e6458df5905": {
      "model_module": "@jupyter-widgets/controls",
      "model_module_version": "1.5.0",
      "model_name": "HBoxModel",
      "state": {
       "children": [
        "IPY_MODEL_622bc2fbd36c4bd8bf331c605faf9b3b",
        "IPY_MODEL_82b5c3c714904bc688a2e89f50839454"
       ],
       "layout": "IPY_MODEL_199178b355644134b4288a07ad0c081a"
      }
     },
     "63dc3a5460ed44ccb526d8f053ba76cb": {
      "model_module": "@jupyter-widgets/base",
      "model_module_version": "1.2.0",
      "model_name": "LayoutModel",
      "state": {}
     },
     "649533fb63534d39b5d5cd580b560092": {
      "model_module": "@jupyter-widgets/base",
      "model_module_version": "1.2.0",
      "model_name": "LayoutModel",
      "state": {}
     },
     "64a4b27aa7ba407ea02f878cabed021a": {
      "model_module": "@jupyter-widgets/controls",
      "model_module_version": "1.5.0",
      "model_name": "HTMLModel",
      "state": {
       "layout": "IPY_MODEL_f6ed3c65eeb94d9f91b6e6047177242e",
       "style": "IPY_MODEL_19977f8511054c3d80a8e1e42e4f4ece",
       "value": " 1/? [00:02&lt;00:00,  2.74s/it]"
      }
     },
     "65b45ec4a0aa47b7a7c96a840b19bbfb": {
      "model_module": "@jupyter-widgets/controls",
      "model_module_version": "1.5.0",
      "model_name": "ProgressStyleModel",
      "state": {
       "description_width": "initial"
      }
     },
     "6670538182ee4f6d977ce3beb0b24630": {
      "model_module": "@jupyter-widgets/controls",
      "model_module_version": "1.5.0",
      "model_name": "ProgressStyleModel",
      "state": {
       "description_width": "initial"
      }
     },
     "66865ee5b63945c3b25d638c175f7c56": {
      "model_module": "@jupyter-widgets/base",
      "model_module_version": "1.2.0",
      "model_name": "LayoutModel",
      "state": {}
     },
     "66e6439042a349a5811edf294f98d606": {
      "model_module": "@jupyter-widgets/controls",
      "model_module_version": "1.5.0",
      "model_name": "ProgressStyleModel",
      "state": {
       "description_width": "initial"
      }
     },
     "67ae573d80ac45a09b7e12bfa97601c4": {
      "model_module": "@jupyter-widgets/controls",
      "model_module_version": "1.5.0",
      "model_name": "HTMLModel",
      "state": {
       "layout": "IPY_MODEL_41750c89113b429db43f83b1c3da5104",
       "style": "IPY_MODEL_1c1343612d3a472c992badd6168632d0",
       "value": " 1/? [00:01&lt;00:00,  1.79s/it]"
      }
     },
     "67d035ccf15e400cbc3f3033d9501114": {
      "model_module": "@jupyter-widgets/controls",
      "model_module_version": "1.5.0",
      "model_name": "DescriptionStyleModel",
      "state": {
       "description_width": ""
      }
     },
     "6814642b287d45afbd7c320a8980a9df": {
      "model_module": "@jupyter-widgets/controls",
      "model_module_version": "1.5.0",
      "model_name": "ProgressStyleModel",
      "state": {
       "description_width": "initial"
      }
     },
     "6e5b5fa042934471bf6770c2bb4d3a36": {
      "model_module": "@jupyter-widgets/controls",
      "model_module_version": "1.5.0",
      "model_name": "IntProgressModel",
      "state": {
       "bar_style": "success",
       "layout": "IPY_MODEL_c3e456f7a2604bf18790d88663733cf7",
       "max": 1,
       "style": "IPY_MODEL_ce6e902107c144d2b89490ac195ce2e1",
       "value": 1
      }
     },
     "7181d1e15bb747aeab16f3a1d0839858": {
      "model_module": "@jupyter-widgets/base",
      "model_module_version": "1.2.0",
      "model_name": "LayoutModel",
      "state": {}
     },
     "72332eb6d77c4a079e371a114f7357a2": {
      "model_module": "@jupyter-widgets/controls",
      "model_module_version": "1.5.0",
      "model_name": "ProgressStyleModel",
      "state": {
       "description_width": "initial"
      }
     },
     "72ac6ec1f4fe4eaa910695b746226569": {
      "model_module": "@jupyter-widgets/controls",
      "model_module_version": "1.5.0",
      "model_name": "IntProgressModel",
      "state": {
       "bar_style": "success",
       "layout": "IPY_MODEL_2c90742c9d0f46c9b50c08fb145243eb",
       "max": 1,
       "style": "IPY_MODEL_65b45ec4a0aa47b7a7c96a840b19bbfb",
       "value": 1
      }
     },
     "7472e0a3cf154413911c2e00487a0be1": {
      "model_module": "@jupyter-widgets/controls",
      "model_module_version": "1.5.0",
      "model_name": "DescriptionStyleModel",
      "state": {
       "description_width": ""
      }
     },
     "7678a68441464a589513b2fd90535c35": {
      "model_module": "@jupyter-widgets/base",
      "model_module_version": "1.2.0",
      "model_name": "LayoutModel",
      "state": {}
     },
     "78f7aec04ad542f58fc47ba1f380169e": {
      "model_module": "@jupyter-widgets/base",
      "model_module_version": "1.2.0",
      "model_name": "LayoutModel",
      "state": {}
     },
     "797daae2e1254c40ae836083ea923b7b": {
      "model_module": "@jupyter-widgets/base",
      "model_module_version": "1.2.0",
      "model_name": "LayoutModel",
      "state": {}
     },
     "7da19dc5fb6c44b2a16d1e222d0fa33a": {
      "model_module": "@jupyter-widgets/controls",
      "model_module_version": "1.5.0",
      "model_name": "HBoxModel",
      "state": {
       "children": [
        "IPY_MODEL_0ada8934f32a465081307198526bbb01",
        "IPY_MODEL_33e6968f99c844b386a24cd92c98f7b6"
       ],
       "layout": "IPY_MODEL_0209085ad1d848728b3bc93eea7d8d73"
      }
     },
     "7e3a81125d4d48c19c8572fc76553687": {
      "model_module": "@jupyter-widgets/controls",
      "model_module_version": "1.5.0",
      "model_name": "IntProgressModel",
      "state": {
       "bar_style": "success",
       "layout": "IPY_MODEL_d1a7cbbee754467480614ba75fc34939",
       "max": 1,
       "style": "IPY_MODEL_d429cbc734a649b68f2d1b313cfc7565",
       "value": 1
      }
     },
     "7e86f0a7916940af93e7770a103ab340": {
      "model_module": "@jupyter-widgets/base",
      "model_module_version": "1.2.0",
      "model_name": "LayoutModel",
      "state": {}
     },
     "7f4cb98279994970a3e092f611832af4": {
      "model_module": "@jupyter-widgets/base",
      "model_module_version": "1.2.0",
      "model_name": "LayoutModel",
      "state": {}
     },
     "7f66059c986c41019cf6ebdb56995294": {
      "model_module": "@jupyter-widgets/controls",
      "model_module_version": "1.5.0",
      "model_name": "HBoxModel",
      "state": {
       "children": [
        "IPY_MODEL_0b2417ff27b24e15ba11139413a18c2d",
        "IPY_MODEL_67ae573d80ac45a09b7e12bfa97601c4"
       ],
       "layout": "IPY_MODEL_9fa016d02eb3465cb11061cc96f17cfb"
      }
     },
     "803e45b62b1f4136b519f2d51945e07e": {
      "model_module": "@jupyter-widgets/controls",
      "model_module_version": "1.5.0",
      "model_name": "DescriptionStyleModel",
      "state": {
       "description_width": ""
      }
     },
     "8075870ea5cb4605bd7643263f0736e4": {
      "model_module": "@jupyter-widgets/base",
      "model_module_version": "1.2.0",
      "model_name": "LayoutModel",
      "state": {}
     },
     "810cc6304a994b63947af726db56008a": {
      "model_module": "@jupyter-widgets/controls",
      "model_module_version": "1.5.0",
      "model_name": "HTMLModel",
      "state": {
       "layout": "IPY_MODEL_9d7856971a704fc39e68f8231e7eb91f",
       "style": "IPY_MODEL_45f41aa470274aa89f71ea3d6dd45831",
       "value": " 1/? [00:01&lt;00:00,  1.80s/it]"
      }
     },
     "82b5c3c714904bc688a2e89f50839454": {
      "model_module": "@jupyter-widgets/controls",
      "model_module_version": "1.5.0",
      "model_name": "HTMLModel",
      "state": {
       "layout": "IPY_MODEL_586c45a8476a4266a86764322378ea7b",
       "style": "IPY_MODEL_31b9277813e94f5ebbec18ba55ea9aed",
       "value": " 1/? [00:01&lt;00:00,  1.82s/it]"
      }
     },
     "84d688b0c58e46f595dcd1e1ffa2357e": {
      "model_module": "@jupyter-widgets/base",
      "model_module_version": "1.2.0",
      "model_name": "LayoutModel",
      "state": {}
     },
     "864881ca00c3493f96f3512c1994619a": {
      "model_module": "@jupyter-widgets/controls",
      "model_module_version": "1.5.0",
      "model_name": "HTMLModel",
      "state": {
       "layout": "IPY_MODEL_37bc52573b0242c381a3e17c90130403",
       "style": "IPY_MODEL_67d035ccf15e400cbc3f3033d9501114",
       "value": " 1/? [00:01&lt;00:00,  1.76s/it]"
      }
     },
     "86c521b3eae24036a34fffffb9e00219": {
      "model_module": "@jupyter-widgets/controls",
      "model_module_version": "1.5.0",
      "model_name": "HTMLModel",
      "state": {
       "layout": "IPY_MODEL_c04911b1366c4acdbe2db0ffa4327abe",
       "style": "IPY_MODEL_18fc58a6bcee4c3383cbb5331436ee36",
       "value": " 1/? [00:01&lt;00:00,  1.79s/it]"
      }
     },
     "87d5013e1a5c4675b3028a335bf390ef": {
      "model_module": "@jupyter-widgets/controls",
      "model_module_version": "1.5.0",
      "model_name": "DescriptionStyleModel",
      "state": {
       "description_width": ""
      }
     },
     "886d84f5665e4a6f8db523066ad4b617": {
      "model_module": "@jupyter-widgets/controls",
      "model_module_version": "1.5.0",
      "model_name": "HTMLModel",
      "state": {
       "layout": "IPY_MODEL_57f7490b10f44bad84444022eee08a01",
       "style": "IPY_MODEL_5fd7ea4113ea4f6d963456e3c006cad2",
       "value": " 1/? [00:01&lt;00:00,  1.79s/it]"
      }
     },
     "89e811cea6934ed7894d17e2dbadc9ca": {
      "model_module": "@jupyter-widgets/base",
      "model_module_version": "1.2.0",
      "model_name": "LayoutModel",
      "state": {}
     },
     "8dea9f7a6fdc4e0180508c3c9315415b": {
      "model_module": "@jupyter-widgets/controls",
      "model_module_version": "1.5.0",
      "model_name": "HTMLModel",
      "state": {
       "layout": "IPY_MODEL_8075870ea5cb4605bd7643263f0736e4",
       "style": "IPY_MODEL_d9f2ab5bcd234ab3ad8cff0c64159745",
       "value": " 1/? [00:01&lt;00:00,  1.78s/it]"
      }
     },
     "8e8e90ed1b234ff0ac03ac2f8e49f4ef": {
      "model_module": "@jupyter-widgets/controls",
      "model_module_version": "1.5.0",
      "model_name": "HBoxModel",
      "state": {
       "children": [
        "IPY_MODEL_52ace70cb0fd4e8eb6919ae45d6a1a17",
        "IPY_MODEL_093b101a66204f3ba2ae31813d4b7c96"
       ],
       "layout": "IPY_MODEL_48be6ab0b0a244839c48ca963f49e6b8"
      }
     },
     "8fbfa01eadf44712889575b154b6602f": {
      "model_module": "@jupyter-widgets/controls",
      "model_module_version": "1.5.0",
      "model_name": "IntProgressModel",
      "state": {
       "bar_style": "success",
       "layout": "IPY_MODEL_b121611450df424fa9a67bab9e2fe158",
       "max": 1,
       "style": "IPY_MODEL_6670538182ee4f6d977ce3beb0b24630",
       "value": 1
      }
     },
     "91f0df636d7e4be284a407f3c1a94b93": {
      "model_module": "@jupyter-widgets/base",
      "model_module_version": "1.2.0",
      "model_name": "LayoutModel",
      "state": {}
     },
     "9372396f3ef34a77b67c48945a361ace": {
      "model_module": "@jupyter-widgets/controls",
      "model_module_version": "1.5.0",
      "model_name": "IntProgressModel",
      "state": {
       "bar_style": "success",
       "layout": "IPY_MODEL_5b5f492022744b22b5e4e3159caf5c16",
       "max": 1,
       "style": "IPY_MODEL_de422bd7e19a4204b48a6911bc1de2c0",
       "value": 1
      }
     },
     "963ad96bf47744198db00fe75e48ee7c": {
      "model_module": "@jupyter-widgets/controls",
      "model_module_version": "1.5.0",
      "model_name": "IntProgressModel",
      "state": {
       "bar_style": "success",
       "layout": "IPY_MODEL_7181d1e15bb747aeab16f3a1d0839858",
       "max": 1,
       "style": "IPY_MODEL_6814642b287d45afbd7c320a8980a9df",
       "value": 1
      }
     },
     "964d9293dbef4efda0830e9a162bf40f": {
      "model_module": "@jupyter-widgets/controls",
      "model_module_version": "1.5.0",
      "model_name": "HBoxModel",
      "state": {
       "children": [
        "IPY_MODEL_bb4ee3c751fc4917ae17629ab1ba63f1",
        "IPY_MODEL_5cc66de43f8f4695bbdccc079fdfd663"
       ],
       "layout": "IPY_MODEL_074f9bdedb4d4bf0a02e675a38c3718e"
      }
     },
     "96d7d04238cc4202975261b2f12b0bd5": {
      "model_module": "@jupyter-widgets/base",
      "model_module_version": "1.2.0",
      "model_name": "LayoutModel",
      "state": {}
     },
     "9d7856971a704fc39e68f8231e7eb91f": {
      "model_module": "@jupyter-widgets/base",
      "model_module_version": "1.2.0",
      "model_name": "LayoutModel",
      "state": {}
     },
     "9f7f12f2af8d40338eda1a74b6d87a6e": {
      "model_module": "@jupyter-widgets/base",
      "model_module_version": "1.2.0",
      "model_name": "LayoutModel",
      "state": {}
     },
     "9fa016d02eb3465cb11061cc96f17cfb": {
      "model_module": "@jupyter-widgets/base",
      "model_module_version": "1.2.0",
      "model_name": "LayoutModel",
      "state": {}
     },
     "9fb8611d1f4848d5b78501ea2ff10c56": {
      "model_module": "@jupyter-widgets/base",
      "model_module_version": "1.2.0",
      "model_name": "LayoutModel",
      "state": {}
     },
     "a0ac531c3bff497f970c308903a17912": {
      "model_module": "@jupyter-widgets/controls",
      "model_module_version": "1.5.0",
      "model_name": "DescriptionStyleModel",
      "state": {
       "description_width": ""
      }
     },
     "a128fbd735044713960f3f6003f1dd29": {
      "model_module": "@jupyter-widgets/base",
      "model_module_version": "1.2.0",
      "model_name": "LayoutModel",
      "state": {}
     },
     "a6ac9e2e09ab477c85073bd9b6ebe1b3": {
      "model_module": "@jupyter-widgets/base",
      "model_module_version": "1.2.0",
      "model_name": "LayoutModel",
      "state": {}
     },
     "a6dc53aefec346158ef313a4c5e05b6a": {
      "model_module": "@jupyter-widgets/base",
      "model_module_version": "1.2.0",
      "model_name": "LayoutModel",
      "state": {}
     },
     "a772cbd5cf5a4f6abb310e91de153bf4": {
      "model_module": "@jupyter-widgets/base",
      "model_module_version": "1.2.0",
      "model_name": "LayoutModel",
      "state": {}
     },
     "a91ea2aa02824594b182ec05dee17252": {
      "model_module": "@jupyter-widgets/controls",
      "model_module_version": "1.5.0",
      "model_name": "IntProgressModel",
      "state": {
       "bar_style": "success",
       "description": "100%",
       "layout": "IPY_MODEL_9fb8611d1f4848d5b78501ea2ff10c56",
       "max": 200,
       "style": "IPY_MODEL_2d10b6931bf44fdfa439486165351a53",
       "value": 200
      }
     },
     "aaae87ebda824d7d95a08ab525467a45": {
      "model_module": "@jupyter-widgets/base",
      "model_module_version": "1.2.0",
      "model_name": "LayoutModel",
      "state": {}
     },
     "ab3b86e8a8154f8eaae8d375fee523e9": {
      "model_module": "@jupyter-widgets/controls",
      "model_module_version": "1.5.0",
      "model_name": "HBoxModel",
      "state": {
       "children": [
        "IPY_MODEL_40fec4fad32d45a4a38b1b52d2b5dd3f",
        "IPY_MODEL_86c521b3eae24036a34fffffb9e00219"
       ],
       "layout": "IPY_MODEL_aaae87ebda824d7d95a08ab525467a45"
      }
     },
     "ab9de0389007491b91f86656ce7ed921": {
      "model_module": "@jupyter-widgets/controls",
      "model_module_version": "1.5.0",
      "model_name": "HTMLModel",
      "state": {
       "layout": "IPY_MODEL_47f56e53cfa64077ae1ddbe1ecb1b958",
       "style": "IPY_MODEL_803e45b62b1f4136b519f2d51945e07e",
       "value": " 200/200 [06:23&lt;00:00,  1.92s/it]"
      }
     },
     "aee5fc2dcfc74b0ba2e7fb30ee40600c": {
      "model_module": "@jupyter-widgets/controls",
      "model_module_version": "1.5.0",
      "model_name": "DescriptionStyleModel",
      "state": {
       "description_width": ""
      }
     },
     "b121611450df424fa9a67bab9e2fe158": {
      "model_module": "@jupyter-widgets/base",
      "model_module_version": "1.2.0",
      "model_name": "LayoutModel",
      "state": {}
     },
     "b13c84a61c2442b2a029e05ff8821c0f": {
      "model_module": "@jupyter-widgets/controls",
      "model_module_version": "1.5.0",
      "model_name": "HBoxModel",
      "state": {
       "children": [
        "IPY_MODEL_7e3a81125d4d48c19c8572fc76553687",
        "IPY_MODEL_50e870e9589f43588d8fb5f2232c6eb5"
       ],
       "layout": "IPY_MODEL_3e21e3059202439f920345121d42e228"
      }
     },
     "b189f6aadc25405da4b90ca8eb208b40": {
      "model_module": "@jupyter-widgets/controls",
      "model_module_version": "1.5.0",
      "model_name": "HTMLModel",
      "state": {
       "layout": "IPY_MODEL_c7ae00cd39d746e8a203e7bc061064ca",
       "style": "IPY_MODEL_7472e0a3cf154413911c2e00487a0be1",
       "value": " 1/? [00:01&lt;00:00,  1.81s/it]"
      }
     },
     "b2e23c6a5b714d3e9a867222286698f8": {
      "model_module": "@jupyter-widgets/base",
      "model_module_version": "1.2.0",
      "model_name": "LayoutModel",
      "state": {}
     },
     "b366a74732904ea18799dc49df8a65a8": {
      "model_module": "@jupyter-widgets/controls",
      "model_module_version": "1.5.0",
      "model_name": "IntProgressModel",
      "state": {
       "bar_style": "success",
       "layout": "IPY_MODEL_eff4e71adf314f5794b68bcf0016598b",
       "max": 1,
       "style": "IPY_MODEL_1025fa77d0d34720a8ed9d98baded0f4",
       "value": 1
      }
     },
     "b52336ef85b74fb1b28663de5bb8f3a9": {
      "model_module": "@jupyter-widgets/controls",
      "model_module_version": "1.5.0",
      "model_name": "HBoxModel",
      "state": {
       "children": [
        "IPY_MODEL_6e5b5fa042934471bf6770c2bb4d3a36",
        "IPY_MODEL_bc5d58bfeff7442380a7c4e0271bec78"
       ],
       "layout": "IPY_MODEL_27a6220f791444e69dc187b7a2a8c9a8"
      }
     },
     "b594e04283de4e0ebb6ffad6a93bbc42": {
      "model_module": "@jupyter-widgets/controls",
      "model_module_version": "1.5.0",
      "model_name": "DescriptionStyleModel",
      "state": {
       "description_width": ""
      }
     },
     "b6de3470ad8d4ff2a62a8520b2eecb69": {
      "model_module": "@jupyter-widgets/base",
      "model_module_version": "1.2.0",
      "model_name": "LayoutModel",
      "state": {}
     },
     "b70d3615b7f44808ac6f1bb0be2e2c48": {
      "model_module": "@jupyter-widgets/controls",
      "model_module_version": "1.5.0",
      "model_name": "HBoxModel",
      "state": {
       "children": [
        "IPY_MODEL_fb4f32959e2f43b889f1260d40f5b730",
        "IPY_MODEL_305fbfca42a0455b93563a22b2732810"
       ],
       "layout": "IPY_MODEL_2d5d55e361f54089bb523239641e758b"
      }
     },
     "b710e0481baa4ad5b35d161247f11f35": {
      "model_module": "@jupyter-widgets/controls",
      "model_module_version": "1.5.0",
      "model_name": "HBoxModel",
      "state": {
       "children": [
        "IPY_MODEL_8fbfa01eadf44712889575b154b6602f",
        "IPY_MODEL_64a4b27aa7ba407ea02f878cabed021a"
       ],
       "layout": "IPY_MODEL_18796299d3fe4d2e91c5dc97138e8ec5"
      }
     },
     "b993239ecc9943c5bbe33fd5cf3401ce": {
      "model_module": "@jupyter-widgets/base",
      "model_module_version": "1.2.0",
      "model_name": "LayoutModel",
      "state": {}
     },
     "bb4ee3c751fc4917ae17629ab1ba63f1": {
      "model_module": "@jupyter-widgets/controls",
      "model_module_version": "1.5.0",
      "model_name": "IntProgressModel",
      "state": {
       "bar_style": "success",
       "layout": "IPY_MODEL_44606633ed8a451aac9beb162b9e6a60",
       "max": 1,
       "style": "IPY_MODEL_15f5f8de8acf4b63ac37b2897a447e13",
       "value": 1
      }
     },
     "bbcc1d23935e45a8a91849dc01ed24a5": {
      "model_module": "@jupyter-widgets/base",
      "model_module_version": "1.2.0",
      "model_name": "LayoutModel",
      "state": {}
     },
     "bc5d58bfeff7442380a7c4e0271bec78": {
      "model_module": "@jupyter-widgets/controls",
      "model_module_version": "1.5.0",
      "model_name": "HTMLModel",
      "state": {
       "layout": "IPY_MODEL_a772cbd5cf5a4f6abb310e91de153bf4",
       "style": "IPY_MODEL_b594e04283de4e0ebb6ffad6a93bbc42",
       "value": " 1/? [00:01&lt;00:00,  1.73s/it]"
      }
     },
     "bd5f9cb5a9c843b1a2c0edb9fd0dde3e": {
      "model_module": "@jupyter-widgets/controls",
      "model_module_version": "1.5.0",
      "model_name": "DescriptionStyleModel",
      "state": {
       "description_width": ""
      }
     },
     "bddc04a7655d4abd887e1758f7cae296": {
      "model_module": "@jupyter-widgets/controls",
      "model_module_version": "1.5.0",
      "model_name": "IntProgressModel",
      "state": {
       "bar_style": "success",
       "layout": "IPY_MODEL_89e811cea6934ed7894d17e2dbadc9ca",
       "max": 1,
       "style": "IPY_MODEL_c7ef6c7cb46c4dc88000def864864f39",
       "value": 1
      }
     },
     "bdf73b2221ad407c976f6cb1c533422d": {
      "model_module": "@jupyter-widgets/controls",
      "model_module_version": "1.5.0",
      "model_name": "IntProgressModel",
      "state": {
       "bar_style": "success",
       "layout": "IPY_MODEL_48935fc2cebf4e9e9a855bb5c07e194e",
       "max": 1,
       "style": "IPY_MODEL_22b1c784f4ca444dad21589fd3f95fda",
       "value": 1
      }
     },
     "bfd275ff7773457097ee2448367f33a4": {
      "model_module": "@jupyter-widgets/controls",
      "model_module_version": "1.5.0",
      "model_name": "HBoxModel",
      "state": {
       "children": [
        "IPY_MODEL_063147e0380a4dfab0c21891f09a20af",
        "IPY_MODEL_132a37baa609439e94fa953ff049e093"
       ],
       "layout": "IPY_MODEL_1186084624094a03a92783f8a6d8db5e"
      }
     },
     "bfe7aae67b5f43798fcb7c0ea97cf6ac": {
      "model_module": "@jupyter-widgets/controls",
      "model_module_version": "1.5.0",
      "model_name": "ProgressStyleModel",
      "state": {
       "description_width": "initial"
      }
     },
     "c04911b1366c4acdbe2db0ffa4327abe": {
      "model_module": "@jupyter-widgets/base",
      "model_module_version": "1.2.0",
      "model_name": "LayoutModel",
      "state": {}
     },
     "c0d1e1b4154546f58097645e7af2382e": {
      "model_module": "@jupyter-widgets/controls",
      "model_module_version": "1.5.0",
      "model_name": "IntProgressModel",
      "state": {
       "bar_style": "success",
       "layout": "IPY_MODEL_e557af12da874dd69dc5c8ad008b056e",
       "max": 1,
       "style": "IPY_MODEL_1d52c7438f5c495cb57465e200cffa42",
       "value": 1
      }
     },
     "c39f53d5d11c4e77ba663ef37099368c": {
      "model_module": "@jupyter-widgets/base",
      "model_module_version": "1.2.0",
      "model_name": "LayoutModel",
      "state": {}
     },
     "c3e456f7a2604bf18790d88663733cf7": {
      "model_module": "@jupyter-widgets/base",
      "model_module_version": "1.2.0",
      "model_name": "LayoutModel",
      "state": {}
     },
     "c414cadb32e6475391550c7641eabebc": {
      "model_module": "@jupyter-widgets/controls",
      "model_module_version": "1.5.0",
      "model_name": "IntProgressModel",
      "state": {
       "bar_style": "success",
       "layout": "IPY_MODEL_515146c7212b4a8d88ec4b61b0c9d00c",
       "max": 1,
       "style": "IPY_MODEL_153eca8784c94d1b9cbe80a5fb34daef",
       "value": 1
      }
     },
     "c5e02838cb674038a0fcea129584c222": {
      "model_module": "@jupyter-widgets/controls",
      "model_module_version": "1.5.0",
      "model_name": "HBoxModel",
      "state": {
       "children": [
        "IPY_MODEL_e8b33b3c0ae24b30886a2f5681f78f64",
        "IPY_MODEL_021fa708b9254f5d92b10dab013f78fb"
       ],
       "layout": "IPY_MODEL_bbcc1d23935e45a8a91849dc01ed24a5"
      }
     },
     "c7ae00cd39d746e8a203e7bc061064ca": {
      "model_module": "@jupyter-widgets/base",
      "model_module_version": "1.2.0",
      "model_name": "LayoutModel",
      "state": {}
     },
     "c7ef6c7cb46c4dc88000def864864f39": {
      "model_module": "@jupyter-widgets/controls",
      "model_module_version": "1.5.0",
      "model_name": "ProgressStyleModel",
      "state": {
       "description_width": "initial"
      }
     },
     "c801d3fd688542428452522cd5eea821": {
      "model_module": "@jupyter-widgets/controls",
      "model_module_version": "1.5.0",
      "model_name": "IntProgressModel",
      "state": {
       "bar_style": "success",
       "layout": "IPY_MODEL_2bd131a4501c4e63b9591fbe0a26e83c",
       "max": 1,
       "style": "IPY_MODEL_ea7723e64cca49e986d8f057db5d8ed6",
       "value": 1
      }
     },
     "ca2d161a8c654b23ad3ad9334e3d671a": {
      "model_module": "@jupyter-widgets/controls",
      "model_module_version": "1.5.0",
      "model_name": "HBoxModel",
      "state": {
       "children": [
        "IPY_MODEL_04c1beb679924af5bf80758274692eba",
        "IPY_MODEL_ec52d8fe5d7249928d406e534936f784"
       ],
       "layout": "IPY_MODEL_0958774aa68648c6ae99ad09e020772f"
      }
     },
     "cab1099536d0455c8f7f944039aba6c4": {
      "model_module": "@jupyter-widgets/controls",
      "model_module_version": "1.5.0",
      "model_name": "HTMLModel",
      "state": {
       "layout": "IPY_MODEL_52d3d31245304a3094d1342726875367",
       "style": "IPY_MODEL_065b80d09eb5482a8f9cd81ab44943e4",
       "value": " 1/? [00:01&lt;00:00,  1.77s/it]"
      }
     },
     "ccadf70c92fc473eb634b893d2439999": {
      "model_module": "@jupyter-widgets/base",
      "model_module_version": "1.2.0",
      "model_name": "LayoutModel",
      "state": {}
     },
     "ce6e902107c144d2b89490ac195ce2e1": {
      "model_module": "@jupyter-widgets/controls",
      "model_module_version": "1.5.0",
      "model_name": "ProgressStyleModel",
      "state": {
       "description_width": "initial"
      }
     },
     "cee98263c6ca4183b5aa9cd17da82590": {
      "model_module": "@jupyter-widgets/base",
      "model_module_version": "1.2.0",
      "model_name": "LayoutModel",
      "state": {}
     },
     "d10dccadc637471097877d37498a6686": {
      "model_module": "@jupyter-widgets/controls",
      "model_module_version": "1.5.0",
      "model_name": "HBoxModel",
      "state": {
       "children": [
        "IPY_MODEL_17470a80d0844efc8219796a88a4be5c",
        "IPY_MODEL_da33575e9bff4186859dc15b82f991d9"
       ],
       "layout": "IPY_MODEL_e90f671e457b4b9f95f201dd5fea34b7"
      }
     },
     "d1a7cbbee754467480614ba75fc34939": {
      "model_module": "@jupyter-widgets/base",
      "model_module_version": "1.2.0",
      "model_name": "LayoutModel",
      "state": {}
     },
     "d249ba31291c4defad2df36ece769138": {
      "model_module": "@jupyter-widgets/controls",
      "model_module_version": "1.5.0",
      "model_name": "HTMLModel",
      "state": {
       "layout": "IPY_MODEL_1757cfe04da94faabec971706252eceb",
       "style": "IPY_MODEL_4ac117321a084fcaa4fa3730e414f679",
       "value": " 1/? [00:01&lt;00:00,  1.81s/it]"
      }
     },
     "d257ada3e25f465a9bd533ecf82faf45": {
      "model_module": "@jupyter-widgets/controls",
      "model_module_version": "1.5.0",
      "model_name": "DescriptionStyleModel",
      "state": {
       "description_width": ""
      }
     },
     "d429cbc734a649b68f2d1b313cfc7565": {
      "model_module": "@jupyter-widgets/controls",
      "model_module_version": "1.5.0",
      "model_name": "ProgressStyleModel",
      "state": {
       "description_width": "initial"
      }
     },
     "d4ea9a00b94b408eba7b6ef1324d5a92": {
      "model_module": "@jupyter-widgets/controls",
      "model_module_version": "1.5.0",
      "model_name": "DescriptionStyleModel",
      "state": {
       "description_width": ""
      }
     },
     "d75ab412a7df414ba5fdff2d34bca3e1": {
      "model_module": "@jupyter-widgets/controls",
      "model_module_version": "1.5.0",
      "model_name": "HBoxModel",
      "state": {
       "children": [
        "IPY_MODEL_1ed09715aa184893873f3e22740990c8",
        "IPY_MODEL_5256c5fe58474703852b3c7a6b5f7c24"
       ],
       "layout": "IPY_MODEL_96d7d04238cc4202975261b2f12b0bd5"
      }
     },
     "d7b299c7f98b4a4d82d8161ad3ae71aa": {
      "model_module": "@jupyter-widgets/controls",
      "model_module_version": "1.5.0",
      "model_name": "ProgressStyleModel",
      "state": {
       "description_width": "initial"
      }
     },
     "d8f42386dc154cb38734dd652d531327": {
      "model_module": "@jupyter-widgets/base",
      "model_module_version": "1.2.0",
      "model_name": "LayoutModel",
      "state": {}
     },
     "d9f2ab5bcd234ab3ad8cff0c64159745": {
      "model_module": "@jupyter-widgets/controls",
      "model_module_version": "1.5.0",
      "model_name": "DescriptionStyleModel",
      "state": {
       "description_width": ""
      }
     },
     "da0cf91952764e11b8fceca251b26d9a": {
      "model_module": "@jupyter-widgets/base",
      "model_module_version": "1.2.0",
      "model_name": "LayoutModel",
      "state": {}
     },
     "da33575e9bff4186859dc15b82f991d9": {
      "model_module": "@jupyter-widgets/controls",
      "model_module_version": "1.5.0",
      "model_name": "HTMLModel",
      "state": {
       "layout": "IPY_MODEL_63dc3a5460ed44ccb526d8f053ba76cb",
       "style": "IPY_MODEL_60b0a46057914cf794c8565abc0ca082",
       "value": " 1/? [00:01&lt;00:00,  1.82s/it]"
      }
     },
     "dbed68e139e94f3ea36d839390d2d61b": {
      "model_module": "@jupyter-widgets/base",
      "model_module_version": "1.2.0",
      "model_name": "LayoutModel",
      "state": {}
     },
     "dbfc3775ed264c45b274133545704531": {
      "model_module": "@jupyter-widgets/controls",
      "model_module_version": "1.5.0",
      "model_name": "HBoxModel",
      "state": {
       "children": [
        "IPY_MODEL_57b81c51ecaa41dd88fa1348b429b967",
        "IPY_MODEL_2b57c5fb53cc4f72a1903c278fc943d9"
       ],
       "layout": "IPY_MODEL_2840614230cf4b68a41dcfdb3cfd0a21"
      }
     },
     "dc0099b4e9834745bf5ab542bc44fc41": {
      "model_module": "@jupyter-widgets/base",
      "model_module_version": "1.2.0",
      "model_name": "LayoutModel",
      "state": {}
     },
     "dd2a7a0cc59f4d16a85c30fe4f1322bd": {
      "model_module": "@jupyter-widgets/controls",
      "model_module_version": "1.5.0",
      "model_name": "HBoxModel",
      "state": {
       "children": [
        "IPY_MODEL_bdf73b2221ad407c976f6cb1c533422d",
        "IPY_MODEL_137f38f41e844d9592968a77a9ea40b3"
       ],
       "layout": "IPY_MODEL_da0cf91952764e11b8fceca251b26d9a"
      }
     },
     "de422bd7e19a4204b48a6911bc1de2c0": {
      "model_module": "@jupyter-widgets/controls",
      "model_module_version": "1.5.0",
      "model_name": "ProgressStyleModel",
      "state": {
       "description_width": "initial"
      }
     },
     "e11bb3504a9a4b9b9d0134059886bd71": {
      "model_module": "@jupyter-widgets/base",
      "model_module_version": "1.2.0",
      "model_name": "LayoutModel",
      "state": {}
     },
     "e24cc1c7a82d42a5bdfff96e8a36b489": {
      "model_module": "@jupyter-widgets/controls",
      "model_module_version": "1.5.0",
      "model_name": "DescriptionStyleModel",
      "state": {
       "description_width": ""
      }
     },
     "e557af12da874dd69dc5c8ad008b056e": {
      "model_module": "@jupyter-widgets/base",
      "model_module_version": "1.2.0",
      "model_name": "LayoutModel",
      "state": {}
     },
     "e8b33b3c0ae24b30886a2f5681f78f64": {
      "model_module": "@jupyter-widgets/controls",
      "model_module_version": "1.5.0",
      "model_name": "IntProgressModel",
      "state": {
       "bar_style": "success",
       "layout": "IPY_MODEL_0d2b5bea85534f03996c45a763b0b7a6",
       "max": 1,
       "style": "IPY_MODEL_3a719a341db14ce1b2c039ccf7114670",
       "value": 1
      }
     },
     "e90f671e457b4b9f95f201dd5fea34b7": {
      "model_module": "@jupyter-widgets/base",
      "model_module_version": "1.2.0",
      "model_name": "LayoutModel",
      "state": {}
     },
     "ea7723e64cca49e986d8f057db5d8ed6": {
      "model_module": "@jupyter-widgets/controls",
      "model_module_version": "1.5.0",
      "model_name": "ProgressStyleModel",
      "state": {
       "description_width": "initial"
      }
     },
     "ec52d8fe5d7249928d406e534936f784": {
      "model_module": "@jupyter-widgets/controls",
      "model_module_version": "1.5.0",
      "model_name": "HTMLModel",
      "state": {
       "layout": "IPY_MODEL_a6ac9e2e09ab477c85073bd9b6ebe1b3",
       "style": "IPY_MODEL_a0ac531c3bff497f970c308903a17912",
       "value": " 1/? [00:01&lt;00:00,  1.77s/it]"
      }
     },
     "ecc24606649548659f983ccc8c3cdb03": {
      "model_module": "@jupyter-widgets/base",
      "model_module_version": "1.2.0",
      "model_name": "LayoutModel",
      "state": {}
     },
     "ef3dca07e78f4f1e90f81e24875ea4c5": {
      "model_module": "@jupyter-widgets/controls",
      "model_module_version": "1.5.0",
      "model_name": "HTMLModel",
      "state": {
       "layout": "IPY_MODEL_0809bf93103b48e1bd20947fc55e3f68",
       "style": "IPY_MODEL_1b4a257786ce428c86e3862625e19550",
       "value": " 1/? [00:01&lt;00:00,  1.80s/it]"
      }
     },
     "eff4e71adf314f5794b68bcf0016598b": {
      "model_module": "@jupyter-widgets/base",
      "model_module_version": "1.2.0",
      "model_name": "LayoutModel",
      "state": {}
     },
     "f06969e9221046a3bca268071a5cb066": {
      "model_module": "@jupyter-widgets/base",
      "model_module_version": "1.2.0",
      "model_name": "LayoutModel",
      "state": {}
     },
     "f0ac4de320394856b4c0ca43651571de": {
      "model_module": "@jupyter-widgets/base",
      "model_module_version": "1.2.0",
      "model_name": "LayoutModel",
      "state": {}
     },
     "f26d7e0af0f64fb3947922d6964d1764": {
      "model_module": "@jupyter-widgets/controls",
      "model_module_version": "1.5.0",
      "model_name": "ProgressStyleModel",
      "state": {
       "description_width": "initial"
      }
     },
     "f509f306e5e649caa62c4cf748ebf467": {
      "model_module": "@jupyter-widgets/controls",
      "model_module_version": "1.5.0",
      "model_name": "DescriptionStyleModel",
      "state": {
       "description_width": ""
      }
     },
     "f5cc1e67bf8b4c18be707184470a920b": {
      "model_module": "@jupyter-widgets/controls",
      "model_module_version": "1.5.0",
      "model_name": "DescriptionStyleModel",
      "state": {
       "description_width": ""
      }
     },
     "f6ed3c65eeb94d9f91b6e6047177242e": {
      "model_module": "@jupyter-widgets/base",
      "model_module_version": "1.2.0",
      "model_name": "LayoutModel",
      "state": {}
     },
     "f717abaaa9c449309d70bd002d165b90": {
      "model_module": "@jupyter-widgets/controls",
      "model_module_version": "1.5.0",
      "model_name": "HBoxModel",
      "state": {
       "children": [
        "IPY_MODEL_3f2a791cc2724729aac12b76c8de909a",
        "IPY_MODEL_864881ca00c3493f96f3512c1994619a"
       ],
       "layout": "IPY_MODEL_1fb04e0f6967422f9b83824feeddf33d"
      }
     },
     "fa8035f4670548caaaecf763241d6f56": {
      "model_module": "@jupyter-widgets/controls",
      "model_module_version": "1.5.0",
      "model_name": "ProgressStyleModel",
      "state": {
       "description_width": "initial"
      }
     },
     "fad5f999263f41cd85623691e06a83d5": {
      "model_module": "@jupyter-widgets/controls",
      "model_module_version": "1.5.0",
      "model_name": "ProgressStyleModel",
      "state": {
       "description_width": "initial"
      }
     },
     "fb4f32959e2f43b889f1260d40f5b730": {
      "model_module": "@jupyter-widgets/controls",
      "model_module_version": "1.5.0",
      "model_name": "IntProgressModel",
      "state": {
       "bar_style": "success",
       "layout": "IPY_MODEL_66865ee5b63945c3b25d638c175f7c56",
       "max": 1,
       "style": "IPY_MODEL_18664e4d4e5f433bafd265be551633db",
       "value": 1
      }
     },
     "fe269c5032934595b27986a3de226023": {
      "model_module": "@jupyter-widgets/controls",
      "model_module_version": "1.5.0",
      "model_name": "DescriptionStyleModel",
      "state": {
       "description_width": ""
      }
     },
     "ff5cdcb5ea71494e98e27406dba81b20": {
      "model_module": "@jupyter-widgets/base",
      "model_module_version": "1.2.0",
      "model_name": "LayoutModel",
      "state": {}
     }
    },
    "version_major": 2,
    "version_minor": 0
   }
  }
 },
 "nbformat": 4,
 "nbformat_minor": 4
}
