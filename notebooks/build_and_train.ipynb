{
 "cells": [
  {
   "cell_type": "code",
   "execution_count": 1,
   "metadata": {},
   "outputs": [],
   "source": [
    "import numpy as np\n",
    "import tensorflow as tf\n",
    "from tensorflow.keras.initializers import RandomNormal, Constant\n",
    "from tensorflow.keras.layers import (Input,\n",
    "                                     Conv2D, \n",
    "                                     BatchNormalization, \n",
    "                                     Lambda,\n",
    "                                     ReLU, \n",
    "                                     UpSampling2D,\n",
    "                                     Add)\n",
    "tf.config.optimizer.set_jit(True)\n",
    "tf.keras.mixed_precision.experimental.set_policy('mixed_float16')"
   ]
  },
  {
   "cell_type": "code",
   "execution_count": 2,
   "metadata": {},
   "outputs": [],
   "source": [
    "def conv_block(input_tensor=None,\n",
    "               filters=None,\n",
    "               kernel_size=None,\n",
    "               strides=1,\n",
    "               padding='same',\n",
    "               kernel_init='he_normal',\n",
    "               bias_init='zeros',\n",
    "               bn_act=True,\n",
    "               name_prefix=None):\n",
    "    \n",
    "    _x = Conv2D(filters=filters, kernel_size=kernel_size,\n",
    "                padding=padding, strides=strides,\n",
    "                kernel_initializer=kernel_init,\n",
    "                bias_initializer=bias_init,\n",
    "                name='{}_conv_{}x{}'.format(name_prefix,\n",
    "                                            kernel_size,\n",
    "                                            kernel_size))(input_tensor)\n",
    "    if bn_act:\n",
    "        _x = BatchNormalization(\n",
    "            name='{}_bn'.format(name_prefix))(_x)\n",
    "        _x = ReLU(name='{}_relu'.format(name_prefix))(_x)\n",
    "    return _x"
   ]
  },
  {
   "cell_type": "code",
   "execution_count": 3,
   "metadata": {},
   "outputs": [],
   "source": [
    "class FCOS:\n",
    "    def __init__(self, config):\n",
    "        self._validate_config(config)\n",
    "        for attr in config:\n",
    "            setattr(self, attr, config[attr])\n",
    "        self._build_fpn()\n",
    "        self._build_model()\n",
    "\n",
    "    def _validate_config(self, config):\n",
    "        attr_list = [\n",
    "            'mode',\n",
    "            'distribute_strategy',\n",
    "            'image_height',\n",
    "            'image_width',\n",
    "            'num_classes',\n",
    "            'dataset',\n",
    "            'epochs',\n",
    "            'learning_rate',\n",
    "            'model_dir',\n",
    "            'tensorboard_log_dir'\n",
    "        ]\n",
    "        for attr in attr_list:\n",
    "            assert attr in config, 'Missing {} in config'.format(attr)\n",
    "\n",
    "    def _build_fpn(self):\n",
    "        '''\n",
    "            From the FPN paper, \"To start the iteration, we simply attach a\n",
    "            1×1 convolutional layer on C5 to produce the coarsest resolution map.\n",
    "            Finally, we append a 3×3 convolution on each merged map to generate\n",
    "            the final feature map, which is to reduce the aliasing effect of\n",
    "            upsampling. This final set of feature maps is called\n",
    "            {P2, P3, P4, P5}, corresponding to {C2, C3, C4, C5} that are\n",
    "            respectively of the same spatial sizes\".\n",
    "            From the FCOS paper, \"P6 and P7 are produced by applying one\n",
    "            convolutional layer with the stride being 2 on P5 and P6, respectively\".\n",
    "        '''\n",
    "        with self.distribute_strategy.scope():\n",
    "            print('****Building FPN')\n",
    "            self._backbone = tf.keras.applications.ResNet50V2(\n",
    "                input_shape=[self.image_height, self.image_width, 3],\n",
    "                weights='imagenet',\n",
    "                include_top=False)\n",
    "            C5 = self._backbone.get_layer('post_relu').output\n",
    "            C4 = self._backbone.get_layer('conv4_block6_1_relu').output\n",
    "            C3 = self._backbone.get_layer('conv3_block4_1_relu').output\n",
    "\n",
    "            M5 = conv_block(C5, 256, 1, bn_act=False, name_prefix='C5')\n",
    "            P5 = conv_block(M5, 256, 3, bn_act=False, name_prefix='P5')\n",
    "            M5_upsampled = UpSampling2D(size=(2, 2),\n",
    "                                        interpolation='nearest',\n",
    "                                        name='M5_upsampled')(M5)\n",
    "\n",
    "            M4 = conv_block(C4, 256, 1, bn_act=False, name_prefix='C4')\n",
    "            M4 = tf.keras.layers.Add(name='M4_M5_add')([M4, M5_upsampled])\n",
    "            P4 = conv_block(M4, 256, 3, bn_act=False, name_prefix='P4')\n",
    "            M4_upsampled = UpSampling2D(size=(2, 2),\n",
    "                                        interpolation='nearest',\n",
    "                                        name='M4_upsampled')(M4)\n",
    "\n",
    "            M3 = conv_block(C3, 256, 1, bn_act=False, name_prefix='C3')\n",
    "            P3 = Add(name='M3_M4_add')([M3, M4_upsampled])\n",
    "            P3 = conv_block(P3, 256, 3, bn_act=False, name_prefix='P3')\n",
    "\n",
    "            P6 = conv_block(P5, 256, 3, 2, bn_act=False, name_prefix='P6')\n",
    "            P6_relu = ReLU(name='P6_relu')(P6)\n",
    "            P7 = conv_block(P6_relu, 256, 3, 2, bn_act=False, name_prefix='P7')\n",
    "\n",
    "            self._pyramid_features = {\n",
    "                'P3': P3,\n",
    "                'P4': P4,\n",
    "                'P5': P5,\n",
    "                'P6': P6,\n",
    "                'P7': P7\n",
    "            }\n",
    "\n",
    "    def _get_classification_head(self, p=0.01):\n",
    "        kernel_init = RandomNormal(0.0, 0.01)\n",
    "        bias_init = Constant(-np.log((1 - p) / p))\n",
    "\n",
    "        input_layer = Input(shape=[None, None, 256])\n",
    "        x = input_layer\n",
    "\n",
    "        for i in range(4):\n",
    "            x = conv_block(x, 256, 3, kernel_init=kernel_init,\n",
    "                           name_prefix='c_head_{}'.format(i))\n",
    "        classification_logits = conv_block(x, self.num_classes,\n",
    "                                           3, kernel_init=kernel_init,\n",
    "                                           bias_init=bias_init, bn_act=False,\n",
    "                                           name_prefix='cls_logits')\n",
    "        centerness_logits = conv_block(x, 1, 3,\n",
    "                                       kernel_init=kernel_init, bn_act=False,\n",
    "                                       name_prefix='ctr_logits')\n",
    "        outputs = [classification_logits, centerness_logits]\n",
    "        return tf.keras.Model(inputs=[input_layer],\n",
    "                              outputs=[outputs],\n",
    "                              name='classification_head')\n",
    "\n",
    "    def _get_regression_head(self):\n",
    "        '''\n",
    "            From the FCOS paper,\"since the regression targets are always positive,\n",
    "            we employ exp(x) to map any real number to (0, ∞) on the top of the\n",
    "            regression branch\"\n",
    "        '''\n",
    "        kernel_init = RandomNormal(0.0, 0.01)\n",
    "        input_layer = Input(shape=[None, None, 256])\n",
    "        x = input_layer\n",
    "\n",
    "        for i in range(4):\n",
    "            x = conv_block(x, 256, 3, kernel_init=kernel_init,\n",
    "                           name_prefix='r_head_{}'.format(i))\n",
    "        regression_logits = conv_block(x, 4, 3, kernel_init=kernel_init,\n",
    "                                       bn_act=False, name_prefix='reg_logits')\n",
    "        regression_logits = Lambda(tf.exp, name='reg_logits')(regression_logits)\n",
    "        return tf.keras.Model(inputs=[input_layer],\n",
    "                              outputs=[regression_logits],\n",
    "                              name='regression_head')\n",
    "\n",
    "    def _build_model(self):\n",
    "        with self.distribute_strategy.scope():\n",
    "            print('****Building FCOS')\n",
    "            self._classification_head = self._get_classification_head()\n",
    "            self._regression_head = self._get_regression_head()\n",
    "            \n",
    "            self._classification_logits = []\n",
    "            self._centerness_logits = []\n",
    "            self._regression_logits = []\n",
    "            \n",
    "            for i in range(3, 8):\n",
    "                feature = self._pyramid_features['P{}'.format(i)]\n",
    "                _cls_head_logits = self._classification_head(feature)\n",
    "                _reg_head_logits = self._regression_head(feature)\n",
    "                self._classification_logits.append(_cls_head_logits[0][0])\n",
    "                self._centerness_logits.append(_cls_head_logits[0][1])\n",
    "                self._regression_logits.append(_reg_head_logits)\n",
    "                \n",
    "            _image_input = self._backbone.input\n",
    "            outputs = [self._classification_logits,\n",
    "                       self._centerness_logits, \n",
    "                       self._regression_logits]\n",
    "            self.model = tf.keras.Model(inputs=[_image_input], outputs=outputs, name='FCOS')\n",
    "\n",
    "\n",
    "    @staticmethod\n",
    "    def _classification_loss(labels, logits):\n",
    "        #TODO\n",
    "        pass\n",
    "\n",
    "    \n",
    "    @staticmethod\n",
    "    def _centerness_loss(labels, logits):\n",
    "        #TODO\n",
    "        pass\n",
    "\n",
    "    \n",
    "    @staticmethod\n",
    "    def _regression_loss(labels, logits):\n",
    "        #TODO\n",
    "        pass\n",
    "    \n",
    "            \n",
    "    @staticmethod\n",
    "    def _per_level_loss(labels, logits):\n",
    "        #TODO\n",
    "        pass\n",
    "    \n",
    "    @staticmethod\n",
    "    def _compute_total_loss(labels, logits):\n",
    "        #TODO\n",
    "        pass    "
   ]
  },
  {
   "cell_type": "code",
   "execution_count": 4,
   "metadata": {},
   "outputs": [],
   "source": [
    "config = {\n",
    "    'mode':'train',\n",
    "    'distribute_strategy':tf.distribute.MirroredStrategy(devices=['/gpu:0', 'gpu:1']),\n",
    "    'image_height':800,\n",
    "    'image_width':1440,\n",
    "    'num_classes':80,\n",
    "    'dataset':None,\n",
    "    'epochs':250,\n",
    "    'learning_rate':1e-4,\n",
    "    'model_dir':'model_files',\n",
    "    'tensorboard_log_dir':'logs'\n",
    "}"
   ]
  },
  {
   "cell_type": "code",
   "execution_count": 5,
   "metadata": {},
   "outputs": [
    {
     "name": "stdout",
     "output_type": "stream",
     "text": [
      "****Building FPN\n",
      "INFO:tensorflow:Reduce to /job:localhost/replica:0/task:0/device:CPU:0 then broadcast to ('/job:localhost/replica:0/task:0/device:CPU:0',).\n",
      "INFO:tensorflow:Reduce to /job:localhost/replica:0/task:0/device:CPU:0 then broadcast to ('/job:localhost/replica:0/task:0/device:CPU:0',).\n",
      "INFO:tensorflow:Reduce to /job:localhost/replica:0/task:0/device:CPU:0 then broadcast to ('/job:localhost/replica:0/task:0/device:CPU:0',).\n",
      "INFO:tensorflow:Reduce to /job:localhost/replica:0/task:0/device:CPU:0 then broadcast to ('/job:localhost/replica:0/task:0/device:CPU:0',).\n",
      "INFO:tensorflow:Reduce to /job:localhost/replica:0/task:0/device:CPU:0 then broadcast to ('/job:localhost/replica:0/task:0/device:CPU:0',).\n",
      "INFO:tensorflow:Reduce to /job:localhost/replica:0/task:0/device:CPU:0 then broadcast to ('/job:localhost/replica:0/task:0/device:CPU:0',).\n",
      "INFO:tensorflow:Reduce to /job:localhost/replica:0/task:0/device:CPU:0 then broadcast to ('/job:localhost/replica:0/task:0/device:CPU:0',).\n",
      "INFO:tensorflow:Reduce to /job:localhost/replica:0/task:0/device:CPU:0 then broadcast to ('/job:localhost/replica:0/task:0/device:CPU:0',).\n",
      "INFO:tensorflow:Reduce to /job:localhost/replica:0/task:0/device:CPU:0 then broadcast to ('/job:localhost/replica:0/task:0/device:CPU:0',).\n",
      "INFO:tensorflow:Reduce to /job:localhost/replica:0/task:0/device:CPU:0 then broadcast to ('/job:localhost/replica:0/task:0/device:CPU:0',).\n",
      "****Building FCOS\n"
     ]
    }
   ],
   "source": [
    "fcos = FCOS(config)"
   ]
  },
  {
   "cell_type": "code",
   "execution_count": 6,
   "metadata": {},
   "outputs": [
    {
     "data": {
      "text/plain": [
       "[<tf.Tensor 'classification_head/Identity:0' shape=(None, 100, 180, 80) dtype=float16>,\n",
       " <tf.Tensor 'classification_head_1/Identity:0' shape=(None, 50, 90, 80) dtype=float16>,\n",
       " <tf.Tensor 'classification_head_2/Identity:0' shape=(None, 25, 45, 80) dtype=float16>,\n",
       " <tf.Tensor 'classification_head_3/Identity:0' shape=(None, 13, 23, 80) dtype=float16>,\n",
       " <tf.Tensor 'classification_head_4/Identity:0' shape=(None, 7, 12, 80) dtype=float16>,\n",
       " <tf.Tensor 'classification_head/Identity_1:0' shape=(None, 100, 180, 1) dtype=float16>,\n",
       " <tf.Tensor 'classification_head_1/Identity_1:0' shape=(None, 50, 90, 1) dtype=float16>,\n",
       " <tf.Tensor 'classification_head_2/Identity_1:0' shape=(None, 25, 45, 1) dtype=float16>,\n",
       " <tf.Tensor 'classification_head_3/Identity_1:0' shape=(None, 13, 23, 1) dtype=float16>,\n",
       " <tf.Tensor 'classification_head_4/Identity_1:0' shape=(None, 7, 12, 1) dtype=float16>,\n",
       " <tf.Tensor 'regression_head/Identity:0' shape=(None, 100, 180, 4) dtype=float16>,\n",
       " <tf.Tensor 'regression_head_1/Identity:0' shape=(None, 50, 90, 4) dtype=float16>,\n",
       " <tf.Tensor 'regression_head_2/Identity:0' shape=(None, 25, 45, 4) dtype=float16>,\n",
       " <tf.Tensor 'regression_head_3/Identity:0' shape=(None, 13, 23, 4) dtype=float16>,\n",
       " <tf.Tensor 'regression_head_4/Identity:0' shape=(None, 7, 12, 4) dtype=float16>]"
      ]
     },
     "execution_count": 6,
     "metadata": {},
     "output_type": "execute_result"
    }
   ],
   "source": [
    "fcos.model.outputs"
   ]
  },
  {
   "cell_type": "code",
   "execution_count": 7,
   "metadata": {},
   "outputs": [
    {
     "data": {
      "text/plain": [
       "[<tf.Tensor 'classification_head/Identity:0' shape=(None, 100, 180, 80) dtype=float16>,\n",
       " <tf.Tensor 'classification_head_1/Identity:0' shape=(None, 50, 90, 80) dtype=float16>,\n",
       " <tf.Tensor 'classification_head_2/Identity:0' shape=(None, 25, 45, 80) dtype=float16>,\n",
       " <tf.Tensor 'classification_head_3/Identity:0' shape=(None, 13, 23, 80) dtype=float16>,\n",
       " <tf.Tensor 'classification_head_4/Identity:0' shape=(None, 7, 12, 80) dtype=float16>]"
      ]
     },
     "execution_count": 7,
     "metadata": {},
     "output_type": "execute_result"
    }
   ],
   "source": [
    "fcos._classification_logits"
   ]
  },
  {
   "cell_type": "code",
   "execution_count": 8,
   "metadata": {},
   "outputs": [
    {
     "data": {
      "text/plain": [
       "[<tf.Tensor 'classification_head/Identity_1:0' shape=(None, 100, 180, 1) dtype=float16>,\n",
       " <tf.Tensor 'classification_head_1/Identity_1:0' shape=(None, 50, 90, 1) dtype=float16>,\n",
       " <tf.Tensor 'classification_head_2/Identity_1:0' shape=(None, 25, 45, 1) dtype=float16>,\n",
       " <tf.Tensor 'classification_head_3/Identity_1:0' shape=(None, 13, 23, 1) dtype=float16>,\n",
       " <tf.Tensor 'classification_head_4/Identity_1:0' shape=(None, 7, 12, 1) dtype=float16>]"
      ]
     },
     "execution_count": 8,
     "metadata": {},
     "output_type": "execute_result"
    }
   ],
   "source": [
    "fcos._centerness_logits"
   ]
  },
  {
   "cell_type": "code",
   "execution_count": 9,
   "metadata": {},
   "outputs": [
    {
     "data": {
      "text/plain": [
       "[<tf.Tensor 'regression_head/Identity:0' shape=(None, 100, 180, 4) dtype=float16>,\n",
       " <tf.Tensor 'regression_head_1/Identity:0' shape=(None, 50, 90, 4) dtype=float16>,\n",
       " <tf.Tensor 'regression_head_2/Identity:0' shape=(None, 25, 45, 4) dtype=float16>,\n",
       " <tf.Tensor 'regression_head_3/Identity:0' shape=(None, 13, 23, 4) dtype=float16>,\n",
       " <tf.Tensor 'regression_head_4/Identity:0' shape=(None, 7, 12, 4) dtype=float16>]"
      ]
     },
     "execution_count": 9,
     "metadata": {},
     "output_type": "execute_result"
    }
   ],
   "source": [
    "fcos._regression_logits"
   ]
  },
  {
   "cell_type": "code",
   "execution_count": 10,
   "metadata": {},
   "outputs": [
    {
     "data": {
      "text/plain": [
       "{'P3': <tf.Tensor 'P3_conv_3x3/Identity:0' shape=(None, 100, 180, 256) dtype=float16>,\n",
       " 'P4': <tf.Tensor 'P4_conv_3x3/Identity:0' shape=(None, 50, 90, 256) dtype=float16>,\n",
       " 'P5': <tf.Tensor 'P5_conv_3x3/Identity:0' shape=(None, 25, 45, 256) dtype=float16>,\n",
       " 'P6': <tf.Tensor 'P6_conv_3x3/Identity:0' shape=(None, 13, 23, 256) dtype=float16>,\n",
       " 'P7': <tf.Tensor 'P7_conv_3x3/Identity:0' shape=(None, 7, 12, 256) dtype=float16>}"
      ]
     },
     "execution_count": 10,
     "metadata": {},
     "output_type": "execute_result"
    }
   ],
   "source": [
    "fcos._pyramid_features"
   ]
  },
  {
   "cell_type": "code",
   "execution_count": 11,
   "metadata": {},
   "outputs": [],
   "source": [
    "dummy_tensor = tf.random.normal(shape=[4, 800, 1440, 3])"
   ]
  },
  {
   "cell_type": "code",
   "execution_count": 12,
   "metadata": {},
   "outputs": [
    {
     "name": "stderr",
     "output_type": "stream",
     "text": [
      "100%|██████████| 100/100 [00:15<00:00,  6.30it/s]\n"
     ]
    }
   ],
   "source": [
    "from tqdm import tqdm\n",
    "for i in tqdm(range(100)):\n",
    "    logits = fcos.model(dummy_tensor, training=False)"
   ]
  },
  {
   "cell_type": "code",
   "execution_count": null,
   "metadata": {},
   "outputs": [],
   "source": []
  }
 ],
 "metadata": {
  "kernelspec": {
   "display_name": "Python 3",
   "language": "python",
   "name": "python3"
  },
  "language_info": {
   "codemirror_mode": {
    "name": "ipython",
    "version": 3
   },
   "file_extension": ".py",
   "mimetype": "text/x-python",
   "name": "python",
   "nbconvert_exporter": "python",
   "pygments_lexer": "ipython3",
   "version": "3.6.8"
  }
 },
 "nbformat": 4,
 "nbformat_minor": 4
}
