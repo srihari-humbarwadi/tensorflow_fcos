{
 "cells": [
  {
   "cell_type": "code",
   "execution_count": 1,
   "metadata": {},
   "outputs": [],
   "source": [
    "import sys\n",
    "sys.path.append('../tensorflow_fcos')"
   ]
  },
  {
   "cell_type": "code",
   "execution_count": 2,
   "metadata": {},
   "outputs": [
    {
     "name": "stdout",
     "output_type": "stream",
     "text": [
      "TensorFlow: 2.1.0-rc0\n",
      "Executing eagerly: True\n"
     ]
    }
   ],
   "source": [
    "import numpy as np\n",
    "import os\n",
    "import tensorflow as tf\n",
    "from tensorflow.keras.initializers import RandomNormal, Constant\n",
    "from tensorflow.keras.layers import (Input,\n",
    "                                     Reshape,\n",
    "                                     ReLU,\n",
    "                                     Add)\n",
    "from models.blocks import conv_block, upsample_like\n",
    "from models.custom_layers import Scale\n",
    "from data.bdd_dataset.dataset import dataset_fn\n",
    "from data.encode import all_centers\n",
    "from pprint import pprint\n",
    "from tqdm.notebook import tqdm\n",
    "from models.fcos.losses import focal_loss, centerness_loss, iou_loss\n",
    "\n",
    "\n",
    "print('TensorFlow:', tf.__version__)\n",
    "print('Executing eagerly:', tf.executing_eagerly())"
   ]
  },
  {
   "cell_type": "code",
   "execution_count": 3,
   "metadata": {},
   "outputs": [],
   "source": [
    "os.environ['TF_XLA_FLAGS'] = '--tf_xla_cpu_global_jit'\n",
    "tf.config.optimizer.set_jit(True)"
   ]
  },
  {
   "cell_type": "code",
   "execution_count": 4,
   "metadata": {},
   "outputs": [],
   "source": [
    "class FCOS:\n",
    "    def __init__(self, config):\n",
    "        self._validate_config(config)\n",
    "        for attr in config:\n",
    "            setattr(self, attr, config[attr])\n",
    "        self._build_fpn()\n",
    "        self._build_model()\n",
    "        self._build_datasets()\n",
    "        self._build_optimizer()\n",
    "\n",
    "    def _validate_config(self, config):\n",
    "        attr_list = [\n",
    "            'mode',\n",
    "            'distribute_strategy',\n",
    "            'image_height',\n",
    "            'image_width',\n",
    "            'num_classes',\n",
    "            'data_dir',\n",
    "            'dataset_fn',\n",
    "            'batch_size',\n",
    "            'epochs',\n",
    "            'learning_rate',\n",
    "            'model_dir',\n",
    "            'tensorboard_log_dir',\n",
    "            'restore_parameters'\n",
    "        ]\n",
    "        for attr in attr_list:\n",
    "            assert attr in config, 'Missing {} in config'.format(attr)\n",
    "        pprint('****Initializing FCOS with the following config')\n",
    "        pprint(config)\n",
    "\n",
    "    def _build_fpn(self):\n",
    "        '''\n",
    "            From the FPN paper, \"To start the iteration, we simply attach a\n",
    "            1×1 convolutional layer on C5 to produce the coarsest resolution\n",
    "            map. Finally, we append a 3×3 convolution on each merged map to\n",
    "            generate the final feature map, which is to reduce the aliasing\n",
    "            effect of upsampling. This final set of feature maps is called\n",
    "            {P2, P3, P4, P5}, corresponding to {C2, C3, C4, C5} that are\n",
    "            respectively of the same spatial sizes\".\n",
    "            From the FCOS paper, \"P6 and P7 are produced by applying one\n",
    "            convolutional layer with the stride being 2 on P5 and P6,\n",
    "            respectively\".\n",
    "        '''\n",
    "        with self.distribute_strategy.scope():\n",
    "            pprint('****Building FPN')\n",
    "            self._backbone = tf.keras.applications.ResNet50V2(\n",
    "                input_shape=[self.image_height, self.image_width, 3],\n",
    "                weights='imagenet',\n",
    "                include_top=False)\n",
    "            C5 = self._backbone.get_layer('post_relu').output\n",
    "            C4 = self._backbone.get_layer('conv4_block6_1_relu').output\n",
    "            C3 = self._backbone.get_layer('conv3_block4_1_relu').output\n",
    "\n",
    "            M5 = conv_block(C5, 256, 1, bn_act=False, name_prefix='C5')\n",
    "            P5 = conv_block(M5, 256, 3, bn_act=False, name_prefix='P5')\n",
    "            M5_upsampled = upsample_like(M5, C4, name='M5_upsampled')\n",
    "\n",
    "            M4 = conv_block(C4, 256, 1, bn_act=False, name_prefix='C4')\n",
    "            M4 = tf.keras.layers.Add(name='M4_M5_add')([M4, M5_upsampled])\n",
    "            P4 = conv_block(M4, 256, 3, bn_act=False, name_prefix='P4')\n",
    "            M4_upsampled = upsample_like(M4, C3, name='M4_upsampled')\n",
    "\n",
    "            M3 = conv_block(C3, 256, 1, bn_act=False, name_prefix='C3')\n",
    "            P3 = Add(name='M3_M4_add')([M3, M4_upsampled])\n",
    "            P3 = conv_block(P3, 256, 3, bn_act=False, name_prefix='P3')\n",
    "\n",
    "            P6 = conv_block(P5, 256, 3, 2, bn_act=False, name_prefix='P6')\n",
    "            P6_relu = ReLU(name='P6_relu')(P6)\n",
    "            P7 = conv_block(P6_relu, 256, 3, 2, bn_act=False, name_prefix='P7')\n",
    "\n",
    "            self._pyramid_features = {\n",
    "                'P3': P3,\n",
    "                'P4': P4,\n",
    "                'P5': P5,\n",
    "                'P6': P6,\n",
    "                'P7': P7\n",
    "            }\n",
    "\n",
    "    def _get_classification_head(self, p=0.01):\n",
    "        kernel_init = RandomNormal(0.0, 0.01)\n",
    "        bias_init = Constant(-np.log((1 - p) / p))\n",
    "\n",
    "        input_layer = Input(shape=[None, None, 256])\n",
    "        x = input_layer\n",
    "\n",
    "        for i in range(4):\n",
    "            x = conv_block(x, 256, 3, kernel_init=kernel_init,\n",
    "                           bn_act=False, name_prefix='c_head_{}'.format(i))\n",
    "        classification_logits = conv_block(x, self.num_classes,\n",
    "                                           3, kernel_init=kernel_init,\n",
    "                                           bias_init=bias_init, bn_act=False,\n",
    "                                           name_prefix='cls_logits')\n",
    "        centerness_logits = conv_block(x, 1, 3,\n",
    "                                       kernel_init=kernel_init, bn_act=False,\n",
    "                                       name_prefix='ctr_logits')\n",
    "        classification_logits = Reshape(\n",
    "            target_shape=[-1, self.num_classes])(classification_logits)\n",
    "        centerness_logits = Reshape(target_shape=[-1, 1])(centerness_logits)\n",
    "\n",
    "        outputs = [classification_logits, centerness_logits]\n",
    "        return tf.keras.Model(inputs=[input_layer],\n",
    "                              outputs=[outputs],\n",
    "                              name='classification_head')\n",
    "\n",
    "    def _get_regression_head(self):\n",
    "        kernel_init = RandomNormal(0.0, 0.01)\n",
    "        input_layer = Input(shape=[None, None, 256])\n",
    "        x = input_layer\n",
    "\n",
    "        for i in range(4):\n",
    "            x = conv_block(x, 256, 3, kernel_init=kernel_init,\n",
    "                           bn_act=False, name_prefix='r_head_{}'.format(i))\n",
    "        regression_logits = conv_block(x, 4, 3, kernel_init=kernel_init,\n",
    "                                       bn_act=False, name_prefix='reg_logits')\n",
    "        regression_logits = Reshape(target_shape=[-1, 4])(regression_logits)\n",
    "        return tf.keras.Model(inputs=[input_layer],\n",
    "                              outputs=[regression_logits],\n",
    "                              name='regression_head')\n",
    "\n",
    "    def _build_model(self):\n",
    "        with self.distribute_strategy.scope():\n",
    "            pprint('****Building FCOS')\n",
    "            self._classification_head = self._get_classification_head()\n",
    "            self._regression_head = self._get_regression_head()\n",
    "\n",
    "            _classification_logits = []\n",
    "            _centerness_logits = []\n",
    "            _regression_logits = []\n",
    "\n",
    "            for i in range(3, 8):\n",
    "                feature = self._pyramid_features['P{}'.format(i)]\n",
    "                _cls_head_logits = self._classification_head(feature)\n",
    "                _reg_head_logits = self._regression_head(feature)\n",
    "                _reg_head_logits = \\\n",
    "                    Scale(init_value=1.0,\n",
    "                          name='P{}_reg_outputs'.format(i))(_reg_head_logits)\n",
    "\n",
    "                _classification_logits.append(_cls_head_logits[0][0])\n",
    "                _centerness_logits.append(_cls_head_logits[0][1])\n",
    "                _regression_logits.append(_reg_head_logits)\n",
    "\n",
    "            _image_input = self._backbone.input\n",
    "            outputs = [_classification_logits,\n",
    "                       _centerness_logits,\n",
    "                       _regression_logits\n",
    "                       ]\n",
    "            self.model = tf.keras.Model(\n",
    "                inputs=[_image_input], outputs=outputs, name='FCOS')\n",
    "\n",
    "    def _build_datasets(self):\n",
    "        pprint('****Building Datasets')\n",
    "        with self.distribute_strategy.scope():\n",
    "            self.train_dataset, self.val_dataset, \\\n",
    "                num_train_images, num_val_images =  \\\n",
    "                self.dataset_fn(self.image_height,\n",
    "                                self.image_width,\n",
    "                                self.data_dir,\n",
    "                                self.batch_size)\n",
    "            self.train_dataset = \\\n",
    "                self.distribute_strategy.experimental_distribute_dataset(\n",
    "                    self.train_dataset)\n",
    "            self.val_dataset = \\\n",
    "                self.distribute_strategy.experimental_distribute_dataset(\n",
    "                    self.val_dataset)\n",
    "\n",
    "            self.training_steps = num_train_images // self.batch_size\n",
    "            self.val_steps = num_val_images // self.batch_size\n",
    "        self._centers = tf.concat(all_centers[3:], axis=0)\n",
    "\n",
    "    def _build_optimizer(self):\n",
    "        pprint('****Setting Up Optimizer')\n",
    "        self.optimizer = tf.keras.optimizers.Adam(lr=self.learning_rate,\n",
    "                                                  clipnorm=0.0001)\n",
    "\n",
    "    def _initialize_metrics(self):\n",
    "        with self.distribute_strategy.scope():\n",
    "            pass\n",
    "\n",
    "    def restore_checkpoint(self, checkpoint_path):\n",
    "        self.checkpoint.restore(checkpoint_path)\n",
    "\n",
    "    def _create_checkpoint_manager(self):\n",
    "        with self.distribute_strategy.scope():\n",
    "            self.checkpoint = tf.train.Checkpoint(model=self.model,\n",
    "                                                  optimizer=self.optimizer)\n",
    "            if self.restore_parameters:\n",
    "                pprint('****Restoring Parameters')\n",
    "                pprint('****Restored Parameters')\n",
    "                self.restore_status = self.checkpoint.restore(\n",
    "                    self.latest_checkpoint)\n",
    "\n",
    "    def _create_summary_writer(self):\n",
    "        self.summary_writer = tf.summary.create_file_writer(\n",
    "            logdir=self.tensorboard_log_dir)\n",
    "\n",
    "    def _write_summaries(self, metrics):\n",
    "        pprint('****Writing Summaries')\n",
    "\n",
    "    def write_checkpoint(self):\n",
    "        with self.distribute_strategy.scope():\n",
    "            self.checkpoint.save(os.path.join(self.model_dir,\n",
    "                                              self.checkpoint_prefix))\n",
    "\n",
    "    def _update_metrics(self, metrics):\n",
    "        pass\n",
    "\n",
    "    def _reset_metrics(self):\n",
    "        for metric in self.metrics:\n",
    "            metric.reset_states()\n",
    "\n",
    "    def _log_metrics(self):\n",
    "        metrics_dict = {\n",
    "            'epoch': self.epoch,\n",
    "            'batch': self.iterations,\n",
    "        }\n",
    "        for metric in self.metrics:\n",
    "            metrics_dict.update({metric.name: np.round(metric.result(), 3)})\n",
    "        pprint(metrics_dict)\n",
    "\n",
    "    def _compute_loss(self, targets, outputs):\n",
    "        cls_outputs = outputs[:5]\n",
    "        ctr_outputs = outputs[5:10]\n",
    "        reg_outputs = outputs[10:]\n",
    "\n",
    "    def train(self):\n",
    "        # TODO\n",
    "        #   a) compute centers\n",
    "        #   b) Run custom training loop\n",
    "        #   c) Calculate loss separately for each feature level\n",
    "        assert self.mode == 'train', 'Cannot train in inference mode'\n",
    "        pprint('****Starting Training Loop')\n",
    "\n",
    "        @tf.function\n",
    "        def _train_step(images, targets):\n",
    "            with tf.GradientTape() as tape:\n",
    "                outputs = self.model(images, training=True)\n",
    "                cls_loss, ctr_loss, reg_losss = \\\n",
    "                    self._compute_loss(targets, outputs)\n",
    "                loss = cls_loss + ctr_loss + reg_losss\n",
    "            gradients =  \\\n",
    "                tape.gradient(loss, self.model.trainable_variables)\n",
    "            self.optimizer.apply_gradients(zip(gradients,\n",
    "                                               self.model.trainable_variables))\n",
    "\n",
    "        @tf.function\n",
    "        def _distributed_train_step(images, targets):\n",
    "            per_replica_metrics = \\\n",
    "                self.distribute_strategy.experimental_run_v2(fn=_train_step,\n",
    "                                                             args=(images,\n",
    "                                                                   targets))\n",
    "            reduced_metrics = \\\n",
    "                self.distribute_strategy.reduce(tf.distribute.ReduceOp.SUM,\n",
    "                                                per_replica_metrics, axis=0)\n",
    "            return reduced_metrics\n",
    "\n",
    "        @tf.function\n",
    "        def _train():\n",
    "            with self.distribute_strategy.scope():\n",
    "                self.epoch = 0\n",
    "                for _ in range(self.epochs):\n",
    "                    self.iterations = 0\n",
    "                    for images, targets in self.dataset:\n",
    "                        metrics = _distributed_train_step(images, targets)\n",
    "                        self.update_metrics(metrics)\n",
    "                        self.log_metrics()\n",
    "                        self.iterations += 1\n",
    "                    self.write_summaries(metrics)\n",
    "                    self.reset_metrics()\n",
    "                    self.write_checkpoint()\n",
    "                    self.epoch += 1\n",
    "        return _train()"
   ]
  },
  {
   "cell_type": "code",
   "execution_count": 5,
   "metadata": {},
   "outputs": [
    {
     "name": "stdout",
     "output_type": "stream",
     "text": [
      "INFO:tensorflow:Using MirroredStrategy with devices ('/job:localhost/replica:0/task:0/device:GPU:0', '/job:localhost/replica:0/task:0/device:GPU:1')\n"
     ]
    }
   ],
   "source": [
    "strategy = tf.distribute.MirroredStrategy(devices=['/gpu:0', '/gpu:1'])\n",
    "data_dir = os.environ['HOME'] + '/datasets/BDD100k'\n",
    "\n",
    "config = {\n",
    "    'mode': 'train',\n",
    "    'distribute_strategy': strategy,\n",
    "    'image_height': 720,\n",
    "    'image_width': 1280,\n",
    "    'num_classes': 10,\n",
    "    'dataset_fn': dataset_fn,\n",
    "    'data_dir': data_dir,\n",
    "    'batch_size': 16,\n",
    "    'epochs': 50,\n",
    "    'learning_rate': 1e-4,\n",
    "    'model_dir': './model_files',\n",
    "    'tensorboard_log_dir': './logs',\n",
    "    'restore_parameters': False\n",
    "}"
   ]
  },
  {
   "cell_type": "code",
   "execution_count": 6,
   "metadata": {},
   "outputs": [
    {
     "name": "stdout",
     "output_type": "stream",
     "text": [
      "'****Initializing FCOS with the following config'\n",
      "{'batch_size': 16,\n",
      " 'data_dir': '/home/antpc/datasets/BDD100k',\n",
      " 'dataset_fn': <function dataset_fn at 0x7fcccab00f28>,\n",
      " 'distribute_strategy': <tensorflow.python.distribute.mirrored_strategy.MirroredStrategy object at 0x7fcdd0887b38>,\n",
      " 'epochs': 50,\n",
      " 'image_height': 720,\n",
      " 'image_width': 1280,\n",
      " 'learning_rate': 0.0001,\n",
      " 'mode': 'train',\n",
      " 'model_dir': './model_files',\n",
      " 'num_classes': 10,\n",
      " 'restore_parameters': False,\n",
      " 'tensorboard_log_dir': './logs'}\n",
      "'****Building FPN'\n",
      "INFO:tensorflow:Reduce to /job:localhost/replica:0/task:0/device:CPU:0 then broadcast to ('/job:localhost/replica:0/task:0/device:CPU:0',).\n",
      "INFO:tensorflow:Reduce to /job:localhost/replica:0/task:0/device:CPU:0 then broadcast to ('/job:localhost/replica:0/task:0/device:CPU:0',).\n",
      "INFO:tensorflow:Reduce to /job:localhost/replica:0/task:0/device:CPU:0 then broadcast to ('/job:localhost/replica:0/task:0/device:CPU:0',).\n",
      "INFO:tensorflow:Reduce to /job:localhost/replica:0/task:0/device:CPU:0 then broadcast to ('/job:localhost/replica:0/task:0/device:CPU:0',).\n",
      "INFO:tensorflow:Reduce to /job:localhost/replica:0/task:0/device:CPU:0 then broadcast to ('/job:localhost/replica:0/task:0/device:CPU:0',).\n",
      "INFO:tensorflow:Reduce to /job:localhost/replica:0/task:0/device:CPU:0 then broadcast to ('/job:localhost/replica:0/task:0/device:CPU:0',).\n",
      "INFO:tensorflow:Reduce to /job:localhost/replica:0/task:0/device:CPU:0 then broadcast to ('/job:localhost/replica:0/task:0/device:CPU:0',).\n",
      "INFO:tensorflow:Reduce to /job:localhost/replica:0/task:0/device:CPU:0 then broadcast to ('/job:localhost/replica:0/task:0/device:CPU:0',).\n",
      "INFO:tensorflow:Reduce to /job:localhost/replica:0/task:0/device:CPU:0 then broadcast to ('/job:localhost/replica:0/task:0/device:CPU:0',).\n",
      "INFO:tensorflow:Reduce to /job:localhost/replica:0/task:0/device:CPU:0 then broadcast to ('/job:localhost/replica:0/task:0/device:CPU:0',).\n",
      "'****Building FCOS'\n",
      "'****Building Datasets'\n",
      "'****Setting Up Optimizer'\n"
     ]
    }
   ],
   "source": [
    "fcos = FCOS(config)"
   ]
  },
  {
   "cell_type": "code",
   "execution_count": null,
   "metadata": {},
   "outputs": [],
   "source": [
    "def update_state(self, value):\n",
    "    self.state.append(value)\n",
    "    self.metric_value = np.mean(self.state)"
   ]
  },
  {
   "cell_type": "code",
   "execution_count": null,
   "metadata": {},
   "outputs": [],
   "source": []
  }
 ],
 "metadata": {
  "kernelspec": {
   "display_name": "Python 3",
   "language": "python",
   "name": "python3"
  },
  "language_info": {
   "codemirror_mode": {
    "name": "ipython",
    "version": 3
   },
   "file_extension": ".py",
   "mimetype": "text/x-python",
   "name": "python",
   "nbconvert_exporter": "python",
   "pygments_lexer": "ipython3",
   "version": "3.6.8"
  },
  "widgets": {
   "application/vnd.jupyter.widget-state+json": {
    "state": {
     "00196660df8945cca62d7711adb73a81": {
      "model_module": "@jupyter-widgets/base",
      "model_module_version": "1.2.0",
      "model_name": "LayoutModel",
      "state": {}
     },
     "02ba218780c74e30846b6ba0ab1867ed": {
      "model_module": "@jupyter-widgets/controls",
      "model_module_version": "1.5.0",
      "model_name": "HTMLModel",
      "state": {
       "layout": "IPY_MODEL_4af2e3dc11894a46b863c08e35ec5ec0",
       "style": "IPY_MODEL_24d9323f16594522921287f13639a88d",
       "value": " 0/? [00:05&lt;?, ?it/s]"
      }
     },
     "0486b7004ea5488e90ca58f38f97b49b": {
      "model_module": "@jupyter-widgets/controls",
      "model_module_version": "1.5.0",
      "model_name": "HBoxModel",
      "state": {
       "children": [
        "IPY_MODEL_9cbc688bfe5b4eb0a68e6676d23a6be8",
        "IPY_MODEL_958f619db090413f9b7b7f5937fd9d22"
       ],
       "layout": "IPY_MODEL_293d8b4cd74247ffbccf487d2c2d3e33"
      }
     },
     "0497298bb5454310a86500d314dead14": {
      "model_module": "@jupyter-widgets/controls",
      "model_module_version": "1.5.0",
      "model_name": "DescriptionStyleModel",
      "state": {
       "description_width": ""
      }
     },
     "06797be7d27b46219f722ec811dd273b": {
      "model_module": "@jupyter-widgets/controls",
      "model_module_version": "1.5.0",
      "model_name": "IntProgressModel",
      "state": {
       "bar_style": "danger",
       "layout": "IPY_MODEL_00196660df8945cca62d7711adb73a81",
       "max": 1,
       "style": "IPY_MODEL_d382751019034a6d84d67b394b0aa188"
      }
     },
     "0a683da161e94b5ca8c802327ef0783c": {
      "model_module": "@jupyter-widgets/base",
      "model_module_version": "1.2.0",
      "model_name": "LayoutModel",
      "state": {}
     },
     "0f38d08383ad463eb7f2bb9a54196275": {
      "model_module": "@jupyter-widgets/base",
      "model_module_version": "1.2.0",
      "model_name": "LayoutModel",
      "state": {}
     },
     "12b5f89adf6e45bebdc415322c6abb5c": {
      "model_module": "@jupyter-widgets/base",
      "model_module_version": "1.2.0",
      "model_name": "LayoutModel",
      "state": {}
     },
     "138b903b01a14fe6b55cd42f5136081e": {
      "model_module": "@jupyter-widgets/controls",
      "model_module_version": "1.5.0",
      "model_name": "ProgressStyleModel",
      "state": {
       "description_width": "initial"
      }
     },
     "16748172a80d44eba3452d62f5983a67": {
      "model_module": "@jupyter-widgets/controls",
      "model_module_version": "1.5.0",
      "model_name": "ProgressStyleModel",
      "state": {
       "description_width": "initial"
      }
     },
     "18b9021ab0af4ebdba33dbfb8664f2cc": {
      "model_module": "@jupyter-widgets/controls",
      "model_module_version": "1.5.0",
      "model_name": "HBoxModel",
      "state": {
       "children": [
        "IPY_MODEL_a07fc1231cd44799b644817cb6c93655",
        "IPY_MODEL_5765f8858b3e4c05bd48292a0ccca9eb"
       ],
       "layout": "IPY_MODEL_4b3498526a0e41b9a01afd4f530c8fd3"
      }
     },
     "1a55d8601b17458aa1246ad043a7191d": {
      "model_module": "@jupyter-widgets/base",
      "model_module_version": "1.2.0",
      "model_name": "LayoutModel",
      "state": {}
     },
     "1b60dd0f3a37489cb3b10ad4d65669a0": {
      "model_module": "@jupyter-widgets/controls",
      "model_module_version": "1.5.0",
      "model_name": "DescriptionStyleModel",
      "state": {
       "description_width": ""
      }
     },
     "1ea973fccbaa4fb6baa7a28a5273d6b1": {
      "model_module": "@jupyter-widgets/base",
      "model_module_version": "1.2.0",
      "model_name": "LayoutModel",
      "state": {}
     },
     "1eff89c59af445e2af3e20f87a91f2c0": {
      "model_module": "@jupyter-widgets/controls",
      "model_module_version": "1.5.0",
      "model_name": "IntProgressModel",
      "state": {
       "bar_style": "danger",
       "layout": "IPY_MODEL_e6740b163cb0440187689b5b3ce04ef9",
       "max": 1,
       "style": "IPY_MODEL_71d8ec8ba3514e3f9a7011bdf85d2ab3"
      }
     },
     "2211c32b7e5545bf93e47382aab29fe8": {
      "model_module": "@jupyter-widgets/controls",
      "model_module_version": "1.5.0",
      "model_name": "DescriptionStyleModel",
      "state": {
       "description_width": ""
      }
     },
     "241535439d5840509063a5608253d085": {
      "model_module": "@jupyter-widgets/controls",
      "model_module_version": "1.5.0",
      "model_name": "IntProgressModel",
      "state": {
       "bar_style": "danger",
       "layout": "IPY_MODEL_5f1a900837224d08b14f252508cafb77",
       "max": 1,
       "style": "IPY_MODEL_978212eee9a84c5e912f2272e17b4ac0"
      }
     },
     "24d9323f16594522921287f13639a88d": {
      "model_module": "@jupyter-widgets/controls",
      "model_module_version": "1.5.0",
      "model_name": "DescriptionStyleModel",
      "state": {
       "description_width": ""
      }
     },
     "27d0d95ba18441c5953f660727668c27": {
      "model_module": "@jupyter-widgets/controls",
      "model_module_version": "1.5.0",
      "model_name": "HTMLModel",
      "state": {
       "layout": "IPY_MODEL_c4b393310c3f4d289dc0f7365d8b6ff4",
       "style": "IPY_MODEL_e3c9ababecde4a5e94f7e96811bd4039",
       "value": " 0/? [00:09&lt;?, ?it/s]"
      }
     },
     "2848f95c26a244d3aab661ed757e7887": {
      "model_module": "@jupyter-widgets/controls",
      "model_module_version": "1.5.0",
      "model_name": "ProgressStyleModel",
      "state": {
       "description_width": "initial"
      }
     },
     "293d8b4cd74247ffbccf487d2c2d3e33": {
      "model_module": "@jupyter-widgets/base",
      "model_module_version": "1.2.0",
      "model_name": "LayoutModel",
      "state": {}
     },
     "2952acbd66784923bec5dd7646b9297b": {
      "model_module": "@jupyter-widgets/base",
      "model_module_version": "1.2.0",
      "model_name": "LayoutModel",
      "state": {}
     },
     "2987b1028d8c4f0fb890ff4c574024e4": {
      "model_module": "@jupyter-widgets/controls",
      "model_module_version": "1.5.0",
      "model_name": "HBoxModel",
      "state": {
       "children": [
        "IPY_MODEL_241535439d5840509063a5608253d085",
        "IPY_MODEL_5fbbaa99fd6c470380fbccd13214c731"
       ],
       "layout": "IPY_MODEL_b67fde75532444c289fc587598bee632"
      }
     },
     "2b8cc5934ec0463ca0fd13f4c3825f1f": {
      "model_module": "@jupyter-widgets/controls",
      "model_module_version": "1.5.0",
      "model_name": "HBoxModel",
      "state": {
       "children": [
        "IPY_MODEL_06797be7d27b46219f722ec811dd273b",
        "IPY_MODEL_5e6a35c6af434b869454534929d2e64f"
       ],
       "layout": "IPY_MODEL_1ea973fccbaa4fb6baa7a28a5273d6b1"
      }
     },
     "32339d739843447fbe76466016de245b": {
      "model_module": "@jupyter-widgets/base",
      "model_module_version": "1.2.0",
      "model_name": "LayoutModel",
      "state": {}
     },
     "326bb866ab8a425e8a1be8aa61187138": {
      "model_module": "@jupyter-widgets/controls",
      "model_module_version": "1.5.0",
      "model_name": "IntProgressModel",
      "state": {
       "bar_style": "danger",
       "layout": "IPY_MODEL_5dc8b9c2579145a7b8ed3167468d8ab2",
       "max": 1,
       "style": "IPY_MODEL_3c1dc2a76f0745638480c64d6b6f7914"
      }
     },
     "362c720406ff49a697aae18f6d48e9f6": {
      "model_module": "@jupyter-widgets/controls",
      "model_module_version": "1.5.0",
      "model_name": "HTMLModel",
      "state": {
       "layout": "IPY_MODEL_5d5244703ce0481db14145f829ecf6f8",
       "style": "IPY_MODEL_2211c32b7e5545bf93e47382aab29fe8",
       "value": " 0/? [00:05&lt;?, ?it/s]"
      }
     },
     "36a8cf818b9a415e93cbd121c0d3b125": {
      "model_module": "@jupyter-widgets/controls",
      "model_module_version": "1.5.0",
      "model_name": "HBoxModel",
      "state": {
       "children": [
        "IPY_MODEL_1eff89c59af445e2af3e20f87a91f2c0",
        "IPY_MODEL_618763410cc04c648f957c29cc5386ca"
       ],
       "layout": "IPY_MODEL_f0d6b01fbe1c4f6e9259827b5475e0af"
      }
     },
     "386aa0ddbb5b49928e32a5d7ada7b135": {
      "model_module": "@jupyter-widgets/controls",
      "model_module_version": "1.5.0",
      "model_name": "IntProgressModel",
      "state": {
       "bar_style": "danger",
       "layout": "IPY_MODEL_cc11baa5a024409bba35b3a937017776",
       "max": 1,
       "style": "IPY_MODEL_d225a168452341d0bbcdd89c1e7b0df1"
      }
     },
     "3c1dc2a76f0745638480c64d6b6f7914": {
      "model_module": "@jupyter-widgets/controls",
      "model_module_version": "1.5.0",
      "model_name": "ProgressStyleModel",
      "state": {
       "description_width": "initial"
      }
     },
     "3ed1c4b771164ace9414e864d0b60a09": {
      "model_module": "@jupyter-widgets/controls",
      "model_module_version": "1.5.0",
      "model_name": "IntProgressModel",
      "state": {
       "bar_style": "danger",
       "layout": "IPY_MODEL_32339d739843447fbe76466016de245b",
       "max": 1,
       "style": "IPY_MODEL_a1220ac636ad4376a506bcf60dc43fa1"
      }
     },
     "44b45b0b79234411837610ed20da5b5d": {
      "model_module": "@jupyter-widgets/base",
      "model_module_version": "1.2.0",
      "model_name": "LayoutModel",
      "state": {}
     },
     "4af2e3dc11894a46b863c08e35ec5ec0": {
      "model_module": "@jupyter-widgets/base",
      "model_module_version": "1.2.0",
      "model_name": "LayoutModel",
      "state": {}
     },
     "4b3498526a0e41b9a01afd4f530c8fd3": {
      "model_module": "@jupyter-widgets/base",
      "model_module_version": "1.2.0",
      "model_name": "LayoutModel",
      "state": {}
     },
     "4bbe33df01e54339a4765dc7333fdd2f": {
      "model_module": "@jupyter-widgets/controls",
      "model_module_version": "1.5.0",
      "model_name": "DescriptionStyleModel",
      "state": {
       "description_width": ""
      }
     },
     "5085ccee92af4801ac7988998b6a60b0": {
      "model_module": "@jupyter-widgets/controls",
      "model_module_version": "1.5.0",
      "model_name": "HTMLModel",
      "state": {
       "layout": "IPY_MODEL_b37bb94d183c4621a1affde0ad53aff3",
       "style": "IPY_MODEL_959ff798d6a6412782b5725092d3a5d5",
       "value": " 0/? [00:01&lt;?, ?it/s]"
      }
     },
     "50b64728780542a7b3c2d7110a27ad9a": {
      "model_module": "@jupyter-widgets/controls",
      "model_module_version": "1.5.0",
      "model_name": "ProgressStyleModel",
      "state": {
       "description_width": "initial"
      }
     },
     "5216d0b4092441b79e59723506cfbd00": {
      "model_module": "@jupyter-widgets/controls",
      "model_module_version": "1.5.0",
      "model_name": "IntProgressModel",
      "state": {
       "bar_style": "danger",
       "layout": "IPY_MODEL_66754a7f9ba2448c8d178a5c722d3525",
       "max": 1,
       "style": "IPY_MODEL_c1fa7b0573594b4dae6528d94c27993a"
      }
     },
     "532bb57c313b41ab8a6c8097247649d9": {
      "model_module": "@jupyter-widgets/controls",
      "model_module_version": "1.5.0",
      "model_name": "DescriptionStyleModel",
      "state": {
       "description_width": ""
      }
     },
     "5765f8858b3e4c05bd48292a0ccca9eb": {
      "model_module": "@jupyter-widgets/controls",
      "model_module_version": "1.5.0",
      "model_name": "HTMLModel",
      "state": {
       "layout": "IPY_MODEL_7f5668d4d1564f8a8e584cc9d65fbf80",
       "style": "IPY_MODEL_871d7b5bdb734c4b88fc87023c5bc777",
       "value": " 0/? [00:08&lt;?, ?it/s]"
      }
     },
     "5adddd18b89743b09759d6aae784802f": {
      "model_module": "@jupyter-widgets/base",
      "model_module_version": "1.2.0",
      "model_name": "LayoutModel",
      "state": {}
     },
     "5d5244703ce0481db14145f829ecf6f8": {
      "model_module": "@jupyter-widgets/base",
      "model_module_version": "1.2.0",
      "model_name": "LayoutModel",
      "state": {}
     },
     "5dc8b9c2579145a7b8ed3167468d8ab2": {
      "model_module": "@jupyter-widgets/base",
      "model_module_version": "1.2.0",
      "model_name": "LayoutModel",
      "state": {}
     },
     "5e6a35c6af434b869454534929d2e64f": {
      "model_module": "@jupyter-widgets/controls",
      "model_module_version": "1.5.0",
      "model_name": "HTMLModel",
      "state": {
       "layout": "IPY_MODEL_b70941d3d25d48c5a37064e6073a4192",
       "style": "IPY_MODEL_f1fe99ad5083463e8ca643c3235c4ac2",
       "value": " 0/? [00:09&lt;?, ?it/s]"
      }
     },
     "5f1a900837224d08b14f252508cafb77": {
      "model_module": "@jupyter-widgets/base",
      "model_module_version": "1.2.0",
      "model_name": "LayoutModel",
      "state": {}
     },
     "5fbbaa99fd6c470380fbccd13214c731": {
      "model_module": "@jupyter-widgets/controls",
      "model_module_version": "1.5.0",
      "model_name": "HTMLModel",
      "state": {
       "layout": "IPY_MODEL_e58735d8f0ba4d33972bbaaa8f840ee2",
       "style": "IPY_MODEL_ff149c42a95e4ccfa1fb39f25ec4c240",
       "value": " 0/? [00:02&lt;?, ?it/s]"
      }
     },
     "618763410cc04c648f957c29cc5386ca": {
      "model_module": "@jupyter-widgets/controls",
      "model_module_version": "1.5.0",
      "model_name": "HTMLModel",
      "state": {
       "layout": "IPY_MODEL_9483253523744ff2a3dfafd0f9f0f11d",
       "style": "IPY_MODEL_1b60dd0f3a37489cb3b10ad4d65669a0",
       "value": " 0/? [00:03&lt;?, ?it/s]"
      }
     },
     "626832cd262b48a898449c008b9413f0": {
      "model_module": "@jupyter-widgets/controls",
      "model_module_version": "1.5.0",
      "model_name": "IntProgressModel",
      "state": {
       "bar_style": "danger",
       "layout": "IPY_MODEL_0f38d08383ad463eb7f2bb9a54196275",
       "max": 1,
       "style": "IPY_MODEL_b44e7acb2e9f4310873cd11033756982"
      }
     },
     "648f5ce7f85146d3b5fd2fa46304437d": {
      "model_module": "@jupyter-widgets/base",
      "model_module_version": "1.2.0",
      "model_name": "LayoutModel",
      "state": {}
     },
     "66754a7f9ba2448c8d178a5c722d3525": {
      "model_module": "@jupyter-widgets/base",
      "model_module_version": "1.2.0",
      "model_name": "LayoutModel",
      "state": {}
     },
     "713d26d34f55483cb51f0dffeaa6f02a": {
      "model_module": "@jupyter-widgets/controls",
      "model_module_version": "1.5.0",
      "model_name": "HTMLModel",
      "state": {
       "layout": "IPY_MODEL_a54922c487494fcb8efde09893c889dd",
       "style": "IPY_MODEL_4bbe33df01e54339a4765dc7333fdd2f",
       "value": " 0/? [00:03&lt;?, ?it/s]"
      }
     },
     "71d8ec8ba3514e3f9a7011bdf85d2ab3": {
      "model_module": "@jupyter-widgets/controls",
      "model_module_version": "1.5.0",
      "model_name": "ProgressStyleModel",
      "state": {
       "description_width": "initial"
      }
     },
     "728346ec08b94e188d99e7ba4e4f2d28": {
      "model_module": "@jupyter-widgets/controls",
      "model_module_version": "1.5.0",
      "model_name": "ProgressStyleModel",
      "state": {
       "description_width": "initial"
      }
     },
     "78444fa21d544790999a3f74cc8d6eb3": {
      "model_module": "@jupyter-widgets/controls",
      "model_module_version": "1.5.0",
      "model_name": "IntProgressModel",
      "state": {
       "bar_style": "danger",
       "layout": "IPY_MODEL_648f5ce7f85146d3b5fd2fa46304437d",
       "max": 1,
       "style": "IPY_MODEL_2848f95c26a244d3aab661ed757e7887"
      }
     },
     "793f681774ee492c8d729a784945779e": {
      "model_module": "@jupyter-widgets/controls",
      "model_module_version": "1.5.0",
      "model_name": "IntProgressModel",
      "state": {
       "bar_style": "danger",
       "layout": "IPY_MODEL_82e0d822f1624c418c29344d6089d9f0",
       "max": 1,
       "style": "IPY_MODEL_16748172a80d44eba3452d62f5983a67"
      }
     },
     "7cec63da0bc04a98bb6e893adc18b357": {
      "model_module": "@jupyter-widgets/controls",
      "model_module_version": "1.5.0",
      "model_name": "HBoxModel",
      "state": {
       "children": [
        "IPY_MODEL_5216d0b4092441b79e59723506cfbd00",
        "IPY_MODEL_809c4e5181534d6ea8cee6c558528391"
       ],
       "layout": "IPY_MODEL_1a55d8601b17458aa1246ad043a7191d"
      }
     },
     "7f5668d4d1564f8a8e584cc9d65fbf80": {
      "model_module": "@jupyter-widgets/base",
      "model_module_version": "1.2.0",
      "model_name": "LayoutModel",
      "state": {}
     },
     "809c4e5181534d6ea8cee6c558528391": {
      "model_module": "@jupyter-widgets/controls",
      "model_module_version": "1.5.0",
      "model_name": "HTMLModel",
      "state": {
       "layout": "IPY_MODEL_0a683da161e94b5ca8c802327ef0783c",
       "style": "IPY_MODEL_532bb57c313b41ab8a6c8097247649d9",
       "value": " 0/? [00:02&lt;?, ?it/s]"
      }
     },
     "82e0d822f1624c418c29344d6089d9f0": {
      "model_module": "@jupyter-widgets/base",
      "model_module_version": "1.2.0",
      "model_name": "LayoutModel",
      "state": {}
     },
     "84992b204f1c494d8ed50fc5967ac812": {
      "model_module": "@jupyter-widgets/controls",
      "model_module_version": "1.5.0",
      "model_name": "HTMLModel",
      "state": {
       "layout": "IPY_MODEL_f328b6f3688847deaea8e2fad16619ac",
       "style": "IPY_MODEL_d5d49ac1df724c9e8d0bf8fa03461fb1",
       "value": " 0/? [00:02&lt;?, ?it/s]"
      }
     },
     "871d7b5bdb734c4b88fc87023c5bc777": {
      "model_module": "@jupyter-widgets/controls",
      "model_module_version": "1.5.0",
      "model_name": "DescriptionStyleModel",
      "state": {
       "description_width": ""
      }
     },
     "8abe876b302348a68b7409c67b41e3b1": {
      "model_module": "@jupyter-widgets/controls",
      "model_module_version": "1.5.0",
      "model_name": "HTMLModel",
      "state": {
       "layout": "IPY_MODEL_92cfff0a506542a9afe717eec5d12b34",
       "style": "IPY_MODEL_dd3d08c7db6343b18d21fb573b0d22e5",
       "value": " 0/? [00:03&lt;?, ?it/s]"
      }
     },
     "92cfff0a506542a9afe717eec5d12b34": {
      "model_module": "@jupyter-widgets/base",
      "model_module_version": "1.2.0",
      "model_name": "LayoutModel",
      "state": {}
     },
     "9329dd8cd4444902a25e14cce990c217": {
      "model_module": "@jupyter-widgets/base",
      "model_module_version": "1.2.0",
      "model_name": "LayoutModel",
      "state": {}
     },
     "94406804bb1b4453ab7c5a84a7bbdc28": {
      "model_module": "@jupyter-widgets/controls",
      "model_module_version": "1.5.0",
      "model_name": "HBoxModel",
      "state": {
       "children": [
        "IPY_MODEL_e82f7d071a2e4dd4a18adc3d71411bf8",
        "IPY_MODEL_84992b204f1c494d8ed50fc5967ac812"
       ],
       "layout": "IPY_MODEL_5adddd18b89743b09759d6aae784802f"
      }
     },
     "9483253523744ff2a3dfafd0f9f0f11d": {
      "model_module": "@jupyter-widgets/base",
      "model_module_version": "1.2.0",
      "model_name": "LayoutModel",
      "state": {}
     },
     "958f619db090413f9b7b7f5937fd9d22": {
      "model_module": "@jupyter-widgets/controls",
      "model_module_version": "1.5.0",
      "model_name": "HTMLModel",
      "state": {
       "layout": "IPY_MODEL_ee48f87ee773435d8342f186e12162c9",
       "style": "IPY_MODEL_0497298bb5454310a86500d314dead14",
       "value": " 0/? [00:12&lt;?, ?it/s]"
      }
     },
     "959ff798d6a6412782b5725092d3a5d5": {
      "model_module": "@jupyter-widgets/controls",
      "model_module_version": "1.5.0",
      "model_name": "DescriptionStyleModel",
      "state": {
       "description_width": ""
      }
     },
     "978212eee9a84c5e912f2272e17b4ac0": {
      "model_module": "@jupyter-widgets/controls",
      "model_module_version": "1.5.0",
      "model_name": "ProgressStyleModel",
      "state": {
       "description_width": "initial"
      }
     },
     "9af0433048eb47fe9f187e50cae54239": {
      "model_module": "@jupyter-widgets/base",
      "model_module_version": "1.2.0",
      "model_name": "LayoutModel",
      "state": {}
     },
     "9cbc688bfe5b4eb0a68e6676d23a6be8": {
      "model_module": "@jupyter-widgets/controls",
      "model_module_version": "1.5.0",
      "model_name": "IntProgressModel",
      "state": {
       "bar_style": "danger",
       "layout": "IPY_MODEL_ea2aacda4ced4c7087e6802a172768ac",
       "max": 1,
       "style": "IPY_MODEL_50b64728780542a7b3c2d7110a27ad9a"
      }
     },
     "9d718cf6c35b4643a9b7f203131f063d": {
      "model_module": "@jupyter-widgets/controls",
      "model_module_version": "1.5.0",
      "model_name": "HBoxModel",
      "state": {
       "children": [
        "IPY_MODEL_793f681774ee492c8d729a784945779e",
        "IPY_MODEL_8abe876b302348a68b7409c67b41e3b1"
       ],
       "layout": "IPY_MODEL_44b45b0b79234411837610ed20da5b5d"
      }
     },
     "a07fc1231cd44799b644817cb6c93655": {
      "model_module": "@jupyter-widgets/controls",
      "model_module_version": "1.5.0",
      "model_name": "IntProgressModel",
      "state": {
       "bar_style": "danger",
       "layout": "IPY_MODEL_12b5f89adf6e45bebdc415322c6abb5c",
       "max": 1,
       "style": "IPY_MODEL_138b903b01a14fe6b55cd42f5136081e"
      }
     },
     "a1220ac636ad4376a506bcf60dc43fa1": {
      "model_module": "@jupyter-widgets/controls",
      "model_module_version": "1.5.0",
      "model_name": "ProgressStyleModel",
      "state": {
       "description_width": "initial"
      }
     },
     "a54922c487494fcb8efde09893c889dd": {
      "model_module": "@jupyter-widgets/base",
      "model_module_version": "1.2.0",
      "model_name": "LayoutModel",
      "state": {}
     },
     "b09d04ada9174fa9b38b2ede32e00b08": {
      "model_module": "@jupyter-widgets/controls",
      "model_module_version": "1.5.0",
      "model_name": "IntProgressModel",
      "state": {
       "bar_style": "danger",
       "layout": "IPY_MODEL_2952acbd66784923bec5dd7646b9297b",
       "max": 1,
       "style": "IPY_MODEL_728346ec08b94e188d99e7ba4e4f2d28"
      }
     },
     "b37bb94d183c4621a1affde0ad53aff3": {
      "model_module": "@jupyter-widgets/base",
      "model_module_version": "1.2.0",
      "model_name": "LayoutModel",
      "state": {}
     },
     "b3edf156a0f84b93bbf20c6f29cb5298": {
      "model_module": "@jupyter-widgets/controls",
      "model_module_version": "1.5.0",
      "model_name": "HBoxModel",
      "state": {
       "children": [
        "IPY_MODEL_3ed1c4b771164ace9414e864d0b60a09",
        "IPY_MODEL_362c720406ff49a697aae18f6d48e9f6"
       ],
       "layout": "IPY_MODEL_c1e828a3aec64bc9ba666de795af2f3d"
      }
     },
     "b44e7acb2e9f4310873cd11033756982": {
      "model_module": "@jupyter-widgets/controls",
      "model_module_version": "1.5.0",
      "model_name": "ProgressStyleModel",
      "state": {
       "description_width": "initial"
      }
     },
     "b67fde75532444c289fc587598bee632": {
      "model_module": "@jupyter-widgets/base",
      "model_module_version": "1.2.0",
      "model_name": "LayoutModel",
      "state": {}
     },
     "b70941d3d25d48c5a37064e6073a4192": {
      "model_module": "@jupyter-widgets/base",
      "model_module_version": "1.2.0",
      "model_name": "LayoutModel",
      "state": {}
     },
     "bb7a0076da2b484e8066f216c58d9149": {
      "model_module": "@jupyter-widgets/base",
      "model_module_version": "1.2.0",
      "model_name": "LayoutModel",
      "state": {}
     },
     "c1e828a3aec64bc9ba666de795af2f3d": {
      "model_module": "@jupyter-widgets/base",
      "model_module_version": "1.2.0",
      "model_name": "LayoutModel",
      "state": {}
     },
     "c1fa7b0573594b4dae6528d94c27993a": {
      "model_module": "@jupyter-widgets/controls",
      "model_module_version": "1.5.0",
      "model_name": "ProgressStyleModel",
      "state": {
       "description_width": "initial"
      }
     },
     "c4b393310c3f4d289dc0f7365d8b6ff4": {
      "model_module": "@jupyter-widgets/base",
      "model_module_version": "1.2.0",
      "model_name": "LayoutModel",
      "state": {}
     },
     "c9cf2ea3e70349448cfbd4f58a564ddc": {
      "model_module": "@jupyter-widgets/controls",
      "model_module_version": "1.5.0",
      "model_name": "HBoxModel",
      "state": {
       "children": [
        "IPY_MODEL_626832cd262b48a898449c008b9413f0",
        "IPY_MODEL_713d26d34f55483cb51f0dffeaa6f02a"
       ],
       "layout": "IPY_MODEL_d02003e0a66b4f2195d89cc54181311a"
      }
     },
     "cac1b891ed084d12a89ede42a7fbbcac": {
      "model_module": "@jupyter-widgets/base",
      "model_module_version": "1.2.0",
      "model_name": "LayoutModel",
      "state": {}
     },
     "cc11baa5a024409bba35b3a937017776": {
      "model_module": "@jupyter-widgets/base",
      "model_module_version": "1.2.0",
      "model_name": "LayoutModel",
      "state": {}
     },
     "ce0aaaa08a074f3bb330cee5e1830592": {
      "model_module": "@jupyter-widgets/controls",
      "model_module_version": "1.5.0",
      "model_name": "ProgressStyleModel",
      "state": {
       "description_width": "initial"
      }
     },
     "d02003e0a66b4f2195d89cc54181311a": {
      "model_module": "@jupyter-widgets/base",
      "model_module_version": "1.2.0",
      "model_name": "LayoutModel",
      "state": {}
     },
     "d1d964b449bb4cadbb33b84cd21b3329": {
      "model_module": "@jupyter-widgets/controls",
      "model_module_version": "1.5.0",
      "model_name": "HBoxModel",
      "state": {
       "children": [
        "IPY_MODEL_b09d04ada9174fa9b38b2ede32e00b08",
        "IPY_MODEL_27d0d95ba18441c5953f660727668c27"
       ],
       "layout": "IPY_MODEL_cac1b891ed084d12a89ede42a7fbbcac"
      }
     },
     "d225a168452341d0bbcdd89c1e7b0df1": {
      "model_module": "@jupyter-widgets/controls",
      "model_module_version": "1.5.0",
      "model_name": "ProgressStyleModel",
      "state": {
       "description_width": "initial"
      }
     },
     "d382751019034a6d84d67b394b0aa188": {
      "model_module": "@jupyter-widgets/controls",
      "model_module_version": "1.5.0",
      "model_name": "ProgressStyleModel",
      "state": {
       "description_width": "initial"
      }
     },
     "d5d49ac1df724c9e8d0bf8fa03461fb1": {
      "model_module": "@jupyter-widgets/controls",
      "model_module_version": "1.5.0",
      "model_name": "DescriptionStyleModel",
      "state": {
       "description_width": ""
      }
     },
     "d8df6bcc6d5f4993a4f703137fa554e4": {
      "model_module": "@jupyter-widgets/base",
      "model_module_version": "1.2.0",
      "model_name": "LayoutModel",
      "state": {}
     },
     "db253c54646e4771a6a4f6afa8d6ea7b": {
      "model_module": "@jupyter-widgets/base",
      "model_module_version": "1.2.0",
      "model_name": "LayoutModel",
      "state": {}
     },
     "dd13227bd8fb4929a6ea8a5dec271ede": {
      "model_module": "@jupyter-widgets/controls",
      "model_module_version": "1.5.0",
      "model_name": "HBoxModel",
      "state": {
       "children": [
        "IPY_MODEL_386aa0ddbb5b49928e32a5d7ada7b135",
        "IPY_MODEL_02ba218780c74e30846b6ba0ab1867ed"
       ],
       "layout": "IPY_MODEL_9af0433048eb47fe9f187e50cae54239"
      }
     },
     "dd3d08c7db6343b18d21fb573b0d22e5": {
      "model_module": "@jupyter-widgets/controls",
      "model_module_version": "1.5.0",
      "model_name": "DescriptionStyleModel",
      "state": {
       "description_width": ""
      }
     },
     "e133bc1acea94de690d3094e18007813": {
      "model_module": "@jupyter-widgets/controls",
      "model_module_version": "1.5.0",
      "model_name": "HBoxModel",
      "state": {
       "children": [
        "IPY_MODEL_326bb866ab8a425e8a1be8aa61187138",
        "IPY_MODEL_5085ccee92af4801ac7988998b6a60b0"
       ],
       "layout": "IPY_MODEL_d8df6bcc6d5f4993a4f703137fa554e4"
      }
     },
     "e3c9ababecde4a5e94f7e96811bd4039": {
      "model_module": "@jupyter-widgets/controls",
      "model_module_version": "1.5.0",
      "model_name": "DescriptionStyleModel",
      "state": {
       "description_width": ""
      }
     },
     "e4af32210ad344149f59c91fd2f6c997": {
      "model_module": "@jupyter-widgets/controls",
      "model_module_version": "1.5.0",
      "model_name": "HTMLModel",
      "state": {
       "layout": "IPY_MODEL_bb7a0076da2b484e8066f216c58d9149",
       "style": "IPY_MODEL_eac37784a7a947858e2477a69ef1a128",
       "value": " 0/? [00:01&lt;?, ?it/s]"
      }
     },
     "e58735d8f0ba4d33972bbaaa8f840ee2": {
      "model_module": "@jupyter-widgets/base",
      "model_module_version": "1.2.0",
      "model_name": "LayoutModel",
      "state": {}
     },
     "e6740b163cb0440187689b5b3ce04ef9": {
      "model_module": "@jupyter-widgets/base",
      "model_module_version": "1.2.0",
      "model_name": "LayoutModel",
      "state": {}
     },
     "e82f7d071a2e4dd4a18adc3d71411bf8": {
      "model_module": "@jupyter-widgets/controls",
      "model_module_version": "1.5.0",
      "model_name": "IntProgressModel",
      "state": {
       "bar_style": "danger",
       "layout": "IPY_MODEL_9329dd8cd4444902a25e14cce990c217",
       "max": 1,
       "style": "IPY_MODEL_ce0aaaa08a074f3bb330cee5e1830592"
      }
     },
     "ea2aacda4ced4c7087e6802a172768ac": {
      "model_module": "@jupyter-widgets/base",
      "model_module_version": "1.2.0",
      "model_name": "LayoutModel",
      "state": {}
     },
     "eac37784a7a947858e2477a69ef1a128": {
      "model_module": "@jupyter-widgets/controls",
      "model_module_version": "1.5.0",
      "model_name": "DescriptionStyleModel",
      "state": {
       "description_width": ""
      }
     },
     "ee48f87ee773435d8342f186e12162c9": {
      "model_module": "@jupyter-widgets/base",
      "model_module_version": "1.2.0",
      "model_name": "LayoutModel",
      "state": {}
     },
     "f0d6b01fbe1c4f6e9259827b5475e0af": {
      "model_module": "@jupyter-widgets/base",
      "model_module_version": "1.2.0",
      "model_name": "LayoutModel",
      "state": {}
     },
     "f1fe99ad5083463e8ca643c3235c4ac2": {
      "model_module": "@jupyter-widgets/controls",
      "model_module_version": "1.5.0",
      "model_name": "DescriptionStyleModel",
      "state": {
       "description_width": ""
      }
     },
     "f328b6f3688847deaea8e2fad16619ac": {
      "model_module": "@jupyter-widgets/base",
      "model_module_version": "1.2.0",
      "model_name": "LayoutModel",
      "state": {}
     },
     "fa140d341be7410898c7855364a5dc29": {
      "model_module": "@jupyter-widgets/controls",
      "model_module_version": "1.5.0",
      "model_name": "HBoxModel",
      "state": {
       "children": [
        "IPY_MODEL_78444fa21d544790999a3f74cc8d6eb3",
        "IPY_MODEL_e4af32210ad344149f59c91fd2f6c997"
       ],
       "layout": "IPY_MODEL_db253c54646e4771a6a4f6afa8d6ea7b"
      }
     },
     "ff149c42a95e4ccfa1fb39f25ec4c240": {
      "model_module": "@jupyter-widgets/controls",
      "model_module_version": "1.5.0",
      "model_name": "DescriptionStyleModel",
      "state": {
       "description_width": ""
      }
     }
    },
    "version_major": 2,
    "version_minor": 0
   }
  }
 },
 "nbformat": 4,
 "nbformat_minor": 4
}
