{
 "cells": [
  {
   "cell_type": "code",
   "execution_count": null,
   "metadata": {},
   "outputs": [],
   "source": [
    "import sys\n",
    "sys.path.append('../tensorflow_fcos')"
   ]
  },
  {
   "cell_type": "code",
   "execution_count": null,
   "metadata": {},
   "outputs": [],
   "source": [
    "import tensorflow as tf\n",
    "from models.fcos import FCOS\n",
    "from data.bdd_dataset.dataset import dataset_fn\n",
    "from utils.visualization import draw_boxes_cv2, imshow\n",
    "from skimage.io import imread, imsave\n",
    "import numpy as np\n",
    "import os\n",
    "from glob import glob\n",
    "\n",
    "print('TensorFlow:', tf.__version__)"
   ]
  },
  {
   "cell_type": "code",
   "execution_count": null,
   "metadata": {},
   "outputs": [],
   "source": [
    "strategy = tf.distribute.OneDeviceStrategy(device='/gpu:0')\n",
    "data_dir = os.environ['HOME'] + '/datasets/BDD100k'\n",
    "H, W = 720, 1280\n",
    "config = {\n",
    "    'mode': 'train',\n",
    "    'distribute_strategy': strategy,\n",
    "    'image_height': H,\n",
    "    'image_width': W,\n",
    "    'num_classes': 10,\n",
    "    'dataset_fn': dataset_fn,\n",
    "    'data_dir': data_dir,\n",
    "    'batch_size': 8,\n",
    "    'epochs': 25,\n",
    "    'learning_rate': 5e-4,\n",
    "    'checkpoint_prefix': 'ckpt',\n",
    "    'model_dir': '../model_files',\n",
    "    'tensorboard_log_dir': './logs',\n",
    "    'log_after': 20,\n",
    "    'restore_parameters': True\n",
    "}"
   ]
  },
  {
   "cell_type": "code",
   "execution_count": null,
   "metadata": {},
   "outputs": [],
   "source": [
    "fcos = FCOS(config)"
   ]
  },
  {
   "cell_type": "code",
   "execution_count": null,
   "metadata": {},
   "outputs": [],
   "source": [
    "fcos.latest_checkpoint"
   ]
  },
  {
   "cell_type": "code",
   "execution_count": null,
   "metadata": {},
   "outputs": [],
   "source": [
    "images = glob('/home/antpc/datasets/cityscapes/leftImg8bit/test/*/*')"
   ]
  },
  {
   "cell_type": "code",
   "execution_count": null,
   "metadata": {},
   "outputs": [],
   "source": [
    "def ltrb2boxes(centers, ltbr):  \n",
    "    boxes = tf.concat([\n",
    "        centers - ltbr[:, :2],\n",
    "        centers + ltbr[:, 2:]], axis=-1)\n",
    "    return boxes\n",
    "\n",
    "def decode_predictions(logits, \n",
    "                       score_threshold=0.0, centers=None):\n",
    "    cls_target = tf.concat(logits[0], axis=1)\n",
    "    ctr_target = tf.concat(logits[1], axis=1)\n",
    "    reg_target = tf.concat(logits[2], axis=1)    \n",
    "    \n",
    "    cls_target = tf.sigmoid(cls_target)\n",
    "    ctr_target = tf.sigmoid(ctr_target)\n",
    "    \n",
    "    cls_scores = tf.reduce_max(cls_target[0], axis=1)\n",
    "    cls_ids = tf.argmax(cls_target[0], axis=1)\n",
    "    score_map = cls_scores * ctr_target[0, :, 0]\n",
    "\n",
    "    valid_indices = tf.where(score_map > score_threshold)[:, 0]\n",
    "\n",
    "    valid_scores = tf.gather(score_map, valid_indices)\n",
    "    valid_cls_ids = tf.gather(cls_ids, valid_indices)\n",
    "    valid_centers = tf.gather(centers, valid_indices)\n",
    "    valid_ltrb = tf.gather(reg_target[0], valid_indices)\n",
    "\n",
    "    decoded_boxes = ltrb2boxes(valid_centers, valid_ltrb)\n",
    "\n",
    "    nms_indices = tf.image.non_max_suppression(decoded_boxes,\n",
    "                                               valid_scores, \n",
    "                                               max_output_size=300)\n",
    "    boxes = tf.gather(decoded_boxes, nms_indices)\n",
    "    scores = tf.gather(valid_scores, nms_indices)\n",
    "    ids = tf.gather(valid_cls_ids, nms_indices)\n",
    "    return boxes, scores, ids"
   ]
  },
  {
   "cell_type": "code",
   "execution_count": null,
   "metadata": {},
   "outputs": [],
   "source": [
    "i = 0\n",
    "image = tf.io.read_file(images[i])\n",
    "image = tf.image.decode_image(image)\n",
    "image = tf.image.resize(image, [H, W])\n",
    "image_disp = np.uint8(image.numpy().copy())\n",
    "image = image[:, :, ::-1] - tf.constant([103.939, 116.779, 123.68])\n",
    "image = image[None, ...]"
   ]
  },
  {
   "cell_type": "code",
   "execution_count": null,
   "metadata": {},
   "outputs": [],
   "source": [
    "logits = fcos.model(image, training=False)\n",
    "boxes, scores, ids = decode_predictions(logits,\n",
    "                       score_threshold=0.01,\n",
    "                       centers=fcos._centers)\n",
    "boxes = boxes.numpy()\n",
    "ii = draw_boxes_cv2(image_disp, boxes, H, W)\n",
    "imshow(ii)"
   ]
  },
  {
   "cell_type": "code",
   "execution_count": null,
   "metadata": {},
   "outputs": [],
   "source": []
  }
 ],
 "metadata": {
  "kernelspec": {
   "display_name": "Python 3",
   "language": "python",
   "name": "python3"
  },
  "language_info": {
   "codemirror_mode": {
    "name": "ipython",
    "version": 3
   },
   "file_extension": ".py",
   "mimetype": "text/x-python",
   "name": "python",
   "nbconvert_exporter": "python",
   "pygments_lexer": "ipython3",
   "version": "3.6.8"
  },
  "widgets": {
   "application/vnd.jupyter.widget-state+json": {
    "state": {},
    "version_major": 2,
    "version_minor": 0
   }
  }
 },
 "nbformat": 4,
 "nbformat_minor": 4
}
